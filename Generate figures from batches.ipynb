{
 "cells": [
  {
   "cell_type": "code",
   "execution_count": 13,
   "metadata": {},
   "outputs": [],
   "source": [
    "%matplotlib inline\n",
    "import scipy\n",
    "import pandas as pd\n",
    "import numpy as np\n",
    "from tqdm import tnrange\n",
    "\n",
    "# plotting libraries\n",
    "import matplotlib.pyplot as plt\n",
    "import seaborn as sns\n",
    "from scipy.stats import ttest_1samp\n",
    "\n",
    "# exclude! ...\n",
    "from opt import generate_exclusion_list\n",
    "\n",
    "\n",
    "sns.set_context('paper', font_scale=1.5)"
   ]
  },
  {
   "cell_type": "markdown",
   "metadata": {},
   "source": [
    "# Load all of the data.\n",
    "The datafiles for the simulations are large and not saved to the repository for this reason. They've been seeded for replicability and can be rerun with the following scripts:\n",
    "\n",
    "1) To regenerate these simultions, run the script \n",
    "`batch_run_generative_models.py`\n",
    "\n",
    "2) To concatenate the datasets:\n",
    "`merge_dataframes.py`\n",
    "\n",
    "Note that the simulations will take several hours (up to a day) on a modern laptop.\n",
    "\n"
   ]
  },
  {
   "cell_type": "code",
   "execution_count": 2,
   "metadata": {},
   "outputs": [],
   "source": [
    "# tag = '_update_all_trials_gp=1e-10_prune=500.0_mu=-0.5_scale=1.0'\n",
    "tag = '_update_all_trials__gp=1e-10_prune=500_mu=-0.5_scale=1.0_invtemp_mu=2.0_invtemp_scale=0.5'"
   ]
  },
  {
   "cell_type": "code",
   "execution_count": 3,
   "metadata": {},
   "outputs": [],
   "source": [
    "# load experiment 2 goals\n",
    "sims_exp_2 = pd.read_pickle('exp_2_goals_batch_of_sims{}.pkl'.format(tag))\n",
    "sims_exp_2 = pd.concat([\n",
    "    sims_exp_2,\n",
    "    pd.read_pickle('exp_2_goals_batch_of_sims_q_update_all_trials__gp=1e-10_prune=500_mu=-0.5_scale=1.0_invtemp_mu=2.0_invtemp_scale=0.5.pkl'),\n",
    "    pd.read_pickle('exp_2_goals_batch_of_sims_kal_update_all_trials__gp=1e-10_prune=500_mu=-0.5_scale=1.0_invtemp_mu=2.0_invtemp_scale=0.5.pkl')\n",
    "  ], sort=False)\n",
    "sims_exp_2.drop(['Start Location', 'End Location', 'Goal Locations', 'Action Map', 'Walls'], axis=1, inplace=True)\n",
    "sims_exp_2 = sims_exp_2[sims_exp_2['In Goal']]\n",
    "sims_exp_2['Training'] = sims_exp_2.Context <= 2\n",
    "sims_exp_2['Acc'] = pd.to_numeric(sims_exp_2.Reward)"
   ]
  },
  {
   "cell_type": "code",
   "execution_count": 4,
   "metadata": {},
   "outputs": [],
   "source": [
    "# load experiment 4 goals\n",
    "sims_exp_4 = pd.read_pickle('exp_4_goals_batch_of_sims{}.pkl'.format(tag))\n",
    "sims_exp_4 = pd.concat([\n",
    "    sims_exp_4,\n",
    "    pd.read_pickle('exp_4_goals_batch_of_sims_q_update_all_trials__gp=1e-10_prune=500_mu=-0.5_scale=1.0_invtemp_mu=2.0_invtemp_scale=0.5.pkl'),\n",
    "    pd.read_pickle('exp_4_goals_batch_of_sims_kal_update_all_trials__gp=1e-10_prune=500_mu=-0.5_scale=1.0_invtemp_mu=2.0_invtemp_scale=0.5.pkl')\n",
    "  ], sort=False)\n",
    "sims_exp_4.drop(['Start Location', 'End Location', 'Goal Locations', 'Action Map', 'Walls'], axis=1, inplace=True)\n",
    "sims_exp_4 = sims_exp_4[sims_exp_4['In Goal']]\n",
    "sims_exp_4['Training'] = sims_exp_4.Context < 9\n",
    "sims_exp_4['Acc'] = pd.to_numeric(sims_exp_4.Reward)"
   ]
  },
  {
   "cell_type": "code",
   "execution_count": 5,
   "metadata": {},
   "outputs": [],
   "source": [
    "# load experiment 3 goals\n",
    "sims_exp_3 = pd.read_pickle('exp_3_goals_batch_of_sims{}.pkl'.format(tag))\n",
    "sims_exp_3 = pd.concat([\n",
    "    sims_exp_3,\n",
    "    pd.read_pickle('exp_3_goals_batch_of_sims_q_update_all_trials__gp=1e-10_prune=500_mu=-0.5_scale=1.0_invtemp_mu=2.0_invtemp_scale=0.5.pkl'),\n",
    "    pd.read_pickle('exp_3_goals_batch_of_sims_kal_update_all_trials__gp=1e-10_prune=500_mu=-0.5_scale=1.0_invtemp_mu=2.0_invtemp_scale=0.5.pkl')\n",
    "  ], sort=False)\n",
    "sims_exp_3.drop(['Start Location', 'End Location', 'Goal Locations', 'Action Map', 'Walls'], axis=1, inplace=True)\n",
    "sims_exp_3 = sims_exp_3[sims_exp_3['In Goal']]\n",
    "sims_exp_3['Training'] = sims_exp_3.Context < 7\n",
    "sims_exp_3['Acc'] = pd.to_numeric(sims_exp_3.Reward)"
   ]
  },
  {
   "cell_type": "code",
   "execution_count": 6,
   "metadata": {},
   "outputs": [],
   "source": [
    "# General helper function\n",
    "def reduce_range(df, list_iterations):\n",
    "    new_df = [None] * len(list_iterations)\n",
    "    for subj in list_iterations:\n",
    "        new_df.append(df.loc[df.Iteration == subj, :])\n",
    "    return pd.concat(new_df)\n",
    "\n",
    "def draw_batch(df, batch_size=114):\n",
    "    iterations = np.array(list(set(df.Iteration)))\n",
    "    n_batches = len(set(df[u'Iteration']))\n",
    "    sampled_iteration = set()\n",
    "    while len(sampled_iteration) < batch_size:\n",
    "        sampled_iteration.add(iterations[np.random.randint(0, n_batches)])\n",
    "    sampled_iteration = list(sampled_iteration)\n",
    "    return reduce_range(df, sampled_iteration)\n",
    "\n",
    "def get_diff_stats(score, idx=0):\n",
    "    \"\"\"\n",
    "    score: pandas.DataFrame with the comparions precomputed\n",
    "    \"\"\"\n",
    "    diff = score.groupby(['Model', 'Comparison','Iteration']).mean().reset_index()\n",
    "    stats_output = []\n",
    "    for m in set(diff.Model):\n",
    "        for c in set(score.Comparison):\n",
    "            selection = (diff.Model == m) &(diff.Comparison == c)\n",
    "            t, p = ttest_1samp(diff.loc[selection, 'Difference Score'].values, 0)\n",
    "            df = len(diff.loc[selection, 'Difference Score'].values) - 1\n",
    "            M = np.mean(diff.loc[selection, 'Difference Score'].values)\n",
    "            d = M / np.std(diff.loc[selection, 'Difference Score'].values)\n",
    "            \n",
    "            stats_output.append({\n",
    "                'Model': m,\n",
    "                'Sample': idx,\n",
    "                'Comparison': c,\n",
    "                'Mean': M,\n",
    "                'd-prime': d,\n",
    "                't-statistic': t,\n",
    "                'p-value': p,\n",
    "                'df': df,\n",
    "            })\n",
    "    return stats_output\n",
    "\n",
    "# construct the 95% HDI for the means\n",
    "def get_hdi(unsorted_values, hdi=0.95):\n",
    "    tail = (1. - hdi) / 2\n",
    "    sorted_values = np.sort(unsorted_values)\n",
    "    lb = sorted_values[int(np.floor(sorted_values.shape[0] * tail))]\n",
    "    ub = sorted_values[int(np.ceil(sorted_values.shape[0] * (1 - tail)))]\n",
    "    return lb, ub\n",
    "    \n",
    "def score_acc_2_goals(sampled_batch, batch=0):\n",
    "    accuracy = list()\n",
    "    \n",
    "    df0 = sampled_batch[sampled_batch['In Goal']].copy()\n",
    "    for m in set(df0.Model):\n",
    "        for it in set(df0.Iteration):\n",
    "            subj_df = df0.loc[(df0.Model == m) & (df0.Iteration == it), :]\n",
    "            accuracy.append({\n",
    "                'Condition': 'Training',\n",
    "                'Acc': subj_df.loc[subj_df.Context < 3, 'Acc'].mean(),\n",
    "                'Iteration': it,\n",
    "                'Model': m,\n",
    "                'Batch': ii,\n",
    "            })\n",
    "            accuracy.append({\n",
    "                'Condition': 'Test',\n",
    "                'Acc': subj_df.loc[subj_df.Context >= 3, 'Acc'].mean(),\n",
    "                'Iteration': it,\n",
    "                'Model': m,\n",
    "                'Batch': ii,\n",
    "            })\n",
    "    return accuracy\n"
   ]
  },
  {
   "cell_type": "code",
   "execution_count": 7,
   "metadata": {},
   "outputs": [],
   "source": [
    "# print b\n",
    "# b = 1.4\n",
    "# print np.exp(p * float(b) - logsumexp(p * float(b)))\n",
    "# print entropy(np.exp(p * float(b) - logsumexp(p * float(b))))"
   ]
  },
  {
   "cell_type": "code",
   "execution_count": null,
   "metadata": {},
   "outputs": [],
   "source": []
  },
  {
   "cell_type": "code",
   "execution_count": 8,
   "metadata": {},
   "outputs": [],
   "source": [
    "# ## from scipy.special import logsumexp\n",
    "# p = np.array([0.5, 0.5, 1.5, 0.5])\n",
    "\n",
    "# def entropy(p):\n",
    "#     return -np.sum(np.log2(p) * p)\n",
    "\n",
    "# betas = np.arange(1, 20, 0.1)\n",
    "# entropy_list = []\n",
    "# for b in betas:\n",
    "#     q = p*float(b)\n",
    "#     pmf = np.exp(q - logsumexp(q))\n",
    "#     entropy_list.append(entropy(pmf))\n",
    "\n",
    "# plt.plot(betas, entropy_list)"
   ]
  },
  {
   "cell_type": "markdown",
   "metadata": {},
   "source": [
    "# Experiment 1: Joint Structure"
   ]
  },
  {
   "cell_type": "code",
   "execution_count": 32,
   "metadata": {},
   "outputs": [],
   "source": [
    "# experiment 2 goals\n",
    "def draw_exp_2_sample():\n",
    "    n_task_a = 49\n",
    "    n_task_b = 80\n",
    "\n",
    "    # sampled_batch = draw_batch(sims_exp_2, batch_size=n_task_b)\n",
    "\n",
    "    # the sample sizes of task A and task B are uneven in the subject pool,\n",
    "    # reduce the sample accordingly\n",
    "    b_sample = draw_batch(sims_exp_2[sims_exp_2.Task == 'B'],  batch_size=n_task_b)\n",
    "    a_sample = draw_batch(sims_exp_2[sims_exp_2.Task == 'A'],  batch_size=n_task_a)\n",
    "\n",
    "    return pd.concat([b_sample, a_sample])\n",
    "\n",
    "def score_experiment_2(sampled_batch, idx):\n",
    "    sampled_batch0 = sampled_batch[\n",
    "        (~sampled_batch.Training) & (sampled_batch['Times Seen Context'] <= 4)\n",
    "    ].copy()\n",
    "    sampled_batch0['Correct Goal'] = ['A'] * len(sampled_batch0)\n",
    "    sampled_batch0.loc[sampled_batch0.Context == 5, 'Correct Goal'] = 'B'\n",
    "    grouped = sampled_batch0.groupby(['Model', 'Task', 'Correct Goal'])\n",
    "    scored = grouped.mean()['Acc'].reset_index()\n",
    "    scored['Sample'] = idx\n",
    "    return scored\n",
    "\n"
   ]
  },
  {
   "cell_type": "code",
   "execution_count": 33,
   "metadata": {},
   "outputs": [
    {
     "data": {
      "application/vnd.jupyter.widget-view+json": {
       "model_id": "f5bcc49696544b57a457996b9dd652e4",
       "version_major": 2,
       "version_minor": 0
      },
      "text/plain": [
       "HBox(children=(IntProgress(value=0, max=200), HTML(value=u'')))"
      ]
     },
     "metadata": {},
     "output_type": "display_data"
    },
    {
     "name": "stdout",
     "output_type": "stream",
     "text": [
      "\n"
     ]
    }
   ],
   "source": [
    "stats_exp_2_goals = []\n",
    "exp_2_goals_acc = []\n",
    "\n",
    "\n",
    "n_batches=200\n",
    "\n",
    "for ii in tnrange(n_batches):\n",
    "    sampled_batches = draw_exp_2_sample()\n",
    "    \n",
    "    stats_exp_2_goals.append(score_experiment_2(sampled_batches, ii))\n",
    "    \n",
    "    # get the overall accuracy\n",
    "    exp_2_goals_acc += score_acc_2_goals(sampled_batches, batch=ii)\n",
    "stats_exp_2_goals = pd.concat(stats_exp_2_goals)\n",
    "exp_2_goals_acc = pd.DataFrame(exp_2_goals_acc)\n"
   ]
  },
  {
   "cell_type": "code",
   "execution_count": 34,
   "metadata": {
    "scrolled": true
   },
   "outputs": [
    {
     "data": {
      "image/png": "[encoded data removed]",
      "text/plain": [
       "<Figure size 760.21x216 with 5 Axes>"
      ]
     },
     "metadata": {},
     "output_type": "display_data"
    }
   ],
   "source": [
    "with sns.axes_style('ticks'):\n",
    "    g = sns.catplot(\n",
    "        hue='Correct Goal', y='Acc', data=stats_exp_2_goals[stats_exp_2_goals.Model != 'Flat'],\n",
    "        kind='bar', col='Model',\n",
    "        x='Task',  hue_order=['A', 'B'], ci=None,\n",
    "        palette='Set2', height=3.0, aspect=0.63, estimator=np.median,\n",
    "    )\n",
    "    sns.despine(offset=5)\n",
    "\n",
    "    g.set_xticklabels('Switch Repeat'.split())\n",
    "    g.set_xlabels('')\n",
    "    g.set_ylabels('Accuracy')\n",
    "    g.axes[0][0].set_yticks(np.arange(0, 1.01, 0.5))\n",
    "    g.axes[0][0].set_ylim(0.0, 1)\n",
    "\n",
    "    g.axes[0][0].set_title('Indep.')\n",
    "    g.axes[0][1].set_title('Joint')\n",
    "    g.axes[0][2].set_title('Meta')\n",
    "    \n",
    "    # plot the error bars\n",
    "    def _plot_hdi(model, ax):\n",
    "        v = stats_exp_2_goals.loc[\n",
    "            (stats_exp_2_goals.Model == model) & \n",
    "            (stats_exp_2_goals.Task == 'A') & \n",
    "            (stats_exp_2_goals['Correct Goal'] == 'A')  ,'Acc'].values\n",
    "        lb, ub = get_hdi(v)\n",
    "        ax.plot([-0.2, -0.2], [lb, ub], lw=2, color='k')\n",
    "        \n",
    "        v = stats_exp_2_goals.loc[\n",
    "            (stats_exp_2_goals.Model == model) & \n",
    "            (stats_exp_2_goals.Task == 'A') & \n",
    "            (stats_exp_2_goals['Correct Goal'] == 'B')  ,'Acc'].values\n",
    "        lb, ub = get_hdi(v)\n",
    "        ax.plot([0.2, 0.2], [lb, ub], lw=2, color='k')\n",
    "\n",
    "        v = stats_exp_2_goals.loc[\n",
    "            (stats_exp_2_goals.Model == model) & \n",
    "            (stats_exp_2_goals.Task == 'B') & \n",
    "            (stats_exp_2_goals['Correct Goal'] == 'A')  ,'Acc'].values\n",
    "        lb, ub = get_hdi(v)\n",
    "        ax.plot([0.8, 0.8], [lb, ub], lw=2, color='k')\n",
    "        v = stats_exp_2_goals.loc[\n",
    "            (stats_exp_2_goals.Model == model) & \n",
    "            (stats_exp_2_goals.Task == 'B') & \n",
    "            (stats_exp_2_goals['Correct Goal'] == 'B')  ,'Acc'].values\n",
    "        lb, ub = get_hdi(v)\n",
    "        ax.plot([1.2, 1.2], [lb, ub], lw=2, color='k')\n",
    "        \n",
    "    _plot_hdi('Independent', g.axes[0][0])\n",
    "    _plot_hdi('Joint', g.axes[0][1])\n",
    "    _plot_hdi('Meta', g.axes[0][2])\n",
    "#     plt.savefig('exp_2_goals_fig_models.png', dpi=300, bbox_inches='tight')"
   ]
  },
  {
   "cell_type": "code",
   "execution_count": 35,
   "metadata": {},
   "outputs": [
    {
     "name": "stdout",
     "output_type": "stream",
     "text": [
      "Independent (task): (-0.0012453762755102054, (-0.02614795918367352, 0.026339285714285676))\n",
      "Independent (goal): (0.18408274872448982, (0.15306122448979598, 0.21173469387755106))\n",
      "\n",
      "Joint (task): (-0.1955479910714286, (-0.23207908163265312, -0.16065051020408172))\n",
      "Joint (goal): (0.0246312181122449, (0.0, 0.061224489795918324))\n",
      "\n",
      "Meta (task): (-0.17399784757653058, (-0.21677295918367356, -0.13217474489795922))\n",
      "Meta (goal): (0.043738281250000004, (0.009375000000000022, 0.0892857142857143))\n",
      "\n",
      "Flat (task): (-0.0011559311224489744, (-0.04285714285714293, 0.04400510204081631))\n",
      "Flat (goal): (0.0006894132653061247, (-0.0357142857142857, 0.042187500000000044))\n",
      "\n",
      "Q-Learner (task): (0.007597735969387755, (-0.038775510204081653, 0.06785714285714295))\n",
      "Q-Learner (goal): (0.0013027742346938753, (-0.04336734693877553, 0.04531249999999998))\n",
      "\n",
      "KalmanUCB (task): (0.0006278698979591802, (-0.03730867346938771, 0.03673469387755102))\n",
      "KalmanUCB (goal): (-0.0005471938775510188, (-0.028061224489795977, 0.0357142857142857))\n"
     ]
    }
   ],
   "source": [
    "# get statistics on the simple effects\n",
    "model = 'Independent'\n",
    "\n",
    "def hdi_main_effect_task(model):\n",
    "    v0 = stats_exp_2_goals.loc[\n",
    "                (stats_exp_2_goals.Model == model) & \n",
    "                (stats_exp_2_goals.Task == 'A') ,'Acc'].values\n",
    "    v1 = stats_exp_2_goals.loc[\n",
    "                (stats_exp_2_goals.Model == model) & \n",
    "                (stats_exp_2_goals.Task == 'B') ,'Acc'].values\n",
    "    diff = v0 - v1\n",
    "    diff.sort()    \n",
    "    return np.mean(diff), get_hdi(diff)\n",
    "\n",
    "def hdi_main_effect_goal(model):\n",
    "    v0 = stats_exp_2_goals.loc[\n",
    "                (stats_exp_2_goals.Model == model) & \n",
    "                (stats_exp_2_goals['Correct Goal'] == 'A') ,'Acc'].values\n",
    "    v1 = stats_exp_2_goals.loc[\n",
    "                (stats_exp_2_goals.Model == model) & \n",
    "                (stats_exp_2_goals['Correct Goal'] == 'B') ,'Acc'].values\n",
    "    diff = v0 - v1\n",
    "    diff.sort()\n",
    "    \n",
    "    return np.mean(diff), get_hdi(diff)\n",
    "\n",
    "print 'Independent (task): {}'.format(hdi_main_effect_task('Independent'))\n",
    "print 'Independent (goal): {}'.format(hdi_main_effect_goal('Independent'))\n",
    "print\n",
    "print 'Joint (task): {}'.format(hdi_main_effect_task('Joint'))\n",
    "print 'Joint (goal): {}'.format(hdi_main_effect_goal('Joint'))\n",
    "print\n",
    "print 'Meta (task): {}'.format(hdi_main_effect_task('Meta'))\n",
    "print 'Meta (goal): {}'.format(hdi_main_effect_goal('Meta'))\n",
    "print\n",
    "print 'Flat (task): {}'.format(hdi_main_effect_task('Flat'))\n",
    "print 'Flat (goal): {}'.format(hdi_main_effect_goal('Flat'))\n",
    "print\n",
    "print 'Q-Learner (task): {}'.format(hdi_main_effect_task('Q-Learner'))\n",
    "print 'Q-Learner (goal): {}'.format(hdi_main_effect_goal('Q-Learner'))\n",
    "print\n",
    "print 'KalmanUCB (task): {}'.format(hdi_main_effect_task('KalmanUCB'))\n",
    "print 'KalmanUCB (goal): {}'.format(hdi_main_effect_goal('KalmanUCB'))"
   ]
  },
  {
   "cell_type": "code",
   "execution_count": 36,
   "metadata": {},
   "outputs": [],
   "source": [
    "def main_effect_task_mean_sd(model):\n",
    "    v0 = stats_exp_2_goals.loc[\n",
    "                (stats_exp_2_goals.Model == model) & \n",
    "                (stats_exp_2_goals.Task == 'A') ,'Acc'].values\n",
    "    v1 = stats_exp_2_goals.loc[\n",
    "                (stats_exp_2_goals.Model == model) & \n",
    "                (stats_exp_2_goals.Task == 'B') ,'Acc'].values\n",
    "    diff = -v0 + v1\n",
    "    diff.sort()    \n",
    "    return np.mean(diff), np.std(diff)\n",
    "\n",
    "def main_effect_goal_mean_sd(model):\n",
    "    v0 = stats_exp_2_goals.loc[\n",
    "                (stats_exp_2_goals.Model == model) & \n",
    "                (stats_exp_2_goals['Correct Goal'] == 'A') ,'Acc'].values\n",
    "    v1 = stats_exp_2_goals.loc[\n",
    "                (stats_exp_2_goals.Model == model) & \n",
    "                (stats_exp_2_goals['Correct Goal'] == 'B') ,'Acc'].values\n",
    "    diff = v0 - v1\n",
    "    diff.sort()\n",
    "    \n",
    "    return np.mean(diff), np.std(diff)\n"
   ]
  },
  {
   "cell_type": "code",
   "execution_count": 37,
   "metadata": {},
   "outputs": [
    {
     "data": {
      "text/html": [
       "<div>\n",
       "<style scoped>\n",
       "    .dataframe tbody tr th:only-of-type {\n",
       "        vertical-align: middle;\n",
       "    }\n",
       "\n",
       "    .dataframe tbody tr th {\n",
       "        vertical-align: top;\n",
       "    }\n",
       "\n",
       "    .dataframe thead th {\n",
       "        text-align: right;\n",
       "    }\n",
       "</style>\n",
       "<table border=\"1\" class=\"dataframe\">\n",
       "  <thead>\n",
       "    <tr style=\"text-align: right;\">\n",
       "      <th></th>\n",
       "      <th>Comparison</th>\n",
       "      <th>Mean</th>\n",
       "    </tr>\n",
       "  </thead>\n",
       "  <tbody>\n",
       "    <tr>\n",
       "      <th>0</th>\n",
       "      <td>Task</td>\n",
       "      <td>0.195548</td>\n",
       "    </tr>\n",
       "    <tr>\n",
       "      <th>1</th>\n",
       "      <td>Goal</td>\n",
       "      <td>0.024631</td>\n",
       "    </tr>\n",
       "  </tbody>\n",
       "</table>\n",
       "</div>"
      ],
      "text/plain": [
       "  Comparison      Mean\n",
       "0       Task  0.195548\n",
       "1       Goal  0.024631"
      ]
     },
     "execution_count": 37,
     "metadata": {},
     "output_type": "execute_result"
    }
   ],
   "source": [
    "model = 'Joint'\n",
    "mu_goal, sd_goal = main_effect_goal_mean_sd(model)\n",
    "mu_task, sd_task = main_effect_task_mean_sd(model) \n",
    "pd.DataFrame({\n",
    "    \"Comparison\": ['Task', 'Goal'],\n",
    "    'Mean': [mu_task, mu_goal],\n",
    "})"
   ]
  },
  {
   "cell_type": "code",
   "execution_count": 38,
   "metadata": {},
   "outputs": [],
   "source": [
    "\n",
    "def plot_contrasts_exp_2_goals(model, model_name):\n",
    "    with sns.plotting_context('paper', font_scale=1.75):\n",
    "        with sns.axes_style('ticks'):\n",
    "            fig, ax  = plt.subplots(figsize=(1.0, 2.5))\n",
    "            mu_goal, sd_goal = main_effect_goal_mean_sd(model)\n",
    "            mu_task, sd_task = main_effect_task_mean_sd(model) \n",
    "            sns.barplot(x='Comparison', y='Mean', \n",
    "                    data=pd.DataFrame({\"Comparison\": ['Task', 'Goal'],'Mean': [mu_task, mu_goal],}\n",
    "                                     ), color='skyblue', ax=ax, ci=None,\n",
    "                        order=['Task', 'Goal'])\n",
    "\n",
    "\n",
    "            ax.set_ylabel(r'Difference Score', labelpad=-3)\n",
    "            ax.set_xlabel('')\n",
    "            ax.plot([-1, 2], [0, 0], 'k:')\n",
    "            ax.set_xlim([-0.5, 1.5])\n",
    "            ax.set_yticks(np.arange(-0.1, 0.35, 0.1))\n",
    "            ax.set_ylim([-0.1, 0.35])\n",
    "            sns.despine(offset=5)\n",
    "\n",
    "            plt.xticks([0, 1], [r'Rep.', 'Goal' ], rotation='vertical')\n",
    "    #         plt.xticks([0, 1], [r'R', 'G' ])\n",
    "\n",
    "            def plot_stars(x0):\n",
    "                ax.annotate(\"*\", xy=(x0-0.175, 0.25), size=22)\n",
    "\n",
    "            # plot the error bars\n",
    "            _, (lb, ub) = hdi_main_effect_task(model)\n",
    "            ax.plot([0, 0],[mu_task-sd_task, mu_task+sd_task], 'k', lw=2)\n",
    "\n",
    "            if np.sign(lb) == np.sign(ub):\n",
    "                plot_stars(0)\n",
    "\n",
    "            _, (lb, ub) = hdi_main_effect_goal(model)\n",
    "            ax.plot([1, 1],[mu_goal-sd_goal, mu_goal+sd_goal], 'k', lw=2)\n",
    "\n",
    "            if np.sign(lb) == np.sign(ub):\n",
    "                plot_stars(1)\n",
    "\n",
    "            ax.set_title(model_name)\n",
    "            return fig, ax\n",
    "\n",
    "def plot_contrasts_exp_2_goals_to_save(model, model_name, height=0.75):\n",
    "    with sns.plotting_context('paper', font_scale=0.5):\n",
    "        with sns.axes_style('ticks'):\n",
    "            fig, ax  = plt.subplots(figsize=(height/2.5, height))\n",
    "            mu_goal, sd_goal = main_effect_goal_mean_sd(model)\n",
    "            mu_task, sd_task = main_effect_task_mean_sd(model) \n",
    "            sns.barplot(x='Comparison', y='Mean', \n",
    "                    data=pd.DataFrame({\"Comparison\": ['Task', 'Goal'],'Mean': [mu_task, mu_goal],}\n",
    "                                     ), color='skyblue', ax=ax, ci=None,\n",
    "                        order=['Task', 'Goal'])\n",
    "\n",
    "\n",
    "            ax.set_ylabel(r'Difference Score', labelpad=0)\n",
    "#             ax.set_ylabel('')\n",
    "            ax.set_xlabel('')\n",
    "            ax.plot([-1, 2], [0, 0], 'k:')\n",
    "            ax.set_xlim([-0.5, 1.5])\n",
    "            ax.set_yticks(np.arange(-0.1, 0.35, 0.1))\n",
    "            ax.set_ylim([-0.1, 0.35])\n",
    "            sns.despine(offset=5)\n",
    "\n",
    "            plt.xticks([0, 1], [r'Rep.', 'Goal' ], rotation='vertical')\n",
    "    #         plt.xticks([0, 1], [r'R', 'G' ])\n",
    "\n",
    "            def plot_stars(x0):\n",
    "                ax.annotate(\"*\", xy=(x0-0.175, 0.25), size=8)\n",
    "\n",
    "            # plot the error bars\n",
    "            _, (lb, ub) = hdi_main_effect_task(model)\n",
    "            ax.plot([0, 0],[mu_task-sd_task, mu_task+sd_task], 'k', lw=1)\n",
    "\n",
    "            if np.sign(lb) == np.sign(ub):\n",
    "                plot_stars(0)\n",
    "\n",
    "            _, (lb, ub) = hdi_main_effect_goal(model)\n",
    "            ax.plot([1, 1],[mu_goal-sd_goal, mu_goal+sd_goal], 'k', lw=1)\n",
    "\n",
    "            if np.sign(lb) == np.sign(ub):\n",
    "                plot_stars(1)\n",
    "                \n",
    "            ax.spines['left'].set_lw(0.2)\n",
    "            ax.spines['bottom'].set_lw(0.2)\n",
    "            ax.tick_params(width=0.2)\n",
    "\n",
    "            ax.set_title(model_name)\n",
    "            return fig, ax\n",
    "\n"
   ]
  },
  {
   "cell_type": "code",
   "execution_count": 39,
   "metadata": {},
   "outputs": [
    {
     "data": {
      "image/png": "[encoded data removed]",
      "text/plain": [
       "<Figure size 72x180 with 1 Axes>"
      ]
     },
     "metadata": {},
     "output_type": "display_data"
    }
   ],
   "source": [
    "fig, _ = plot_contrasts_exp_2_goals('Joint', 'Joint')\n"
   ]
  },
  {
   "cell_type": "code",
   "execution_count": 40,
   "metadata": {},
   "outputs": [
    {
     "data": {
      "image/png": "[encoded data removed]",
      "text/plain": [
       "<Figure size 72x180 with 1 Axes>"
      ]
     },
     "metadata": {},
     "output_type": "display_data"
    }
   ],
   "source": [
    "fig, _ = plot_contrasts_exp_2_goals('Independent', 'Indep.')"
   ]
  },
  {
   "cell_type": "code",
   "execution_count": 41,
   "metadata": {},
   "outputs": [
    {
     "data": {
      "image/png": "[encoded data removed]",
      "text/plain": [
       "<Figure size 72x180 with 1 Axes>"
      ]
     },
     "metadata": {},
     "output_type": "display_data"
    }
   ],
   "source": [
    "fig, _ = plot_contrasts_exp_2_goals('Meta', 'Meta')"
   ]
  },
  {
   "cell_type": "code",
   "execution_count": 42,
   "metadata": {},
   "outputs": [
    {
     "data": {
      "image/png": "[encoded data removed]",
      "text/plain": [
       "<Figure size 21.6x54 with 1 Axes>"
      ]
     },
     "metadata": {},
     "output_type": "display_data"
    },
    {
     "data": {
      "image/png": "[encoded data removed]",
      "text/plain": [
       "<Figure size 21.6x54 with 1 Axes>"
      ]
     },
     "metadata": {},
     "output_type": "display_data"
    },
    {
     "data": {
      "image/png": "[encoded data removed]",
      "text/plain": [
       "<Figure size 21.6x54 with 1 Axes>"
      ]
     },
     "metadata": {},
     "output_type": "display_data"
    },
    {
     "data": {
      "image/png": "[encoded data removed]",
      "text/plain": [
       "<Figure size 21.6x54 with 1 Axes>"
      ]
     },
     "metadata": {},
     "output_type": "display_data"
    },
    {
     "data": {
      "image/png": "[encoded data removed]",
      "text/plain": [
       "<Figure size 21.6x54 with 1 Axes>"
      ]
     },
     "metadata": {},
     "output_type": "display_data"
    },
    {
     "data": {
      "image/png": "[encoded data removed]",
      "text/plain": [
       "<Figure size 21.6x54 with 1 Axes>"
      ]
     },
     "metadata": {},
     "output_type": "display_data"
    }
   ],
   "source": [
    "fig, ax = plot_contrasts_exp_2_goals_to_save('Joint', 'Joint')\n",
    "fig.savefig('exp_2_goals_model_joint.png', dpi=300, bbox_inches='tight')\n",
    "fig, _ = plot_contrasts_exp_2_goals_to_save('Independent', 'Indep.')\n",
    "fig.savefig('exp_2_goals_model_indep.png', dpi=300, bbox_inches='tight')\n",
    "fig, _ = plot_contrasts_exp_2_goals_to_save('Meta', 'Meta')\n",
    "fig.savefig('exp_2_goals_model_meta.png', dpi=300, bbox_inches='tight')\n",
    "fig, _ = plot_contrasts_exp_2_goals_to_save('Flat', 'Flat')\n",
    "fig.savefig('exp_2_goals_model_flat.png', dpi=300, bbox_inches='tight')\n",
    "fig, _ = plot_contrasts_exp_2_goals_to_save('KalmanUCB', 'UCB')\n",
    "fig.savefig('exp_2_goals_model_kal.png', dpi=300, bbox_inches='tight')\n",
    "fig, _ = plot_contrasts_exp_2_goals_to_save('Q-Learner', 'Q')\n",
    "fig.savefig('exp_2_goals_model_q.png', dpi=300, bbox_inches='tight')"
   ]
  },
  {
   "cell_type": "code",
   "execution_count": 43,
   "metadata": {},
   "outputs": [
    {
     "data": {
      "image/png": "[encoded data removed]",
      "text/plain": [
       "<Figure size 72x180 with 1 Axes>"
      ]
     },
     "metadata": {},
     "output_type": "display_data"
    }
   ],
   "source": [
    "fig, _ = plot_contrasts_exp_2_goals('Meta', 'Meta')"
   ]
  },
  {
   "cell_type": "code",
   "execution_count": 44,
   "metadata": {},
   "outputs": [
    {
     "data": {
      "image/png": "[encoded data removed]",
      "text/plain": [
       "<Figure size 72x180 with 1 Axes>"
      ]
     },
     "metadata": {},
     "output_type": "display_data"
    }
   ],
   "source": [
    "fig, _ = plot_contrasts_exp_2_goals('Flat', 'Flat')"
   ]
  },
  {
   "cell_type": "code",
   "execution_count": 45,
   "metadata": {},
   "outputs": [
    {
     "data": {
      "image/png": "[encoded data removed]",
      "text/plain": [
       "<Figure size 72x180 with 1 Axes>"
      ]
     },
     "metadata": {},
     "output_type": "display_data"
    }
   ],
   "source": [
    "fig, _ = plot_contrasts_exp_2_goals('KalmanUCB', 'UCB')\n"
   ]
  },
  {
   "cell_type": "code",
   "execution_count": 46,
   "metadata": {},
   "outputs": [
    {
     "data": {
      "image/png": "[encoded data removed]",
      "text/plain": [
       "<Figure size 72x180 with 1 Axes>"
      ]
     },
     "metadata": {},
     "output_type": "display_data"
    }
   ],
   "source": [
    "fig, _ = plot_contrasts_exp_2_goals('Q-Learner', 'Q')\n"
   ]
  },
  {
   "cell_type": "code",
   "execution_count": 47,
   "metadata": {},
   "outputs": [],
   "source": [
    "fig.savefig('exp_2_goals_model_q.svg', dpi=300, bbox_inches='tight')"
   ]
  },
  {
   "cell_type": "code",
   "execution_count": 48,
   "metadata": {},
   "outputs": [
    {
     "name": "stdout",
     "output_type": "stream",
     "text": [
      "Independent: 1.0\n",
      "Joint: 0.96\n",
      "Meta: 0.995\n",
      "Flat: 0.5075\n",
      "Q: 0.51\n",
      "UCB: 0.4425\n"
     ]
    },
    {
     "data": {
      "image/png": "[encoded data removed]",
      "text/plain": [
       "<Figure size 144x72 with 2 Axes>"
      ]
     },
     "metadata": {
      "needs_background": "light"
     },
     "output_type": "display_data"
    }
   ],
   "source": [
    "taskA = stats_exp_2_goals.Task == 'A'\n",
    "goalA = stats_exp_2_goals['Correct Goal'] == 'A'\n",
    "model = stats_exp_2_goals.Model\n",
    "cc = sns.color_palette('colorblind')\n",
    "\n",
    "with sns.plotting_context('paper', font_scale=0.5):\n",
    "    _, axes = plt.subplots(1, 2, figsize=(2, 1.0), sharey=True)\n",
    "    def plot_dist(m_name, label, ii):\n",
    "            sns.distplot(stats_exp_2_goals.loc[(~taskA) & (model == m_name), 'Acc'].values - \\\n",
    "                         stats_exp_2_goals.loc[(taskA) & (model == m_name), 'Acc'].values, label=label, color=cc[ii],\n",
    "                        ax=axes[0])\n",
    "\n",
    "    plot_dist('Independent','Independent', 0)\n",
    "    plot_dist('Joint','Joint', 1)\n",
    "    plot_dist('Meta','Meta', 2)\n",
    "    plot_dist('Flat', 'Flat', 3)\n",
    "    plot_dist('Q-Learner', 'Q', 4)\n",
    "    plot_dist('KalmanUCB', 'UCB', 5)\n",
    "\n",
    "    def plot_dist(m_name, label, ii):\n",
    "        sns.distplot(stats_exp_2_goals.loc[(goalA) & (model == m_name), 'Acc'].values - \\\n",
    "                     stats_exp_2_goals.loc[(~goalA) & (model == m_name), 'Acc'].values, label=label, color=cc[ii],\n",
    "                    ax=axes[1])\n",
    "        \n",
    "        print \"{}: {}\".format(label, np.mean(stats_exp_2_goals.loc[(goalA) & (model == m_name), 'Acc'].values > \\\n",
    "                     stats_exp_2_goals.loc[(~goalA) & (model == m_name), 'Acc'].values))\n",
    "\n",
    "    plot_dist('Independent','Independent', 0)\n",
    "    plot_dist('Joint','Joint', 1)\n",
    "    plot_dist('Meta','Meta', 2)\n",
    "    plot_dist('Flat', 'Flat', 3)\n",
    "    plot_dist('Q-Learner', 'Q', 4)\n",
    "    plot_dist('KalmanUCB', 'UCB', 5)\n",
    "\n",
    "\n",
    "    axes[0].set_ylabel('Frequency')\n",
    "    axes[0].set_xlabel('Accuracy Difference')\n",
    "    axes[0].set_title('Repeat vs Switch')\n",
    "\n",
    "    axes[1].set_xlabel('Accuracy Difference')\n",
    "    axes[1].set_title('Goal A vs B')\n",
    "    sns.despine()\n",
    "    \n",
    "    for ax in axes:\n",
    "        ax.spines['left'].set_lw(0.2)\n",
    "        ax.spines['bottom'].set_lw(0.2)\n",
    "        ax.tick_params(width=0.2)\n",
    "\n",
    "    lgd = axes[1].legend(loc='upper right', bbox_to_anchor=(2.2, 1.00), framealpha=0)\n",
    "\n",
    "    for ii in [0, 1]: axes[ii].axvline(x=0, ls=':', color='k') \n",
    "\n",
    "    plt.savefig('exp_2_goals_effect_size_all.png', dpi=300,bbox_extra_artists=(lgd,),\n",
    "                bbox_inches='tight')\n"
   ]
  },
  {
   "cell_type": "code",
   "execution_count": 49,
   "metadata": {},
   "outputs": [],
   "source": [
    "model_acc_exp2 = stats_exp_2_goals.groupby(['Model']).mean().sort_values('Acc')"
   ]
  },
  {
   "cell_type": "code",
   "execution_count": 50,
   "metadata": {},
   "outputs": [
    {
     "name": "stderr",
     "output_type": "stream",
     "text": [
      "100%|██████████| 196/196 [00:42<00:00,  6.03it/s]\n"
     ]
    },
    {
     "name": "stdout",
     "output_type": "stream",
     "text": [
      "N clusters = 2, Covarainace = diag\n",
      "129\n"
     ]
    }
   ],
   "source": [
    "# for comparison, load the subject data\n",
    "exp_2_goals_subj = pd.read_pickle('data/exp3_data.pkl')\n",
    "\n",
    "\n",
    "\n",
    "excluded = generate_exclusion_list(exp_2_goals_subj, training_contexts=3, binom=False)\n",
    "for e in excluded:\n",
    "    exp_2_goals_subj = exp_2_goals_subj[exp_2_goals_subj.subj != e]\n",
    "print len(list(set(exp_2_goals_subj.subj)))\n",
    "exp_2_goals_subj['Accuracy'] = exp_2_goals_subj['Reward'] / 10.0\n",
    "exp_2_goals_subj['Training'] = exp_2_goals_subj.loc[:, 'Context'] < 4"
   ]
  },
  {
   "cell_type": "code",
   "execution_count": 51,
   "metadata": {},
   "outputs": [
    {
     "data": {
      "image/png": "[encoded data removed]",
      "text/plain": [
       "<Figure size 144x72 with 2 Axes>"
      ]
     },
     "metadata": {
      "needs_background": "light"
     },
     "output_type": "display_data"
    }
   ],
   "source": [
    "with sns.plotting_context('paper', font_scale=0.4):\n",
    "\n",
    "    order = pd.DataFrame(exp_2_goals_acc).groupby(['Condition', 'Model']\n",
    "                ).mean().loc['Training'].sort_values('Acc', ascending=False)\n",
    "\n",
    "    g = sns.catplot(data=pd.DataFrame(exp_2_goals_acc),\n",
    "                y='Model', x='Acc', ci='sd', col='Condition',\n",
    "                col_order=['Training', 'Test'],\n",
    "                kind='bar', orient='h', color=[0.75, 0.75, 0.75], height=1.0, \n",
    "                aspect=1., order=order.index, errwidth=0.5,\n",
    "                   )\n",
    "\n",
    "    plt.ylabel('')\n",
    "    plt.xlim([0, 1])\n",
    "    for ii in [0, 1]:\n",
    "        g.axes[0][ii].set_xlabel('Accuracy')\n",
    "        g.axes[0][ii].axvline(x=0.5, c='k', ls=':')\n",
    "    df0 = sims_exp_4.groupby(['Model']).mean().sort_values('Acc')\n",
    "\n",
    "    g.axes[0][0].set_ylabel('')\n",
    "\n",
    "    g.axes[0][0].set_title('Training')\n",
    "    g.axes[0][1].set_title('Test')\n",
    "\n",
    "    for ax, _bool in zip(g.axes[0], [True, False]):\n",
    "        mu = exp_2_goals_subj[\n",
    "            (exp_2_goals_subj['In Goal']) & (_bool == exp_2_goals_subj['Training'])\n",
    "        ].groupby('subj').mean().mean()['Accuracy']\n",
    "        std = exp_2_goals_subj[\n",
    "            exp_2_goals_subj['In Goal'] & (_bool == exp_2_goals_subj['Training'])\n",
    "        ].groupby('subj').mean().std()['Accuracy'] \n",
    "\n",
    "\n",
    "        ax.barh([6.0], [mu], facecolor='k', alpha=0.5 )\n",
    "        ax.plot([mu-std, mu+std], [6., 6.], c='k', lw=0.5)\n",
    "\n",
    "    plt.ylabel('')\n",
    "    plt.xlim([0, 1])\n",
    "    plt.xlabel('Accuracy')\n",
    "    \n",
    "        \n",
    "    for ax in g.axes[0]:\n",
    "        ax.spines['left'].set_lw(0.2)\n",
    "        ax.spines['bottom'].set_lw(0.2)\n",
    "        ax.tick_params(width=0.2)\n",
    "\n",
    "    g.axes[0][0].set_yticks(range(0, 7))\n",
    "    g.axes[0][0].set_yticklabels(order.index.to_list() + ['Subjects'])\n",
    "\n",
    "    plt.savefig('exp_2_goals_acc.png', dpi=300)"
   ]
  },
  {
   "cell_type": "code",
   "execution_count": 52,
   "metadata": {},
   "outputs": [
    {
     "data": {
      "text/html": [
       "<div>\n",
       "<style scoped>\n",
       "    .dataframe tbody tr th:only-of-type {\n",
       "        vertical-align: middle;\n",
       "    }\n",
       "\n",
       "    .dataframe tbody tr th {\n",
       "        vertical-align: top;\n",
       "    }\n",
       "\n",
       "    .dataframe thead th {\n",
       "        text-align: right;\n",
       "    }\n",
       "</style>\n",
       "<table border=\"1\" class=\"dataframe\">\n",
       "  <thead>\n",
       "    <tr style=\"text-align: right;\">\n",
       "      <th></th>\n",
       "      <th></th>\n",
       "      <th>Acc</th>\n",
       "      <th>Iteration</th>\n",
       "    </tr>\n",
       "    <tr>\n",
       "      <th>Model</th>\n",
       "      <th>Condition</th>\n",
       "      <th></th>\n",
       "      <th></th>\n",
       "    </tr>\n",
       "  </thead>\n",
       "  <tbody>\n",
       "    <tr>\n",
       "      <th rowspan=\"2\" valign=\"top\">Flat</th>\n",
       "      <th>Test</th>\n",
       "      <td>0.887597</td>\n",
       "      <td>2609.217054</td>\n",
       "    </tr>\n",
       "    <tr>\n",
       "      <th>Training</th>\n",
       "      <td>0.889535</td>\n",
       "      <td>2609.217054</td>\n",
       "    </tr>\n",
       "    <tr>\n",
       "      <th rowspan=\"2\" valign=\"top\">Independent</th>\n",
       "      <th>Test</th>\n",
       "      <td>0.911337</td>\n",
       "      <td>2609.217054</td>\n",
       "    </tr>\n",
       "    <tr>\n",
       "      <th>Training</th>\n",
       "      <td>0.864341</td>\n",
       "      <td>2609.217054</td>\n",
       "    </tr>\n",
       "    <tr>\n",
       "      <th rowspan=\"2\" valign=\"top\">Joint</th>\n",
       "      <th>Test</th>\n",
       "      <td>0.912791</td>\n",
       "      <td>2609.217054</td>\n",
       "    </tr>\n",
       "    <tr>\n",
       "      <th>Training</th>\n",
       "      <td>0.910853</td>\n",
       "      <td>2609.217054</td>\n",
       "    </tr>\n",
       "    <tr>\n",
       "      <th rowspan=\"2\" valign=\"top\">KalmanUCB</th>\n",
       "      <th>Test</th>\n",
       "      <td>0.828004</td>\n",
       "      <td>2609.217054</td>\n",
       "    </tr>\n",
       "    <tr>\n",
       "      <th>Training</th>\n",
       "      <td>0.826550</td>\n",
       "      <td>2609.217054</td>\n",
       "    </tr>\n",
       "    <tr>\n",
       "      <th rowspan=\"2\" valign=\"top\">Meta</th>\n",
       "      <th>Test</th>\n",
       "      <td>0.918120</td>\n",
       "      <td>2609.217054</td>\n",
       "    </tr>\n",
       "    <tr>\n",
       "      <th>Training</th>\n",
       "      <td>0.902132</td>\n",
       "      <td>2609.217054</td>\n",
       "    </tr>\n",
       "    <tr>\n",
       "      <th rowspan=\"2\" valign=\"top\">Q-Learner</th>\n",
       "      <th>Test</th>\n",
       "      <td>0.861434</td>\n",
       "      <td>2609.217054</td>\n",
       "    </tr>\n",
       "    <tr>\n",
       "      <th>Training</th>\n",
       "      <td>0.859012</td>\n",
       "      <td>2609.217054</td>\n",
       "    </tr>\n",
       "  </tbody>\n",
       "</table>\n",
       "</div>"
      ],
      "text/plain": [
       "                            Acc    Iteration\n",
       "Model       Condition                       \n",
       "Flat        Test       0.887597  2609.217054\n",
       "            Training   0.889535  2609.217054\n",
       "Independent Test       0.911337  2609.217054\n",
       "            Training   0.864341  2609.217054\n",
       "Joint       Test       0.912791  2609.217054\n",
       "            Training   0.910853  2609.217054\n",
       "KalmanUCB   Test       0.828004  2609.217054\n",
       "            Training   0.826550  2609.217054\n",
       "Meta        Test       0.918120  2609.217054\n",
       "            Training   0.902132  2609.217054\n",
       "Q-Learner   Test       0.861434  2609.217054\n",
       "            Training   0.859012  2609.217054"
      ]
     },
     "execution_count": 52,
     "metadata": {},
     "output_type": "execute_result"
    }
   ],
   "source": [
    "# here we do significance testing to show that none of the batches\n",
    "# of models is every below change at the group level\n",
    "\n",
    "pd.DataFrame(exp_2_goals_acc).groupby(['Model','Condition','Batch']\n",
    "                                     ).mean().groupby(['Model','Condition']).min()"
   ]
  },
  {
   "cell_type": "code",
   "execution_count": 53,
   "metadata": {},
   "outputs": [],
   "source": [
    "# here we do signficiance testing to show whether there is a benefit to generalization\n",
    "\n",
    "comp_df = pd.DataFrame(exp_2_goals_acc)\n",
    "# batch_v = comp_df.Batch\n",
    "training_v = comp_df.Condition == 'Training'\n",
    "acc_meas = []\n",
    "for ii in set(comp_df.Batch):\n",
    "    # get the accuracy of the Joint and flat models in each condition\n",
    "    b = comp_df.Batch == ii\n",
    "    acc_meas.append({\n",
    "        'Overall': comp_df.loc[b & (comp_df.Model == 'Joint'), 'Acc'].mean() - \\\n",
    "                   comp_df.loc[b & (comp_df.Model == 'Flat'), 'Acc'].mean(),\n",
    "        'Training':comp_df.loc[b & (comp_df.Model == 'Joint') & training_v, 'Acc'].mean() - \\\n",
    "                   comp_df.loc[b & (comp_df.Model == 'Flat') & training_v, 'Acc'].mean(),\n",
    "        'Test':comp_df.loc[b & (comp_df.Model == 'Joint') & (training_v==False), 'Acc'].mean() - \\\n",
    "               comp_df.loc[b & (comp_df.Model == 'Flat') & (training_v==False), 'Acc'].mean(),\n",
    "        'batch': ii\n",
    "        \n",
    "    })\n",
    "    \n",
    "acc_meas = pd.DataFrame(acc_meas)\n"
   ]
  },
  {
   "cell_type": "code",
   "execution_count": 54,
   "metadata": {},
   "outputs": [
    {
     "data": {
      "text/plain": [
       "<matplotlib.axes._subplots.AxesSubplot at 0x12f0be110>"
      ]
     },
     "execution_count": 54,
     "metadata": {},
     "output_type": "execute_result"
    },
    {
     "data": {
      "image/png": "[encoded data removed]",
      "text/plain": [
       "<Figure size 432x288 with 1 Axes>"
      ]
     },
     "metadata": {
      "needs_background": "light"
     },
     "output_type": "display_data"
    }
   ],
   "source": [
    "sns.distplot(acc_meas.Overall, label='Overall')\n",
    "sns.distplot(acc_meas.Test, label='Test')\n",
    "sns.distplot(acc_meas.Training, label='Training')"
   ]
  },
  {
   "cell_type": "code",
   "execution_count": 55,
   "metadata": {},
   "outputs": [
    {
     "name": "stdout",
     "output_type": "stream",
     "text": [
      "0.02090116279069762 0.0\n",
      "0.021366279069767388 0.0\n"
     ]
    }
   ],
   "source": [
    "print np.mean(acc_meas.Training), np.mean(acc_meas.Training < 0)\n",
    "print np.mean(acc_meas.Test), np.mean(acc_meas.Test < 0)"
   ]
  },
  {
   "cell_type": "code",
   "execution_count": 56,
   "metadata": {},
   "outputs": [
    {
     "name": "stdout",
     "output_type": "stream",
     "text": [
      "0.044297480620155004 0.0\n",
      "0.00338178294573644 0.205\n"
     ]
    }
   ],
   "source": [
    "# here we do signficiance testing to show whether there is a benefit to generalization\n",
    "\n",
    "comp_df = pd.DataFrame(exp_2_goals_acc)\n",
    "# batch_v = comp_df.Batch\n",
    "training_v = comp_df.Condition == 'Training'\n",
    "acc_meas = []\n",
    "for ii in set(comp_df.Batch):\n",
    "    # get the accuracy of the Joint and flat models in each condition\n",
    "    b = comp_df.Batch == ii\n",
    "    acc_meas.append({\n",
    "        'Overall': comp_df.loc[b & (comp_df.Model == 'Joint'), 'Acc'].mean() - \\\n",
    "                   comp_df.loc[b & (comp_df.Model == 'Independent'), 'Acc'].mean(),\n",
    "        'Training':comp_df.loc[b & (comp_df.Model == 'Joint') & training_v, 'Acc'].mean() - \\\n",
    "                   comp_df.loc[b & (comp_df.Model == 'Independent') & training_v, 'Acc'].mean(),\n",
    "        'Test':comp_df.loc[b & (comp_df.Model == 'Joint') & (training_v==False), 'Acc'].mean() - \\\n",
    "               comp_df.loc[b & (comp_df.Model == 'Independent') & (training_v==False), 'Acc'].mean(),\n",
    "        'batch': ii\n",
    "        \n",
    "    })\n",
    "    \n",
    "acc_meas = pd.DataFrame(acc_meas)\n",
    "\n",
    "print np.mean(acc_meas.Training), np.mean(acc_meas.Training < 0)\n",
    "print np.mean(acc_meas.Test), np.mean(acc_meas.Test < 0)"
   ]
  },
  {
   "cell_type": "code",
   "execution_count": 57,
   "metadata": {},
   "outputs": [
    {
     "data": {
      "image/png": "[encoded data removed]",
      "text/plain": [
       "<Figure size 180x90 with 2 Axes>"
      ]
     },
     "metadata": {
      "needs_background": "light"
     },
     "output_type": "display_data"
    }
   ],
   "source": [
    "with sns.plotting_context('paper',font_scale=0.6):\n",
    "    order = pd.DataFrame(exp_2_goals_acc).groupby(['Condition', 'Model']\n",
    "            ).mean().loc['Training'].sort_values('Acc', ascending=False)\n",
    "\n",
    "    g = sns.catplot(data=pd.DataFrame(exp_2_goals_acc),\n",
    "                y='Model', x='Acc', ci='sd', col='Condition',\n",
    "                col_order=['Training', 'Test'],\n",
    "                kind='bar', orient='h', color=[0.75, 0.75, 0.75], height=1.25, \n",
    "                aspect=1., order=order.index, errwidth=1.0,\n",
    "                   )\n",
    "\n",
    "    plt.ylabel('')\n",
    "    plt.xlim([0, 1])\n",
    "    for ii in [0, 1]:\n",
    "        g.axes[0][ii].set_xlabel('Accuracy')\n",
    "        g.axes[0][ii].axvline(x=0.5, c='k', ls=':')\n",
    "    df0 = sims_exp_4.groupby(['Model']).mean().sort_values('Acc')\n",
    "\n",
    "    g.axes[0][0].set_ylabel('')\n",
    "\n",
    "    g.axes[0][0].set_title('Training')\n",
    "    g.axes[0][1].set_title('Test')\n",
    "\n",
    "    for ax, _bool in zip(g.axes[0], [True, False]):\n",
    "        mu = exp_2_goals_subj[\n",
    "            (exp_2_goals_subj['In Goal']) & (_bool == exp_2_goals_subj['Training'])\n",
    "        ].groupby('subj').mean().mean()['Accuracy']\n",
    "        std = exp_2_goals_subj[\n",
    "            exp_2_goals_subj['In Goal'] & (_bool == exp_2_goals_subj['Training'])\n",
    "        ].groupby('subj').mean().std()['Accuracy'] \n",
    "\n",
    "\n",
    "        ax.barh([6.0], [mu], facecolor='k', alpha=0.5 )\n",
    "        ax.plot([mu-std, mu+std], [6., 6.], c='k', lw=1)\n",
    "\n",
    "    plt.ylabel('')\n",
    "    plt.xlim([0, 1])\n",
    "    plt.xlabel('Accuracy')\n",
    "\n",
    "    g.axes[0][0].set_yticks(range(0, 7))\n",
    "    g.axes[0][0].set_yticklabels(order.index.to_list() + ['Subjects'])\n",
    "\n",
    "    plt.savefig('temp.svg', dpi=300)"
   ]
  },
  {
   "cell_type": "code",
   "execution_count": 58,
   "metadata": {},
   "outputs": [
    {
     "data": {
      "image/png": "[encoded data removed]",
      "text/plain": [
       "<Figure size 576x216 with 2 Axes>"
      ]
     },
     "metadata": {
      "needs_background": "light"
     },
     "output_type": "display_data"
    }
   ],
   "source": [
    "taskA = stats_exp_2_goals.Task == 'A'\n",
    "goalA = stats_exp_2_goals['Correct Goal'] == 'A'\n",
    "model = stats_exp_2_goals.Model\n",
    "cc = sns.color_palette('colorblind')\n",
    "\n",
    "_, axes = plt.subplots(1, 2, figsize=(8, 3), sharey=True)\n",
    "\n",
    "def plot_dist(m_name, ii):\n",
    "    sns.distplot(stats_exp_2_goals.loc[(~taskA) & (model == m_name), 'Acc'].values - \\\n",
    "                 stats_exp_2_goals.loc[(taskA) & (model == m_name), 'Acc'].values, label=m_name, color=cc[ii],\n",
    "                ax=axes[0])\n",
    "\n",
    "plot_dist('Independent', 0)\n",
    "plot_dist('Joint', 1)\n",
    "plot_dist('Meta', 2)\n",
    "\n",
    "def plot_dist(m_name, ii):\n",
    "    sns.distplot(stats_exp_2_goals.loc[(goalA) & (model == m_name), 'Acc'].values - \\\n",
    "                 stats_exp_2_goals.loc[(~goalA) & (model == m_name), 'Acc'].values, label=m_name, color=cc[ii],\n",
    "                ax=axes[1])\n",
    "\n",
    "plot_dist('Independent', 0)\n",
    "plot_dist('Joint', 1)\n",
    "plot_dist('Meta', 2)\n",
    "\n",
    "axes[1].legend(loc='upper right', bbox_to_anchor=(2.0, 1.0))\n",
    "axes[0].set_ylabel('Frequency')\n",
    "axes[0].set_xlabel('Accuracy Difference')\n",
    "axes[0].set_title('Repeat vs Switch')\n",
    "\n",
    "axes[1].set_xlabel('Accuracy Difference')\n",
    "axes[1].set_title('Goal A vs B')\n",
    "sns.despine()\n",
    "\n",
    "\n",
    "lgd = axes[1].legend(loc='upper right', bbox_to_anchor=(1.75, 1.0), framealpha=0)\n",
    "\n",
    "for ii in [0, 1]: axes[ii].axvline(x=0, ls=':', color='k') \n",
    "\n",
    "plt.savefig('exp_2_goals_effect_size_genonly.png', dpi=300,bbox_extra_artists=(lgd,),\n",
    "            bbox_inches='tight')\n",
    "\n"
   ]
  },
  {
   "cell_type": "code",
   "execution_count": null,
   "metadata": {},
   "outputs": [],
   "source": []
  },
  {
   "cell_type": "markdown",
   "metadata": {},
   "source": [
    "# Experiment 2: Independent Structure"
   ]
  },
  {
   "cell_type": "code",
   "execution_count": 59,
   "metadata": {},
   "outputs": [],
   "source": [
    "def get_hdi_exp4goals(df, model, comparison, hdi=0.95):\n",
    "    v = df.loc[(df.Model==model) & (df.Comparison == comparison), 'Mean'].values\n",
    "    return get_hdi(v, hdi)\n",
    "\n",
    "def get_mean_exp_4_goals(df, model, comparison, hdi=0.95):\n",
    "    tail = (1. - hdi) / 2\n",
    "    v = df.loc[(df.Model==model) & (df.Comparison == comparison), 'Mean'].values\n",
    "    return v.mean()\n",
    "\n",
    "def score_acc_4_goals(sampled_batch, batch=0):\n",
    "    accuracy = list()\n",
    "    \n",
    "    df0 = sampled_batch[sampled_batch['In Goal']].copy()\n",
    "    for m in set(df0.Model):\n",
    "        for it in set(df0.Iteration):\n",
    "            subj_df = df0.loc[(df0.Model == m) & (df0.Iteration == it), :]\n",
    "            accuracy.append({\n",
    "                'Condition': 'Training',\n",
    "                'Acc': subj_df.loc[subj_df.Context < 7, 'Acc'].mean(),\n",
    "                'Iteration': it,\n",
    "                'Model': m,\n",
    "                'Batch': ii,\n",
    "            })\n",
    "            accuracy.append({\n",
    "                'Condition': 'Test',\n",
    "                'Acc': subj_df.loc[subj_df.Context >= 7, 'Acc'].mean(),\n",
    "                'Iteration': it,\n",
    "                'Model': m,\n",
    "                'Batch': ii,\n",
    "            })\n",
    "    return accuracy\n",
    "            \n",
    "\n",
    "\n",
    "def score_experiment_4_goals(sampled_batch):\n",
    "  \n",
    "    df0 = sampled_batch[sampled_batch['In Goal'] \n",
    "                  & (sampled_batch.Context >= 7) \n",
    "                 ].copy()\n",
    "    \n",
    "    score = list()\n",
    "    for m in set(df0.Model):\n",
    "        for it in set(df0.Iteration):\n",
    "            subj_df = df0.loc[(df0.Model == m) & (df0.Iteration == it), :]\n",
    "\n",
    "            a = (subj_df.Context == 7)\n",
    "            b = (subj_df.Context == 8)\n",
    "            diff_1 = subj_df.loc[a, :].groupby('Times Seen Context').mean()['Acc'] - \\\n",
    "                subj_df.loc[b, :].groupby('Times Seen Context').mean()['Acc']\n",
    "\n",
    "            a = (subj_df.Context == 7) | (subj_df.Context == 8)\n",
    "            b = (subj_df.Context == 9) | (subj_df.Context == 10)\n",
    "            diff_2 =subj_df.loc[a, :].groupby('Times Seen Context').mean()['Acc'] - \\\n",
    "                subj_df.loc[b, :].groupby('Times Seen Context').mean()['Acc']\n",
    "\n",
    "            a = (subj_df.Context == 9)\n",
    "            b = (subj_df.Context == 10)\n",
    "            diff_3 = \\\n",
    "                subj_df.loc[a, :].groupby('Times Seen Context').mean()['Acc'] - \\\n",
    "                subj_df.loc[b, :].groupby('Times Seen Context').mean()['Acc']\n",
    "\n",
    "\n",
    "            n = len(diff_1)\n",
    "            for t in range(len(diff_1)):\n",
    "                score.append({\n",
    "                            'Trials in Context': t,\n",
    "                            'Comparison': 'T1 vs T2',\n",
    "                            'Difference Score': diff_1.values[t],\n",
    "                            'Iteration': it,\n",
    "                            'Model': m,\n",
    "                    })\n",
    "                \n",
    "            for t in range(len(diff_2)):\n",
    "                score.append({\n",
    "                            'Trials in Context': t,\n",
    "                            'Comparison': 'T1+2 vs T3+4',\n",
    "                            'Difference Score': diff_2.values[t],\n",
    "                            'Iteration': it,\n",
    "                            'Model': m,\n",
    "                    })\n",
    "                \n",
    "            for t in range(len(diff_3)):\n",
    "                score.append({\n",
    "                            'Trials in Context': t,\n",
    "                            'Comparison': 'T3 vs T4',\n",
    "                            'Difference Score': diff_3.values[t],\n",
    "                            'Iteration': it,\n",
    "                            'Model': m,\n",
    "                    })\n",
    "                \n",
    "\n",
    "    return pd.DataFrame(score) \n"
   ]
  },
  {
   "cell_type": "code",
   "execution_count": 60,
   "metadata": {},
   "outputs": [
    {
     "data": {
      "application/vnd.jupyter.widget-view+json": {
       "model_id": "3c06112f2a0344d08081027f68191eab",
       "version_major": 2,
       "version_minor": 0
      },
      "text/plain": [
       "HBox(children=(IntProgress(value=0, max=200), HTML(value=u'')))"
      ]
     },
     "metadata": {},
     "output_type": "display_data"
    },
    {
     "name": "stdout",
     "output_type": "stream",
     "text": [
      "\n"
     ]
    }
   ],
   "source": [
    "stats_exp_4_goals = []\n",
    "\n",
    "n_batches = 200\n",
    "# n_batches = 5\n",
    "hdi_interval = 0.95\n",
    "\n",
    "goal_counts_exp_4_goals = []\n",
    "exp_4_goals_acc = []\n",
    "\n",
    "for ii in tnrange(n_batches):\n",
    "    batched_data = draw_batch(sims_exp_4, batch_size=114)\n",
    "    \n",
    "    # count the goals tried in the first trial of each test context\n",
    "    gcd = batched_data[batched_data['In Goal'] & (batched_data.Context > 6) & \n",
    "                   (batched_data['Times Seen Context'] == 1) \n",
    "                      ].copy()\n",
    "    gcd['Map'] = ['1'] * len(gcd)\n",
    "    gcd.loc[(gcd.Context == 7) | (gcd.Context == 8), 'Map'] = 1\n",
    "    gcd.loc[(gcd.Context == 9) | (gcd.Context == 10), 'Map'] = 2\n",
    "    gcd['Sample'] = ii\n",
    "\n",
    "    # Because \"In Goal\" is a boolean that is always true here, we count that\n",
    "    goal_counts_exp_4_goals.append(\n",
    "        gcd.groupby(['Model', 'Map', 'Chosen Goal']).count()['In Goal'].reset_index()\n",
    "    )\n",
    "    \n",
    "    \n",
    "    # get the difference scores\n",
    "    scored = score_experiment_4_goals(batched_data)\n",
    "    stats_exp_4_goals += get_diff_stats(scored, idx=ii)\n",
    "    \n",
    "    # get the overall accuracy\n",
    "    exp_4_goals_acc += score_acc_4_goals(batched_data, batch=ii)\n",
    "    \n",
    "stats_exp_4_goals = pd.DataFrame(stats_exp_4_goals)\n",
    "goal_counts_exp_4_goals = pd.concat(goal_counts_exp_4_goals)"
   ]
  },
  {
   "cell_type": "code",
   "execution_count": 61,
   "metadata": {},
   "outputs": [
    {
     "name": "stderr",
     "output_type": "stream",
     "text": [
      "100%|██████████| 148/148 [01:51<00:00,  1.26it/s]\n"
     ]
    },
    {
     "name": "stdout",
     "output_type": "stream",
     "text": [
      "N clusters = 2, Covarainace = diag\n"
     ]
    }
   ],
   "source": [
    "# load subject data for the accuracy comparison\n",
    "\n",
    "exp_4_goals_subj = pd.read_pickle('data/exp2_data.pkl')\n",
    "\n",
    "# exclude! ...\n",
    "excluded = generate_exclusion_list(\n",
    "    exp_4_goals_subj, training_contexts=7, goal_chance=1/4.)\n",
    "for e in excluded:\n",
    "    exp_4_goals_subj = exp_4_goals_subj[exp_4_goals_subj.subj != e]\n",
    "uids = list(set(exp_4_goals_subj.subj))\n",
    "exp_4_goals_subj['Accuracy'] = exp_4_goals_subj['Reward'] / 10.0\n",
    "exp_4_goals_subj['Training'] = exp_4_goals_subj.loc[:, 'Context'] < 8\n"
   ]
  },
  {
   "cell_type": "code",
   "execution_count": 62,
   "metadata": {},
   "outputs": [
    {
     "data": {
      "image/png": "[encoded data removed]",
      "text/plain": [
       "<Figure size 158.4x79.2 with 2 Axes>"
      ]
     },
     "metadata": {
      "needs_background": "light"
     },
     "output_type": "display_data"
    }
   ],
   "source": [
    "with sns.plotting_context('paper', font_scale=0.5):\n",
    "\n",
    "\n",
    "    order = pd.DataFrame(exp_4_goals_acc).groupby(['Condition', 'Model']\n",
    "                ).mean().loc['Training'].sort_values('Acc', ascending=False)\n",
    "\n",
    "    g = sns.catplot(data=pd.DataFrame(exp_4_goals_acc),\n",
    "                y='Model', x='Acc', ci='sd', col='Condition',\n",
    "                col_order=['Training', 'Test'],\n",
    "                kind='bar', orient='h', color=[0.75, 0.75, 0.75], height=1.1, \n",
    "                aspect=1., order=order.index, errwidth=0.5,\n",
    "                   )\n",
    "\n",
    "    plt.ylabel('')\n",
    "    plt.xlim([0, 1])\n",
    "    for ii in [0, 1]:\n",
    "        g.axes[0][ii].set_xlabel('Accuracy')\n",
    "        g.axes[0][ii].axvline(x=0.25, c='k', ls=':', lw=0.5)\n",
    "    df0 = sims_exp_4.groupby(['Model']).mean().sort_values('Acc')\n",
    "\n",
    "    g.axes[0][0].set_ylabel('')\n",
    "\n",
    "    g.axes[0][0].set_title('Training')\n",
    "    g.axes[0][1].set_title('Test')\n",
    "\n",
    "    for ax, _bool in zip(g.axes[0], [True, False]):\n",
    "        mu = exp_4_goals_subj[\n",
    "            (exp_4_goals_subj['In Goal']) & (_bool == exp_4_goals_subj['Training'])\n",
    "        ].groupby('subj').mean().mean()['Accuracy']\n",
    "        std = exp_4_goals_subj[\n",
    "            exp_4_goals_subj['In Goal'] & (_bool == exp_4_goals_subj['Training'])\n",
    "        ].groupby('subj').mean().std()['Accuracy'] \n",
    "\n",
    "\n",
    "        ax.barh([6.0], [mu], facecolor='k', alpha=0.5 )\n",
    "        ax.plot([mu-std, mu+std], [6., 6.], c='k', lw=0.5)\n",
    "\n",
    "    plt.ylabel('')\n",
    "    plt.xlim([0, 1])\n",
    "    plt.xlabel('Accuracy')\n",
    "            \n",
    "    for ax in g.axes[0]:\n",
    "        ax.spines['left'].set_lw(0.2)\n",
    "        ax.spines['bottom'].set_lw(0.2)\n",
    "        ax.tick_params(width=0.2)\n",
    "\n",
    "    g.axes[0][0].set_yticks(range(0, 7))\n",
    "    g.axes[0][0].set_yticklabels(order.index.to_list() + ['Subjects'])\n",
    "\n",
    "    plt.savefig('exp_4_goals_acc.png', dpi=300)"
   ]
  },
  {
   "cell_type": "code",
   "execution_count": 63,
   "metadata": {},
   "outputs": [
    {
     "data": {
      "text/html": [
       "<div>\n",
       "<style scoped>\n",
       "    .dataframe tbody tr th:only-of-type {\n",
       "        vertical-align: middle;\n",
       "    }\n",
       "\n",
       "    .dataframe tbody tr th {\n",
       "        vertical-align: top;\n",
       "    }\n",
       "\n",
       "    .dataframe thead th {\n",
       "        text-align: right;\n",
       "    }\n",
       "</style>\n",
       "<table border=\"1\" class=\"dataframe\">\n",
       "  <thead>\n",
       "    <tr style=\"text-align: right;\">\n",
       "      <th></th>\n",
       "      <th></th>\n",
       "      <th>Acc</th>\n",
       "      <th>Iteration</th>\n",
       "    </tr>\n",
       "    <tr>\n",
       "      <th>Condition</th>\n",
       "      <th>Model</th>\n",
       "      <th></th>\n",
       "      <th></th>\n",
       "    </tr>\n",
       "  </thead>\n",
       "  <tbody>\n",
       "    <tr>\n",
       "      <th rowspan=\"6\" valign=\"top\">Test</th>\n",
       "      <th>Flat</th>\n",
       "      <td>0.711974</td>\n",
       "      <td>1251.014518</td>\n",
       "    </tr>\n",
       "    <tr>\n",
       "      <th>Independent</th>\n",
       "      <td>0.635459</td>\n",
       "      <td>1251.014518</td>\n",
       "    </tr>\n",
       "    <tr>\n",
       "      <th>Joint</th>\n",
       "      <td>0.640049</td>\n",
       "      <td>1251.014518</td>\n",
       "    </tr>\n",
       "    <tr>\n",
       "      <th>KalmanUCB</th>\n",
       "      <td>0.649819</td>\n",
       "      <td>1251.014518</td>\n",
       "    </tr>\n",
       "    <tr>\n",
       "      <th>Meta</th>\n",
       "      <td>0.642346</td>\n",
       "      <td>1251.014518</td>\n",
       "    </tr>\n",
       "    <tr>\n",
       "      <th>Q-Learner</th>\n",
       "      <td>0.677482</td>\n",
       "      <td>1251.014518</td>\n",
       "    </tr>\n",
       "    <tr>\n",
       "      <th rowspan=\"6\" valign=\"top\">Training</th>\n",
       "      <th>Flat</th>\n",
       "      <td>0.923036</td>\n",
       "      <td>1251.014518</td>\n",
       "    </tr>\n",
       "    <tr>\n",
       "      <th>Independent</th>\n",
       "      <td>0.856609</td>\n",
       "      <td>1251.014518</td>\n",
       "    </tr>\n",
       "    <tr>\n",
       "      <th>Joint</th>\n",
       "      <td>0.887887</td>\n",
       "      <td>1251.014518</td>\n",
       "    </tr>\n",
       "    <tr>\n",
       "      <th>KalmanUCB</th>\n",
       "      <td>0.757388</td>\n",
       "      <td>1251.014518</td>\n",
       "    </tr>\n",
       "    <tr>\n",
       "      <th>Meta</th>\n",
       "      <td>0.878155</td>\n",
       "      <td>1251.014518</td>\n",
       "    </tr>\n",
       "    <tr>\n",
       "      <th>Q-Learner</th>\n",
       "      <td>0.910382</td>\n",
       "      <td>1251.014518</td>\n",
       "    </tr>\n",
       "  </tbody>\n",
       "</table>\n",
       "</div>"
      ],
      "text/plain": [
       "                            Acc    Iteration\n",
       "Condition Model                             \n",
       "Test      Flat         0.711974  1251.014518\n",
       "          Independent  0.635459  1251.014518\n",
       "          Joint        0.640049  1251.014518\n",
       "          KalmanUCB    0.649819  1251.014518\n",
       "          Meta         0.642346  1251.014518\n",
       "          Q-Learner    0.677482  1251.014518\n",
       "Training  Flat         0.923036  1251.014518\n",
       "          Independent  0.856609  1251.014518\n",
       "          Joint        0.887887  1251.014518\n",
       "          KalmanUCB    0.757388  1251.014518\n",
       "          Meta         0.878155  1251.014518\n",
       "          Q-Learner    0.910382  1251.014518"
      ]
     },
     "execution_count": 63,
     "metadata": {},
     "output_type": "execute_result"
    }
   ],
   "source": [
    "pd.DataFrame(exp_4_goals_acc).groupby(['Condition', 'Model', 'Batch'\n",
    "                                      ]).mean().groupby(['Condition', 'Model']).mean()"
   ]
  },
  {
   "cell_type": "code",
   "execution_count": 64,
   "metadata": {},
   "outputs": [
    {
     "name": "stdout",
     "output_type": "stream",
     "text": [
      "0.06962719298245616 Ttest_1sampResult(statistic=65.74624929899616, pvalue=6.255308164400026e-137)\n"
     ]
    }
   ],
   "source": [
    "diff_test = pd.DataFrame(exp_4_goals_acc).groupby(['Condition', 'Model', 'Batch'\n",
    "                                      ]).mean().loc['Test'].loc['Flat', 'Acc'] - \\\n",
    "    pd.DataFrame(exp_4_goals_acc).groupby(['Condition', 'Model', 'Batch'\n",
    "                                      ]).mean().loc['Test'].loc['Meta', 'Acc']\n",
    "print np.mean(diff_test), ttest_1samp(diff_test, 0)"
   ]
  },
  {
   "cell_type": "code",
   "execution_count": 65,
   "metadata": {},
   "outputs": [
    {
     "name": "stdout",
     "output_type": "stream",
     "text": [
      "0.0351488486842106 Ttest_1sampResult(statistic=86.44061686762126, pvalue=8.929725007481405e-160)\n"
     ]
    }
   ],
   "source": [
    "diff_test = pd.DataFrame(exp_4_goals_acc).groupby(['Condition', 'Model', 'Batch'\n",
    "                                      ]).mean().loc['Training'].loc['Flat', 'Acc'] - \\\n",
    "    pd.DataFrame(exp_4_goals_acc).groupby(['Condition', 'Model', 'Batch'\n",
    "                                      ]).mean().loc['Training'].loc['Joint', 'Acc']\n",
    "print np.mean(diff_test), ttest_1samp(diff_test, 0)"
   ]
  },
  {
   "cell_type": "code",
   "execution_count": 66,
   "metadata": {},
   "outputs": [
    {
     "data": {
      "text/html": [
       "<div>\n",
       "<style scoped>\n",
       "    .dataframe tbody tr th:only-of-type {\n",
       "        vertical-align: middle;\n",
       "    }\n",
       "\n",
       "    .dataframe tbody tr th {\n",
       "        vertical-align: top;\n",
       "    }\n",
       "\n",
       "    .dataframe thead th {\n",
       "        text-align: right;\n",
       "    }\n",
       "</style>\n",
       "<table border=\"1\" class=\"dataframe\">\n",
       "  <thead>\n",
       "    <tr style=\"text-align: right;\">\n",
       "      <th></th>\n",
       "      <th></th>\n",
       "      <th>Mean</th>\n",
       "      <th>Sample</th>\n",
       "      <th>d-prime</th>\n",
       "      <th>df</th>\n",
       "      <th>p-value</th>\n",
       "      <th>t-statistic</th>\n",
       "      <th>Power</th>\n",
       "    </tr>\n",
       "    <tr>\n",
       "      <th>Model</th>\n",
       "      <th>Comparison</th>\n",
       "      <th></th>\n",
       "      <th></th>\n",
       "      <th></th>\n",
       "      <th></th>\n",
       "      <th></th>\n",
       "      <th></th>\n",
       "      <th></th>\n",
       "    </tr>\n",
       "  </thead>\n",
       "  <tbody>\n",
       "    <tr>\n",
       "      <th rowspan=\"3\" valign=\"top\">Flat</th>\n",
       "      <th>T1 vs T2</th>\n",
       "      <td>-0.007478</td>\n",
       "      <td>99.5</td>\n",
       "      <td>-0.022950</td>\n",
       "      <td>113.0</td>\n",
       "      <td>4.663787e-01</td>\n",
       "      <td>-0.243967</td>\n",
       "      <td>0.065</td>\n",
       "    </tr>\n",
       "    <tr>\n",
       "      <th>T1+2 vs T3+4</th>\n",
       "      <td>-0.002171</td>\n",
       "      <td>99.5</td>\n",
       "      <td>-0.009378</td>\n",
       "      <td>113.0</td>\n",
       "      <td>5.209032e-01</td>\n",
       "      <td>-0.099687</td>\n",
       "      <td>0.035</td>\n",
       "    </tr>\n",
       "    <tr>\n",
       "      <th>T3 vs T4</th>\n",
       "      <td>0.006586</td>\n",
       "      <td>99.5</td>\n",
       "      <td>0.019750</td>\n",
       "      <td>113.0</td>\n",
       "      <td>5.067846e-01</td>\n",
       "      <td>0.209943</td>\n",
       "      <td>0.030</td>\n",
       "    </tr>\n",
       "    <tr>\n",
       "      <th rowspan=\"3\" valign=\"top\">Independent</th>\n",
       "      <th>T1 vs T2</th>\n",
       "      <td>0.168509</td>\n",
       "      <td>99.5</td>\n",
       "      <td>0.505447</td>\n",
       "      <td>113.0</td>\n",
       "      <td>1.180066e-04</td>\n",
       "      <td>5.372974</td>\n",
       "      <td>1.000</td>\n",
       "    </tr>\n",
       "    <tr>\n",
       "      <th>T1+2 vs T3+4</th>\n",
       "      <td>0.254507</td>\n",
       "      <td>99.5</td>\n",
       "      <td>1.012795</td>\n",
       "      <td>113.0</td>\n",
       "      <td>1.918648e-12</td>\n",
       "      <td>10.766158</td>\n",
       "      <td>1.000</td>\n",
       "    </tr>\n",
       "    <tr>\n",
       "      <th>T3 vs T4</th>\n",
       "      <td>0.000197</td>\n",
       "      <td>99.5</td>\n",
       "      <td>0.000041</td>\n",
       "      <td>113.0</td>\n",
       "      <td>5.023775e-01</td>\n",
       "      <td>0.000439</td>\n",
       "      <td>0.025</td>\n",
       "    </tr>\n",
       "    <tr>\n",
       "      <th rowspan=\"3\" valign=\"top\">Joint</th>\n",
       "      <th>T1 vs T2</th>\n",
       "      <td>-0.003041</td>\n",
       "      <td>99.5</td>\n",
       "      <td>-0.009131</td>\n",
       "      <td>113.0</td>\n",
       "      <td>4.939505e-01</td>\n",
       "      <td>-0.097062</td>\n",
       "      <td>0.040</td>\n",
       "    </tr>\n",
       "    <tr>\n",
       "      <th>T1+2 vs T3+4</th>\n",
       "      <td>0.161714</td>\n",
       "      <td>99.5</td>\n",
       "      <td>0.629202</td>\n",
       "      <td>113.0</td>\n",
       "      <td>4.631667e-06</td>\n",
       "      <td>6.688508</td>\n",
       "      <td>1.000</td>\n",
       "    </tr>\n",
       "    <tr>\n",
       "      <th>T3 vs T4</th>\n",
       "      <td>-0.124963</td>\n",
       "      <td>99.5</td>\n",
       "      <td>-0.362961</td>\n",
       "      <td>113.0</td>\n",
       "      <td>4.949671e-03</td>\n",
       "      <td>-3.858329</td>\n",
       "      <td>0.990</td>\n",
       "    </tr>\n",
       "    <tr>\n",
       "      <th rowspan=\"3\" valign=\"top\">KalmanUCB</th>\n",
       "      <th>T1 vs T2</th>\n",
       "      <td>0.003136</td>\n",
       "      <td>99.5</td>\n",
       "      <td>0.014829</td>\n",
       "      <td>113.0</td>\n",
       "      <td>4.822808e-01</td>\n",
       "      <td>0.157629</td>\n",
       "      <td>0.075</td>\n",
       "    </tr>\n",
       "    <tr>\n",
       "      <th>T1+2 vs T3+4</th>\n",
       "      <td>-0.000625</td>\n",
       "      <td>99.5</td>\n",
       "      <td>-0.004482</td>\n",
       "      <td>113.0</td>\n",
       "      <td>5.109469e-01</td>\n",
       "      <td>-0.047640</td>\n",
       "      <td>0.045</td>\n",
       "    </tr>\n",
       "    <tr>\n",
       "      <th>T3 vs T4</th>\n",
       "      <td>-0.003392</td>\n",
       "      <td>99.5</td>\n",
       "      <td>-0.015356</td>\n",
       "      <td>113.0</td>\n",
       "      <td>4.974277e-01</td>\n",
       "      <td>-0.163241</td>\n",
       "      <td>0.065</td>\n",
       "    </tr>\n",
       "    <tr>\n",
       "      <th rowspan=\"3\" valign=\"top\">Meta</th>\n",
       "      <th>T1 vs T2</th>\n",
       "      <td>0.071959</td>\n",
       "      <td>99.5</td>\n",
       "      <td>0.231200</td>\n",
       "      <td>113.0</td>\n",
       "      <td>6.962698e-02</td>\n",
       "      <td>2.457686</td>\n",
       "      <td>0.700</td>\n",
       "    </tr>\n",
       "    <tr>\n",
       "      <th>T1+2 vs T3+4</th>\n",
       "      <td>0.229971</td>\n",
       "      <td>99.5</td>\n",
       "      <td>0.907180</td>\n",
       "      <td>113.0</td>\n",
       "      <td>7.409221e-12</td>\n",
       "      <td>9.643453</td>\n",
       "      <td>1.000</td>\n",
       "    </tr>\n",
       "    <tr>\n",
       "      <th>T3 vs T4</th>\n",
       "      <td>-0.073392</td>\n",
       "      <td>99.5</td>\n",
       "      <td>-0.230221</td>\n",
       "      <td>113.0</td>\n",
       "      <td>6.653035e-02</td>\n",
       "      <td>-2.447283</td>\n",
       "      <td>0.690</td>\n",
       "    </tr>\n",
       "    <tr>\n",
       "      <th rowspan=\"3\" valign=\"top\">Q-Learner</th>\n",
       "      <th>T1 vs T2</th>\n",
       "      <td>0.001871</td>\n",
       "      <td>99.5</td>\n",
       "      <td>0.005772</td>\n",
       "      <td>113.0</td>\n",
       "      <td>5.490552e-01</td>\n",
       "      <td>0.061358</td>\n",
       "      <td>0.045</td>\n",
       "    </tr>\n",
       "    <tr>\n",
       "      <th>T1+2 vs T3+4</th>\n",
       "      <td>-0.006133</td>\n",
       "      <td>99.5</td>\n",
       "      <td>-0.027155</td>\n",
       "      <td>113.0</td>\n",
       "      <td>4.956251e-01</td>\n",
       "      <td>-0.288665</td>\n",
       "      <td>0.030</td>\n",
       "    </tr>\n",
       "    <tr>\n",
       "      <th>T3 vs T4</th>\n",
       "      <td>-0.003246</td>\n",
       "      <td>99.5</td>\n",
       "      <td>-0.010198</td>\n",
       "      <td>113.0</td>\n",
       "      <td>5.296172e-01</td>\n",
       "      <td>-0.108406</td>\n",
       "      <td>0.045</td>\n",
       "    </tr>\n",
       "  </tbody>\n",
       "</table>\n",
       "</div>"
      ],
      "text/plain": [
       "                              Mean  Sample   d-prime     df       p-value  \\\n",
       "Model       Comparison                                                      \n",
       "Flat        T1 vs T2     -0.007478    99.5 -0.022950  113.0  4.663787e-01   \n",
       "            T1+2 vs T3+4 -0.002171    99.5 -0.009378  113.0  5.209032e-01   \n",
       "            T3 vs T4      0.006586    99.5  0.019750  113.0  5.067846e-01   \n",
       "Independent T1 vs T2      0.168509    99.5  0.505447  113.0  1.180066e-04   \n",
       "            T1+2 vs T3+4  0.254507    99.5  1.012795  113.0  1.918648e-12   \n",
       "            T3 vs T4      0.000197    99.5  0.000041  113.0  5.023775e-01   \n",
       "Joint       T1 vs T2     -0.003041    99.5 -0.009131  113.0  4.939505e-01   \n",
       "            T1+2 vs T3+4  0.161714    99.5  0.629202  113.0  4.631667e-06   \n",
       "            T3 vs T4     -0.124963    99.5 -0.362961  113.0  4.949671e-03   \n",
       "KalmanUCB   T1 vs T2      0.003136    99.5  0.014829  113.0  4.822808e-01   \n",
       "            T1+2 vs T3+4 -0.000625    99.5 -0.004482  113.0  5.109469e-01   \n",
       "            T3 vs T4     -0.003392    99.5 -0.015356  113.0  4.974277e-01   \n",
       "Meta        T1 vs T2      0.071959    99.5  0.231200  113.0  6.962698e-02   \n",
       "            T1+2 vs T3+4  0.229971    99.5  0.907180  113.0  7.409221e-12   \n",
       "            T3 vs T4     -0.073392    99.5 -0.230221  113.0  6.653035e-02   \n",
       "Q-Learner   T1 vs T2      0.001871    99.5  0.005772  113.0  5.490552e-01   \n",
       "            T1+2 vs T3+4 -0.006133    99.5 -0.027155  113.0  4.956251e-01   \n",
       "            T3 vs T4     -0.003246    99.5 -0.010198  113.0  5.296172e-01   \n",
       "\n",
       "                          t-statistic  Power  \n",
       "Model       Comparison                        \n",
       "Flat        T1 vs T2        -0.243967  0.065  \n",
       "            T1+2 vs T3+4    -0.099687  0.035  \n",
       "            T3 vs T4         0.209943  0.030  \n",
       "Independent T1 vs T2         5.372974  1.000  \n",
       "            T1+2 vs T3+4    10.766158  1.000  \n",
       "            T3 vs T4         0.000439  0.025  \n",
       "Joint       T1 vs T2        -0.097062  0.040  \n",
       "            T1+2 vs T3+4     6.688508  1.000  \n",
       "            T3 vs T4        -3.858329  0.990  \n",
       "KalmanUCB   T1 vs T2         0.157629  0.075  \n",
       "            T1+2 vs T3+4    -0.047640  0.045  \n",
       "            T3 vs T4        -0.163241  0.065  \n",
       "Meta        T1 vs T2         2.457686  0.700  \n",
       "            T1+2 vs T3+4     9.643453  1.000  \n",
       "            T3 vs T4        -2.447283  0.690  \n",
       "Q-Learner   T1 vs T2         0.061358  0.045  \n",
       "            T1+2 vs T3+4    -0.288665  0.030  \n",
       "            T3 vs T4        -0.108406  0.045  "
      ]
     },
     "execution_count": 66,
     "metadata": {},
     "output_type": "execute_result"
    }
   ],
   "source": [
    "stats_exp_4_goals['Power'] = (stats_exp_4_goals['p-value'].copy() < 0.05)\n",
    "stats_exp_4_goals.groupby(['Model', 'Comparison']).mean()"
   ]
  },
  {
   "cell_type": "code",
   "execution_count": null,
   "metadata": {},
   "outputs": [],
   "source": []
  },
  {
   "cell_type": "code",
   "execution_count": 67,
   "metadata": {},
   "outputs": [],
   "source": [
    "hdi = []\n",
    "std_error = stats_exp_4_goals.groupby(['Model', 'Comparison']).std()['Mean']\n",
    "\n",
    "for comparison in set(stats_exp_4_goals.Comparison):\n",
    "    for model in set(stats_exp_4_goals.Model):\n",
    "        lb, ub = get_hdi_exp4goals(stats_exp_4_goals, model, comparison, hdi=hdi_interval)\n",
    "        hdi.append({\n",
    "            'Comparison': comparison,\n",
    "            'Model': model,\n",
    "            'Mean': get_mean_exp_4_goals(stats_exp_4_goals, model, comparison),\n",
    "            'Lower Bound': lb,\n",
    "            'Upper Bound': ub,\n",
    "            'Std Error': std_error.loc[model][comparison]\n",
    "        })\n",
    "hdi_data_exp_4_goals = pd.DataFrame(hdi)\n",
    "# hdi_data_exp_4_goals"
   ]
  },
  {
   "cell_type": "code",
   "execution_count": 68,
   "metadata": {},
   "outputs": [
    {
     "data": {
      "text/plain": [
       "0.001871345029239766"
      ]
     },
     "execution_count": 68,
     "metadata": {},
     "output_type": "execute_result"
    }
   ],
   "source": [
    "hdi_data_exp_4_goals.loc[(hdi_data_exp_4_goals.Model == 'Q-Learner') & \n",
    "                         (hdi_data_exp_4_goals.Comparison == 'T1 vs T2'), 'Mean'].values[-1]"
   ]
  },
  {
   "cell_type": "code",
   "execution_count": 69,
   "metadata": {},
   "outputs": [
    {
     "data": {
      "text/html": [
       "<div>\n",
       "<style scoped>\n",
       "    .dataframe tbody tr th:only-of-type {\n",
       "        vertical-align: middle;\n",
       "    }\n",
       "\n",
       "    .dataframe tbody tr th {\n",
       "        vertical-align: top;\n",
       "    }\n",
       "\n",
       "    .dataframe thead th {\n",
       "        text-align: right;\n",
       "    }\n",
       "</style>\n",
       "<table border=\"1\" class=\"dataframe\">\n",
       "  <thead>\n",
       "    <tr style=\"text-align: right;\">\n",
       "      <th></th>\n",
       "      <th>Comparison</th>\n",
       "      <th>Model</th>\n",
       "      <th>Mean</th>\n",
       "      <th>Lower Bound</th>\n",
       "      <th>Upper Bound</th>\n",
       "      <th>Std Error</th>\n",
       "    </tr>\n",
       "  </thead>\n",
       "  <tbody>\n",
       "    <tr>\n",
       "      <th>1</th>\n",
       "      <td>T1 vs T2</td>\n",
       "      <td>Flat</td>\n",
       "      <td>-0.007478</td>\n",
       "      <td>-0.067251</td>\n",
       "      <td>0.057018</td>\n",
       "      <td>0.034359</td>\n",
       "    </tr>\n",
       "    <tr>\n",
       "      <th>2</th>\n",
       "      <td>T1 vs T2</td>\n",
       "      <td>Independent</td>\n",
       "      <td>0.168509</td>\n",
       "      <td>0.108187</td>\n",
       "      <td>0.238304</td>\n",
       "      <td>0.029929</td>\n",
       "    </tr>\n",
       "    <tr>\n",
       "      <th>3</th>\n",
       "      <td>T1 vs T2</td>\n",
       "      <td>Joint</td>\n",
       "      <td>-0.003041</td>\n",
       "      <td>-0.048246</td>\n",
       "      <td>0.057018</td>\n",
       "      <td>0.028315</td>\n",
       "    </tr>\n",
       "    <tr>\n",
       "      <th>5</th>\n",
       "      <td>T1 vs T2</td>\n",
       "      <td>KalmanUCB</td>\n",
       "      <td>0.003136</td>\n",
       "      <td>-0.043860</td>\n",
       "      <td>0.046784</td>\n",
       "      <td>0.022099</td>\n",
       "    </tr>\n",
       "    <tr>\n",
       "      <th>4</th>\n",
       "      <td>T1 vs T2</td>\n",
       "      <td>Meta</td>\n",
       "      <td>0.071959</td>\n",
       "      <td>0.019006</td>\n",
       "      <td>0.118421</td>\n",
       "      <td>0.025698</td>\n",
       "    </tr>\n",
       "    <tr>\n",
       "      <th>0</th>\n",
       "      <td>T1 vs T2</td>\n",
       "      <td>Q-Learner</td>\n",
       "      <td>0.001871</td>\n",
       "      <td>-0.049708</td>\n",
       "      <td>0.070175</td>\n",
       "      <td>0.029830</td>\n",
       "    </tr>\n",
       "    <tr>\n",
       "      <th>13</th>\n",
       "      <td>T1+2 vs T3+4</td>\n",
       "      <td>Flat</td>\n",
       "      <td>-0.002171</td>\n",
       "      <td>-0.039474</td>\n",
       "      <td>0.038743</td>\n",
       "      <td>0.020252</td>\n",
       "    </tr>\n",
       "    <tr>\n",
       "      <th>14</th>\n",
       "      <td>T1+2 vs T3+4</td>\n",
       "      <td>Independent</td>\n",
       "      <td>0.254507</td>\n",
       "      <td>0.203947</td>\n",
       "      <td>0.304094</td>\n",
       "      <td>0.024275</td>\n",
       "    </tr>\n",
       "    <tr>\n",
       "      <th>15</th>\n",
       "      <td>T1+2 vs T3+4</td>\n",
       "      <td>Joint</td>\n",
       "      <td>0.161714</td>\n",
       "      <td>0.114035</td>\n",
       "      <td>0.210526</td>\n",
       "      <td>0.024288</td>\n",
       "    </tr>\n",
       "    <tr>\n",
       "      <th>17</th>\n",
       "      <td>T1+2 vs T3+4</td>\n",
       "      <td>KalmanUCB</td>\n",
       "      <td>-0.000625</td>\n",
       "      <td>-0.029240</td>\n",
       "      <td>0.029971</td>\n",
       "      <td>0.014645</td>\n",
       "    </tr>\n",
       "    <tr>\n",
       "      <th>16</th>\n",
       "      <td>T1+2 vs T3+4</td>\n",
       "      <td>Meta</td>\n",
       "      <td>0.229971</td>\n",
       "      <td>0.186404</td>\n",
       "      <td>0.276316</td>\n",
       "      <td>0.023224</td>\n",
       "    </tr>\n",
       "    <tr>\n",
       "      <th>12</th>\n",
       "      <td>T1+2 vs T3+4</td>\n",
       "      <td>Q-Learner</td>\n",
       "      <td>-0.006133</td>\n",
       "      <td>-0.041667</td>\n",
       "      <td>0.028509</td>\n",
       "      <td>0.019937</td>\n",
       "    </tr>\n",
       "    <tr>\n",
       "      <th>7</th>\n",
       "      <td>T3 vs T4</td>\n",
       "      <td>Flat</td>\n",
       "      <td>0.006586</td>\n",
       "      <td>-0.048246</td>\n",
       "      <td>0.057018</td>\n",
       "      <td>0.028591</td>\n",
       "    </tr>\n",
       "    <tr>\n",
       "      <th>8</th>\n",
       "      <td>T3 vs T4</td>\n",
       "      <td>Independent</td>\n",
       "      <td>0.000197</td>\n",
       "      <td>-0.046784</td>\n",
       "      <td>0.055556</td>\n",
       "      <td>0.026582</td>\n",
       "    </tr>\n",
       "    <tr>\n",
       "      <th>9</th>\n",
       "      <td>T3 vs T4</td>\n",
       "      <td>Joint</td>\n",
       "      <td>-0.124963</td>\n",
       "      <td>-0.176901</td>\n",
       "      <td>-0.068713</td>\n",
       "      <td>0.030873</td>\n",
       "    </tr>\n",
       "    <tr>\n",
       "      <th>11</th>\n",
       "      <td>T3 vs T4</td>\n",
       "      <td>KalmanUCB</td>\n",
       "      <td>-0.003392</td>\n",
       "      <td>-0.048246</td>\n",
       "      <td>0.032164</td>\n",
       "      <td>0.021104</td>\n",
       "    </tr>\n",
       "    <tr>\n",
       "      <th>10</th>\n",
       "      <td>T3 vs T4</td>\n",
       "      <td>Meta</td>\n",
       "      <td>-0.073392</td>\n",
       "      <td>-0.121345</td>\n",
       "      <td>-0.019006</td>\n",
       "      <td>0.027077</td>\n",
       "    </tr>\n",
       "    <tr>\n",
       "      <th>6</th>\n",
       "      <td>T3 vs T4</td>\n",
       "      <td>Q-Learner</td>\n",
       "      <td>-0.003246</td>\n",
       "      <td>-0.064327</td>\n",
       "      <td>0.057018</td>\n",
       "      <td>0.031030</td>\n",
       "    </tr>\n",
       "  </tbody>\n",
       "</table>\n",
       "</div>"
      ],
      "text/plain": [
       "      Comparison        Model      Mean  Lower Bound  Upper Bound  Std Error\n",
       "1       T1 vs T2         Flat -0.007478    -0.067251     0.057018   0.034359\n",
       "2       T1 vs T2  Independent  0.168509     0.108187     0.238304   0.029929\n",
       "3       T1 vs T2        Joint -0.003041    -0.048246     0.057018   0.028315\n",
       "5       T1 vs T2    KalmanUCB  0.003136    -0.043860     0.046784   0.022099\n",
       "4       T1 vs T2         Meta  0.071959     0.019006     0.118421   0.025698\n",
       "0       T1 vs T2    Q-Learner  0.001871    -0.049708     0.070175   0.029830\n",
       "13  T1+2 vs T3+4         Flat -0.002171    -0.039474     0.038743   0.020252\n",
       "14  T1+2 vs T3+4  Independent  0.254507     0.203947     0.304094   0.024275\n",
       "15  T1+2 vs T3+4        Joint  0.161714     0.114035     0.210526   0.024288\n",
       "17  T1+2 vs T3+4    KalmanUCB -0.000625    -0.029240     0.029971   0.014645\n",
       "16  T1+2 vs T3+4         Meta  0.229971     0.186404     0.276316   0.023224\n",
       "12  T1+2 vs T3+4    Q-Learner -0.006133    -0.041667     0.028509   0.019937\n",
       "7       T3 vs T4         Flat  0.006586    -0.048246     0.057018   0.028591\n",
       "8       T3 vs T4  Independent  0.000197    -0.046784     0.055556   0.026582\n",
       "9       T3 vs T4        Joint -0.124963    -0.176901    -0.068713   0.030873\n",
       "11      T3 vs T4    KalmanUCB -0.003392    -0.048246     0.032164   0.021104\n",
       "10      T3 vs T4         Meta -0.073392    -0.121345    -0.019006   0.027077\n",
       "6       T3 vs T4    Q-Learner -0.003246    -0.064327     0.057018   0.031030"
      ]
     },
     "execution_count": 69,
     "metadata": {},
     "output_type": "execute_result"
    }
   ],
   "source": [
    "hdi_data_exp_4_goals.sort_values(['Comparison', 'Model'])[['Comparison', 'Model','Mean', 'Lower Bound',\n",
    "                                                         'Upper Bound', 'Std Error']]"
   ]
  },
  {
   "cell_type": "code",
   "execution_count": 70,
   "metadata": {},
   "outputs": [
    {
     "data": {
      "image/png": "[encoded data removed]",
      "text/plain": [
       "<Figure size 144x72 with 2 Axes>"
      ]
     },
     "metadata": {
      "needs_background": "light"
     },
     "output_type": "display_data"
    }
   ],
   "source": [
    "comp1 = stats_exp_4_goals.Comparison =='T1 vs T2'\n",
    "comp2 = stats_exp_4_goals.Comparison =='T3 vs T4'\n",
    "model = stats_exp_4_goals.Model\n",
    "cc = sns.color_palette('colorblind')\n",
    "\n",
    "with sns.plotting_context('paper', font_scale=0.6):\n",
    "    _, axes = plt.subplots(1, 2, figsize=(2, 1.), sharey=True)\n",
    "    def plot_dist(m_name, ii):\n",
    "            sns.distplot(stats_exp_4_goals.loc[(comp1) & (model == m_name), 'Mean'].values, label=m_name, color=cc[ii],\n",
    "                        ax=axes[0])\n",
    "\n",
    "    plot_dist('Independent', 0)\n",
    "    plot_dist('Joint', 1)\n",
    "    plot_dist('Meta', 2)\n",
    "    plot_dist('Flat', 3)\n",
    "    plot_dist('Q-Learner', 4)\n",
    "    plot_dist('KalmanUCB', 5)\n",
    "\n",
    "    def plot_dist(m_name, ii):\n",
    "        sns.distplot(-1 * stats_exp_4_goals.loc[(comp2) & (model == m_name), 'Mean'].values, label=m_name, color=cc[ii],\n",
    "                    ax=axes[1])\n",
    "\n",
    "    plot_dist('Independent', 0)\n",
    "    plot_dist('Joint', 1)\n",
    "    plot_dist('Meta', 2)\n",
    "    plot_dist('Flat', 3)\n",
    "    plot_dist('Q-Learner', 4)\n",
    "    plot_dist('KalmanUCB', 5)\n",
    "\n",
    "\n",
    "    axes[0].set_ylabel('Frequency')\n",
    "    axes[0].set_xlabel('Accuracy Difference')\n",
    "    axes[0].set_title('T1 vs T2')\n",
    "\n",
    "    axes[1].set_xlabel('Accuracy Difference')\n",
    "    axes[1].set_title('T3 vs T4')\n",
    "    sns.despine()\n",
    "    \n",
    "    for ax in axes:\n",
    "        ax.spines['left'].set_lw(0.2)\n",
    "        ax.spines['bottom'].set_lw(0.2)\n",
    "        ax.tick_params(width=0.2)\n",
    "\n",
    "    lgd = axes[1].legend(loc='upper right', bbox_to_anchor=(2.2, 1.00), framealpha=0)\n",
    "\n",
    "    for ii in [0, 1]: axes[ii].axvline(x=0, ls=':', color='k') \n",
    "\n",
    "    plt.savefig('exp_4_goals_effect_size_all.png', dpi=300,bbox_extra_artists=(lgd,),\n",
    "                bbox_inches='tight')\n",
    "\n"
   ]
  },
  {
   "cell_type": "code",
   "execution_count": null,
   "metadata": {},
   "outputs": [],
   "source": []
  },
  {
   "cell_type": "code",
   "execution_count": 71,
   "metadata": {},
   "outputs": [],
   "source": [
    "\n",
    "\n",
    "\n",
    "def main_effect_mean_sd(model, comp):\n",
    "    v0 = stats_exp_4_goals.loc[\n",
    "                (stats_exp_4_goals.Model == model) & \n",
    "                (stats_exp_4_goals.Comparison == comp) ,'Mean'].values\n",
    "    return np.mean(v0), np.std(v0)\n",
    "\n",
    "sns.set_context('paper', font_scale=1.75)\n",
    "def plot_contrasts_exp_4_goals(model, model_name, hdi=0.95):\n",
    "    with sns.axes_style('ticks'):\n",
    "        fig, ax  = plt.subplots(figsize=(1.0, 2.5))  \n",
    "        sns.barplot(x='Comparison', y='Mean', \n",
    "                data=hdi_data_exp_4_goals[\n",
    "                    (hdi_data_exp_4_goals.Model == model) & \n",
    "                    ((hdi_data_exp_4_goals.Comparison =='T1 vs T2' ) |\n",
    "                    (hdi_data_exp_4_goals.Comparison == 'T3 vs T4'))], color='skyblue', ax=ax, ci=\"sd\",\n",
    "                    order=['T1 vs T2',  'T3 vs T4'])\n",
    "        \n",
    "#         sns.barplot(x='Comparison', y='Mean', \n",
    "#                 data=hdi_data_exp_4_goals[hdi_data_exp_4_goals.Model == model], color='skyblue', ax=ax, \n",
    "#                     order=['T1 vs T2', 'T1+2 vs T3+4', 'T3 vs T4'])\n",
    "        ax.set_ylabel(r'Difference Score', labelpad=-3)\n",
    "        ax.set_xlabel('')\n",
    "        ax.plot([-1, 2], [0, 0], 'k:')\n",
    "        ax.set_xlim([-0.5, 1.5])\n",
    "        ax.set_yticks(np.arange(-0.2, 0.35, 0.1))\n",
    "        ax.set_ylim([-0.2, 0.35])\n",
    "        sns.despine(offset=5)\n",
    "        \n",
    "        plt.xticks([0, 1], [r'1 > 2',  r'3 > 4' ], rotation='vertical')\n",
    "        \n",
    "        def plot_stars(x0):\n",
    "            ax.annotate(\"*\", xy=(x0-0.29, 0.28), size=22)\n",
    "        \n",
    "        # plot the error bars\n",
    "        # plot the error bars\n",
    "        mu, sd = main_effect_mean_sd(model, 'T1 vs T2')\n",
    "        lb, ub = get_hdi_exp4goals(stats_exp_4_goals, model, 'T1 vs T2', hdi)\n",
    "        ax.plot([0, 0],[mu-sd, mu+sd], 'k', lw=2)\n",
    "        if np.sign(lb) == np.sign(ub):\n",
    "            plot_stars(0)\n",
    "\n",
    "\n",
    "        mu, sd = main_effect_mean_sd(model, 'T3 vs T4')\n",
    "        lb, ub = get_hdi_exp4goals(stats_exp_4_goals, model, 'T3 vs T4', hdi)\n",
    "        ax.plot([1, 1],[mu-sd, mu+sd], 'k', lw=2)\n",
    "\n",
    "\n",
    "\n",
    "        if np.sign(lb) == np.sign(ub):\n",
    "            plot_stars(1)\n",
    "        \n",
    "        ax.set_title(model_name)\n",
    "        return fig, ax\n",
    "    \n",
    "\n",
    "\n",
    "\n",
    "def plot_contrasts_exp_4_goals_to_save(model, model_name, height=0.75, hdi=0.95):\n",
    "    with sns.plotting_context('paper', font_scale=0.5):\n",
    "        with sns.axes_style('ticks'):\n",
    "            fig, ax  = plt.subplots(figsize=(height/2.5, height))\n",
    "            \n",
    "            sns.barplot(x='Comparison', y='Mean', \n",
    "                    data=hdi_data_exp_4_goals[\n",
    "                        (hdi_data_exp_4_goals.Model == model) & \n",
    "                        ((hdi_data_exp_4_goals.Comparison =='T1 vs T2' ) |\n",
    "                        (hdi_data_exp_4_goals.Comparison == 'T3 vs T4'))], color='skyblue', ax=ax, ci=\"sd\",\n",
    "                        order=['T1 vs T2',  'T3 vs T4'])\n",
    "            \n",
    "            ax.set_ylabel(r'Difference Score', labelpad=0)\n",
    "            ax.set_xlabel('')\n",
    "            ax.plot([-1, 2], [0, 0], 'k:', lw=0.5)\n",
    "            ax.set_xlim([-0.5, 1.5])\n",
    "            ax.set_yticks(np.arange(-0.2, 0.35, 0.1))\n",
    "            ax.set_ylim([-0.2, 0.35])\n",
    "            sns.despine(offset=5)\n",
    "\n",
    "            plt.xticks([0, 1], [r'1 > 2',  r'3 > 4' ], rotation='vertical')\n",
    "\n",
    "            def plot_stars(x0):\n",
    "                ax.annotate(\"*\", xy=(x0-0.175, 0.25), size=8)\n",
    "\n",
    "            # plot the error bars\n",
    "            mu, sd = main_effect_mean_sd(model, 'T1 vs T2')\n",
    "            lb, ub = get_hdi_exp4goals(stats_exp_4_goals, model, 'T1 vs T2', hdi)\n",
    "            ax.plot([0, 0],[mu-sd, mu+sd], 'k', lw=0.5)\n",
    "            if np.sign(lb) == np.sign(ub):\n",
    "                plot_stars(0)\n",
    "\n",
    "\n",
    "            mu, sd = main_effect_mean_sd(model, 'T3 vs T4')\n",
    "            lb, ub = get_hdi_exp4goals(stats_exp_4_goals, model, 'T3 vs T4', hdi)\n",
    "            ax.plot([1, 1],[mu-sd, mu+sd], 'k', lw=0.5)\n",
    "\n",
    "            if np.sign(lb) == np.sign(ub):\n",
    "                plot_stars(1)\n",
    "\n",
    "            ax.set_title(model_name)\n",
    "            ax.spines['left'].set_lw(0.2)\n",
    "            ax.spines['bottom'].set_lw(0.2)\n",
    "            ax.tick_params(width=0.2)\n",
    "\n",
    "\n",
    "            \n",
    "            return fig, ax\n",
    "    \n",
    "    \n",
    "\n"
   ]
  },
  {
   "cell_type": "code",
   "execution_count": 72,
   "metadata": {},
   "outputs": [
    {
     "data": {
      "image/png": "[encoded data removed]",
      "text/plain": [
       "<Figure size 21.6x54 with 1 Axes>"
      ]
     },
     "metadata": {},
     "output_type": "display_data"
    },
    {
     "data": {
      "image/png": "[encoded data removed]",
      "text/plain": [
       "<Figure size 21.6x54 with 1 Axes>"
      ]
     },
     "metadata": {},
     "output_type": "display_data"
    },
    {
     "data": {
      "image/png": "[encoded data removed]",
      "text/plain": [
       "<Figure size 21.6x54 with 1 Axes>"
      ]
     },
     "metadata": {},
     "output_type": "display_data"
    },
    {
     "data": {
      "image/png": "[encoded data removed]",
      "text/plain": [
       "<Figure size 21.6x54 with 1 Axes>"
      ]
     },
     "metadata": {},
     "output_type": "display_data"
    },
    {
     "data": {
      "image/png": "[encoded data removed]",
      "text/plain": [
       "<Figure size 21.6x54 with 1 Axes>"
      ]
     },
     "metadata": {},
     "output_type": "display_data"
    },
    {
     "data": {
      "image/png": "[encoded data removed]",
      "text/plain": [
       "<Figure size 21.6x54 with 1 Axes>"
      ]
     },
     "metadata": {},
     "output_type": "display_data"
    }
   ],
   "source": [
    "fig, _ = plot_contrasts_exp_4_goals_to_save('Meta', 'Meta')\n",
    "fig.savefig('exp_4_goals_model_meta.png', dpi=300, bbox_inches='tight')\n",
    "fig, _ = plot_contrasts_exp_4_goals_to_save('Independent', 'Indep.')\n",
    "fig.savefig('exp_4_goals_model_indep.png', dpi=300, bbox_inches='tight')\n",
    "fig, _ = plot_contrasts_exp_4_goals_to_save('Joint', 'Joint')\n",
    "fig.savefig('exp_4_goals_model_joint.png', dpi=300, bbox_inches='tight')\n",
    "fig, _ = plot_contrasts_exp_4_goals_to_save('Q-Learner', 'Q')\n",
    "fig.savefig('exp_4_goals_model_q.png', dpi=300, bbox_inches='tight')\n",
    "fig, _ = plot_contrasts_exp_4_goals_to_save('KalmanUCB', 'UCB')\n",
    "fig.savefig('exp_4_goals_model_kal.png', dpi=300, bbox_inches='tight')\n",
    "fig, _ = plot_contrasts_exp_4_goals_to_save('Flat', 'Flat')\n",
    "fig.savefig('exp_4_goals_model_flat.png', dpi=300, bbox_inches='tight')\n",
    "\n"
   ]
  },
  {
   "cell_type": "code",
   "execution_count": 73,
   "metadata": {},
   "outputs": [
    {
     "data": {
      "image/png": "[encoded data removed]",
      "text/plain": [
       "<Figure size 72x180 with 1 Axes>"
      ]
     },
     "metadata": {},
     "output_type": "display_data"
    }
   ],
   "source": [
    "fig, _ = plot_contrasts_exp_4_goals('Meta', 'Meta', hdi=hdi_interval)\n"
   ]
  },
  {
   "cell_type": "code",
   "execution_count": 74,
   "metadata": {},
   "outputs": [
    {
     "data": {
      "image/png": "[encoded data removed]",
      "text/plain": [
       "<Figure size 72x180 with 1 Axes>"
      ]
     },
     "metadata": {},
     "output_type": "display_data"
    }
   ],
   "source": [
    "fig, _ = plot_contrasts_exp_4_goals('Independent', 'Indep.', hdi=0.9)\n"
   ]
  },
  {
   "cell_type": "code",
   "execution_count": 75,
   "metadata": {},
   "outputs": [
    {
     "data": {
      "image/png": "[encoded data removed]",
      "text/plain": [
       "<Figure size 72x180 with 1 Axes>"
      ]
     },
     "metadata": {},
     "output_type": "display_data"
    }
   ],
   "source": [
    "fig, _ = plot_contrasts_exp_4_goals('Joint', 'Joint', hdi=hdi_interval)\n",
    "fig.savefig('exp_4_goals_model_joint.png', dpi=300, bbox_inches='tight')"
   ]
  },
  {
   "cell_type": "code",
   "execution_count": 76,
   "metadata": {},
   "outputs": [
    {
     "data": {
      "image/png": "[encoded data removed]",
      "text/plain": [
       "<Figure size 72x180 with 1 Axes>"
      ]
     },
     "metadata": {},
     "output_type": "display_data"
    }
   ],
   "source": [
    "fig, _ = plot_contrasts_exp_4_goals('Q-Learner', 'Q', hdi=hdi_interval)\n",
    "fig.savefig('exp_4_goals_model_q.png', dpi=300, bbox_inches='tight')\n"
   ]
  },
  {
   "cell_type": "code",
   "execution_count": 77,
   "metadata": {},
   "outputs": [
    {
     "data": {
      "image/png": "[encoded data removed]",
      "text/plain": [
       "<Figure size 72x180 with 1 Axes>"
      ]
     },
     "metadata": {},
     "output_type": "display_data"
    }
   ],
   "source": [
    "fig, _ = plot_contrasts_exp_4_goals('KalmanUCB', 'UCB', hdi=hdi_interval)\n",
    "fig.savefig('exp_4_goals_model_kal.png', dpi=300, bbox_inches='tight')\n"
   ]
  },
  {
   "cell_type": "code",
   "execution_count": 78,
   "metadata": {},
   "outputs": [
    {
     "data": {
      "image/png": "[encoded data removed]",
      "text/plain": [
       "<Figure size 72x180 with 1 Axes>"
      ]
     },
     "metadata": {},
     "output_type": "display_data"
    }
   ],
   "source": [
    "fig, _ = plot_contrasts_exp_4_goals('Flat', 'Flat', hdi=hdi_interval)\n",
    "fig.savefig('exp_4_goals_model_flat.png', dpi=300, bbox_inches='tight')\n",
    "\n"
   ]
  },
  {
   "cell_type": "code",
   "execution_count": 79,
   "metadata": {},
   "outputs": [
    {
     "data": {
      "image/png": "[encoded data removed]",
      "text/plain": [
       "<Figure size 100.8x126 with 1 Axes>"
      ]
     },
     "metadata": {
      "needs_background": "light"
     },
     "output_type": "display_data"
    }
   ],
   "source": [
    "def plot_counts(model, title, map_, hdi=0.95):\n",
    "    with sns.plotting_context('paper', font_scale=0.8):\n",
    "        \n",
    "        height = 1.75\n",
    "\n",
    "        fig, ax = plt.subplots(1, 1, sharey=True, figsize=(2.0/2.5 * height, height))\n",
    "\n",
    "        if map_ == 2:\n",
    "            c = sns.color_palette('muted')[3]\n",
    "        else:\n",
    "            c = sns.color_palette('muted')[0]\n",
    "\n",
    "        df0 = goal_counts_exp_4_goals[\n",
    "            (goal_counts_exp_4_goals.Model == model) & (goal_counts_exp_4_goals.Map == map_)\n",
    "        ]\n",
    "\n",
    "        sns.barplot(x=\"Chosen Goal\", y=\"In Goal\", order='A B C D'.split(),\n",
    "                    data=df0, ax=ax, color=c, ci=None)\n",
    "\n",
    "        # get the HDI for each of the counts\n",
    "        for x, g in enumerate('A B C D'.split()):\n",
    "            mu = np.mean(get_hdi(df0.loc[df0['Chosen Goal'] == g, 'In Goal'].values))\n",
    "            sd = np.std(get_hdi(df0.loc[df0['Chosen Goal'] == g, 'In Goal'].values))\n",
    "            ax.plot([x, x],[mu-sd, mu+sd], 'k', lw=0.5)\n",
    "\n",
    "\n",
    "        ax.set_ylabel('Times Chosen')\n",
    "        ax.set_xlabel('Goal')\n",
    "        ax.set_title(title)\n",
    "        ax.set_yticks([0,50,100, 150])\n",
    "        ax.set_ylim([0, 175])\n",
    "\n",
    "        sns.despine(offset=5)\n",
    "        plt.tight_layout()\n",
    "        plt.subplots_adjust(wspace=0.4, hspace=0.4)\n",
    "    \n",
    "plot_counts('Independent', 'Indep.', map_=2, hdi=hdi_interval)\n",
    "plt.savefig('exp_4_goals_model_indep_2.png', dpi=300, bbox_inches='tight')"
   ]
  },
  {
   "cell_type": "code",
   "execution_count": 80,
   "metadata": {},
   "outputs": [
    {
     "data": {
      "image/png": "[encoded data removed]",
      "text/plain": [
       "<Figure size 100.8x126 with 1 Axes>"
      ]
     },
     "metadata": {
      "needs_background": "light"
     },
     "output_type": "display_data"
    }
   ],
   "source": [
    "plot_counts('Independent', 'Indep.', map_=1, hdi=hdi_interval)\n",
    "plt.savefig('exp_4_goals_model_indep_3.png', dpi=300, bbox_inches='tight')"
   ]
  },
  {
   "cell_type": "code",
   "execution_count": 81,
   "metadata": {},
   "outputs": [
    {
     "data": {
      "image/png": "[encoded data removed]",
      "text/plain": [
       "<Figure size 100.8x126 with 1 Axes>"
      ]
     },
     "metadata": {
      "needs_background": "light"
     },
     "output_type": "display_data"
    }
   ],
   "source": [
    "plot_counts('Joint', 'Joint', map_=2, hdi=hdi_interval)\n",
    "plt.savefig('exp_4_goals_model_joint_2.png', dpi=300, bbox_inches='tight')"
   ]
  },
  {
   "cell_type": "code",
   "execution_count": 82,
   "metadata": {},
   "outputs": [
    {
     "data": {
      "image/png": "[encoded data removed]",
      "text/plain": [
       "<Figure size 100.8x126 with 1 Axes>"
      ]
     },
     "metadata": {
      "needs_background": "light"
     },
     "output_type": "display_data"
    }
   ],
   "source": [
    "plot_counts('Joint', 'Joint', map_=1, hdi=hdi_interval)\n",
    "plt.savefig('exp_4_goals_model_joint_3.png', dpi=300, bbox_inches='tight')"
   ]
  },
  {
   "cell_type": "code",
   "execution_count": 83,
   "metadata": {},
   "outputs": [
    {
     "data": {
      "image/png": "[encoded data removed]",
      "text/plain": [
       "<Figure size 100.8x126 with 1 Axes>"
      ]
     },
     "metadata": {
      "needs_background": "light"
     },
     "output_type": "display_data"
    }
   ],
   "source": [
    "plot_counts('Meta', 'Meta', map_=2, hdi=hdi_interval)\n",
    "plt.savefig('exp_4_goals_model_meta_2.png', dpi=300, bbox_inches='tight')"
   ]
  },
  {
   "cell_type": "code",
   "execution_count": 84,
   "metadata": {},
   "outputs": [
    {
     "data": {
      "image/png": "[encoded data removed]",
      "text/plain": [
       "<Figure size 100.8x126 with 1 Axes>"
      ]
     },
     "metadata": {
      "needs_background": "light"
     },
     "output_type": "display_data"
    }
   ],
   "source": [
    "plot_counts('Meta', 'Meta', map_=1, hdi=hdi_interval)\n",
    "plt.savefig('exp_4_goals_model_meta_3.png', dpi=300, bbox_inches='tight')"
   ]
  },
  {
   "cell_type": "code",
   "execution_count": 85,
   "metadata": {},
   "outputs": [
    {
     "data": {
      "image/png": "[encoded data removed]",
      "text/plain": [
       "<Figure size 100.8x126 with 1 Axes>"
      ]
     },
     "metadata": {
      "needs_background": "light"
     },
     "output_type": "display_data"
    },
    {
     "data": {
      "image/png": "[encoded data removed]",
      "text/plain": [
       "<Figure size 100.8x126 with 1 Axes>"
      ]
     },
     "metadata": {
      "needs_background": "light"
     },
     "output_type": "display_data"
    },
    {
     "data": {
      "image/png": "[encoded data removed]",
      "text/plain": [
       "<Figure size 100.8x126 with 1 Axes>"
      ]
     },
     "metadata": {
      "needs_background": "light"
     },
     "output_type": "display_data"
    },
    {
     "data": {
      "image/png": "[encoded data removed]",
      "text/plain": [
       "<Figure size 100.8x126 with 1 Axes>"
      ]
     },
     "metadata": {
      "needs_background": "light"
     },
     "output_type": "display_data"
    },
    {
     "data": {
      "image/png": "[encoded data removed]",
      "text/plain": [
       "<Figure size 100.8x126 with 1 Axes>"
      ]
     },
     "metadata": {
      "needs_background": "light"
     },
     "output_type": "display_data"
    },
    {
     "data": {
      "image/png": "[encoded data removed]",
      "text/plain": [
       "<Figure size 100.8x126 with 1 Axes>"
      ]
     },
     "metadata": {
      "needs_background": "light"
     },
     "output_type": "display_data"
    }
   ],
   "source": [
    "plot_counts('Flat', 'Flat', map_=2, hdi=hdi_interval)\n",
    "plt.savefig('exp_4_goals_model_flat_2.png', dpi=300, bbox_inches='tight')\n",
    "plot_counts('Q-Learner', 'Q', map_=2, hdi=hdi_interval)\n",
    "plt.savefig('exp_4_goals_model_q_2.png', dpi=300, bbox_inches='tight')\n",
    "plot_counts('KalmanUCB', 'UCB', map_=2, hdi=hdi_interval)\n",
    "plt.savefig('exp_4_goals_model_ucb_2.png', dpi=300, bbox_inches='tight')\n",
    "\n",
    "\n",
    "plot_counts('Flat', 'Flat', map_=1, hdi=hdi_interval)\n",
    "plot_counts('Q-Learner', 'Q', map_=1, hdi=hdi_interval)\n",
    "plot_counts('KalmanUCB', 'UCB', map_=1, hdi=hdi_interval)\n",
    "\n"
   ]
  },
  {
   "cell_type": "code",
   "execution_count": 86,
   "metadata": {},
   "outputs": [],
   "source": [
    "# def get_goal_diff_score(model, _map):\n",
    "#     diff_score = []\n",
    "\n",
    "#     for ii in range(n_batches):\n",
    "#         vec =         (goal_counts_exp_4_goals.Model == model) &\\\n",
    "#             (goal_counts_exp_4_goals.Map == _map) & \\\n",
    "#             (goal_counts_exp_4_goals.Batch == ii)\n",
    "#         A = goal_counts_exp_4_goals.loc[vec & (goal_counts_exp_4_goals['Chosen Goal'] == 'A'), 'In Goal'].values[0]\n",
    "#         B = goal_counts_exp_4_goals.loc[vec & (goal_counts_exp_4_goals['Chosen Goal'] == 'B'), 'In Goal'].values[0]\n",
    "#         C = goal_counts_exp_4_goals.loc[vec & (goal_counts_exp_4_goals['Chosen Goal'] == 'C'), 'In Goal'].values[0]\n",
    "#         diff_score.append(A - 0.5 * (B + C))\n",
    "#     return np.array(diff_score)\n",
    "\n",
    "# with sns.plotting_context('talk'):\n",
    "#     sns.distplot(get_goal_diff_score('Joint', 1), label='Joint')\n",
    "#     sns.distplot(get_goal_diff_score('Independent', 1), label='Indep.')\n",
    "#     sns.distplot(get_goal_diff_score('Meta', 1), label='Meta')\n",
    "#     plt.legend()\n",
    "#     plt.axvline(x=0, ls=':')\n",
    "#     sns.despine()\n",
    "    \n",
    "#     plt.figure()\n",
    "#     sns.distplot(get_goal_diff_score('Joint', 2), label='Joint')\n",
    "#     sns.distplot(get_goal_diff_score('Independent', 2), label='Indep.')\n",
    "#     sns.distplot(get_goal_diff_score('Meta', 2), label='Meta')\n",
    "#     plt.legend()\n",
    "#     plt.axvline(x=0, ls=':')\n",
    "#     sns.despine()"
   ]
  },
  {
   "cell_type": "code",
   "execution_count": 87,
   "metadata": {},
   "outputs": [],
   "source": [
    "# # there are 6 models, 4 Goals and 2 Maps, or 48 rows per batch\n",
    "# batch_id = [[ii] * 48 for ii in range (n_batches)]\n",
    "# goal_counts_exp_4_goals['Batch'] = np.concatenate(batch_id)\n",
    "\n",
    "# def plot_counts_effectsize(model, title, hdi=0.95):\n",
    "#     with sns.plotting_context('paper', font_scale=0.8):\n",
    "        \n",
    "# #         height = 1.75\n",
    "\n",
    "#         fig, ax = plt.subplots(1, 1, sharey=True)\n",
    "\n",
    "#         if map_ == 2:\n",
    "#             c = sns.color_palette('muted')[3]\n",
    "#         else:\n",
    "#             c = sns.color_palette('muted')[0]\n",
    "\n",
    "#         df0 = goal_counts_exp_4_goals[\n",
    "#             (goal_counts_exp_4_goals.Model == model) & (goal_counts_exp_4_goals.Map == map_)\n",
    "#         ]\n",
    "\n",
    "#         sns.barplot(x=\"Chosen Goal\", y=\"In Goal\", order='A B C D'.split(),\n",
    "#                     data=df0, ax=ax, color=c, ci=None)\n",
    "\n",
    "#         # get the HDI for each of the counts\n",
    "#         for x, g in enumerate('A B C D'.split()):\n",
    "#             mu = np.mean(get_hdi(df0.loc[df0['Chosen Goal'] == g, 'In Goal'].values))\n",
    "#             sd = np.std(get_hdi(df0.loc[df0['Chosen Goal'] == g, 'In Goal'].values))\n",
    "#             ax.plot([x, x],[mu-sd, mu+sd], 'k', lw=0.5)\n",
    "\n",
    "\n",
    "#         ax.set_ylabel('Times Chosen')\n",
    "#         ax.set_xlabel('Goal')\n",
    "#         ax.set_title(title)\n",
    "#         ax.set_yticks([0,50,100, 150])\n",
    "#         ax.set_ylim([0, 175])\n",
    "\n",
    "#         sns.despine(offset=5)\n",
    "#         plt.tight_layout()\n",
    "# #         plt.subplots_adjust(wspace=0.4, hspace=0.4)\n",
    "        \n",
    "# plot_counts_effectsize('Joint', 'Joint', map_=2, hdi=hdi_interval)\n",
    "\n"
   ]
  },
  {
   "cell_type": "markdown",
   "metadata": {},
   "source": [
    "# Experiment 3: Ambigous Enviornment (3 Goals)"
   ]
  },
  {
   "cell_type": "code",
   "execution_count": 8,
   "metadata": {},
   "outputs": [],
   "source": [
    "def score_experiment_3_goals(sampled_batch):\n",
    "  \n",
    "    df0 = sampled_batch[\n",
    "            sampled_batch['In Goal'] & \n",
    "            (sampled_batch.Context > 4) & \n",
    "            (sampled_batch['Times Seen Context'] <= 5)\n",
    "             ].copy()\n",
    "\n",
    "    \n",
    "    score = list()\n",
    "    for m in set(df0.Model):\n",
    "        for it in set(df0.Iteration):\n",
    "            subj_df = df0.loc[(df0.Model == m) & (df0.Iteration == it), :]\n",
    "\n",
    "            a = (subj_df.Context == 5)\n",
    "            b = (subj_df.Context == 8) \n",
    "            diff_1 = subj_df.loc[a, :].groupby('Times Seen Context').mean()['Acc'] - \\\n",
    "                subj_df.loc[b, :].groupby('Times Seen Context').mean()['Acc']\n",
    "\n",
    "            a = (subj_df.Context == 6)\n",
    "            b = (subj_df.Context == 7) \n",
    "            diff_2 =subj_df.loc[a, :].groupby('Times Seen Context').mean()['Acc'] - \\\n",
    "                subj_df.loc[b, :].groupby('Times Seen Context').mean()['Acc']\n",
    "\n",
    "            a = (subj_df.Context == 5) | (subj_df.Context == 8)\n",
    "            b = (subj_df.Context == 6) | (subj_df.Context == 7)\n",
    "            diff_3 = \\\n",
    "                subj_df.loc[a, :].groupby('Times Seen Context').mean()['Acc'] - \\\n",
    "                subj_df.loc[b, :].groupby('Times Seen Context').mean()['Acc']\n",
    "\n",
    "            n = len(diff_1)\n",
    "            score.append(pd.DataFrame({\n",
    "                        'Trials in Context': range(n),\n",
    "                        'Comparison': ['T1 vs T4'] * n,\n",
    "                        'Difference Score': diff_1,\n",
    "                        'Iteration': [it] * n,\n",
    "                        'Model': [m] * n,\n",
    "                }))\n",
    "            score.append(pd.DataFrame({\n",
    "                        'Trials in Context': range(n),\n",
    "                        'Comparison': ['T2 vs T3'] * n,\n",
    "                        'Difference Score': diff_2,\n",
    "                        'Iteration': [it] * n,\n",
    "                        'Model': [m] * n,\n",
    "                }))\n",
    "            score.append(pd.DataFrame({\n",
    "                        'Trials in Context': range(n),\n",
    "                        'Comparison': ['T1/4 vs T2/3'] * n,\n",
    "                        'Difference Score': diff_3,\n",
    "                        'Iteration': [it] * n,\n",
    "                        'Model': [m] * n,\n",
    "                }))\n",
    "\n",
    "    return pd.concat(score) \n",
    "\n",
    "def score_acc_3_goals(sampled_batch, batch=0):\n",
    "    accuracy = list()\n",
    "    \n",
    "    df0 = sampled_batch[sampled_batch['In Goal']].copy()\n",
    "    for m in set(df0.Model):\n",
    "        for it in set(df0.Iteration):\n",
    "            subj_df = df0.loc[(df0.Model == m) & (df0.Iteration == it), :]\n",
    "            accuracy.append({\n",
    "                'Condition': 'Training',\n",
    "                'Acc': subj_df.loc[subj_df.Context < 5, 'Acc'].mean(),\n",
    "                'Iteration': it,\n",
    "                'Model': m,\n",
    "                'Batch': ii,\n",
    "            })\n",
    "            accuracy.append({\n",
    "                'Condition': 'Test',\n",
    "                'Acc': subj_df.loc[subj_df.Context >= 5, 'Acc'].mean(),\n",
    "                'Iteration': it,\n",
    "                'Model': m,\n",
    "                'Batch': ii,\n",
    "            })\n",
    "    return accuracy"
   ]
  },
  {
   "cell_type": "code",
   "execution_count": 9,
   "metadata": {},
   "outputs": [
    {
     "data": {
      "application/vnd.jupyter.widget-view+json": {
       "model_id": "b67aa0d96487489d8487de6a11468f03",
       "version_major": 2,
       "version_minor": 0
      },
      "text/plain": [
       "HBox(children=(IntProgress(value=0, max=200), HTML(value=u'')))"
      ]
     },
     "metadata": {},
     "output_type": "display_data"
    },
    {
     "name": "stdout",
     "output_type": "stream",
     "text": [
      "\n"
     ]
    }
   ],
   "source": [
    "\n",
    "n_batches = 200\n",
    "hdi_interval = 0.95\n",
    "\n",
    "stats_exp_3_goals = []\n",
    "\n",
    "exp_3_goals_acc = []\n",
    "\n",
    "for ii in tnrange(n_batches):\n",
    "    batched_data = draw_batch(sims_exp_3, batch_size=114)\n",
    "    \n",
    "    # get the difference scores\n",
    "    scored = score_experiment_3_goals(batched_data)\n",
    "    stats_exp_3_goals += get_diff_stats(scored, idx=ii)\n",
    "    exp_3_goals_acc += score_acc_3_goals(batched_data, batch=ii)\n",
    "    \n",
    "stats_exp_3_goals = pd.DataFrame(stats_exp_3_goals)\n"
   ]
  },
  {
   "cell_type": "code",
   "execution_count": 14,
   "metadata": {},
   "outputs": [
    {
     "name": "stderr",
     "output_type": "stream",
     "text": [
      "100%|██████████| 149/149 [01:39<00:00,  1.68it/s]\n"
     ]
    },
    {
     "name": "stdout",
     "output_type": "stream",
     "text": [
      "N clusters = 2, Covarainace = diag\n"
     ]
    }
   ],
   "source": [
    "exp_3_goals_subj = pd.read_pickle('data/exp1_data.pkl')\n",
    "\n",
    "# exclude! ...\n",
    "excluded = generate_exclusion_list(exp_3_goals_subj, training_contexts=5, goal_chance=1/3.)\n",
    "for e in excluded:\n",
    "    exp_3_goals_subj = exp_3_goals_subj[exp_3_goals_subj.subj != e]\n",
    "uids = list(set(exp_3_goals_subj.subj))\n",
    "exp_3_goals_subj['Accuracy'] = exp_3_goals_subj['Reward'] / 10.0\n",
    "exp_3_goals_subj['Training'] = exp_3_goals_subj.loc[:, 'Context'] < 6\n",
    "exp_3_goals_acc = pd.DataFrame(exp_3_goals_acc)\n",
    "\n"
   ]
  },
  {
   "cell_type": "code",
   "execution_count": 17,
   "metadata": {},
   "outputs": [],
   "source": [
    "# with sns.plotting_context('paper', font_scale=0.5):\n",
    "\n",
    "\n",
    "#     order = pd.DataFrame(exp_4_goals_acc).groupby(['Condition', 'Model']\n",
    "#                 ).mean().loc['Training'].sort_values('Acc', ascending=False)\n",
    "\n",
    "#     g = sns.catplot(data=pd.DataFrame(exp_4_goals_acc),\n",
    "#                 y='Model', x='Acc', ci='sd', col='Condition',\n",
    "#                 col_order=['Training', 'Test'],\n",
    "#                 kind='bar', orient='h', color=[0.75, 0.75, 0.75], height=1.1, \n",
    "#                 aspect=1., order=order.index, errwidth=0.5,\n",
    "#                    )\n",
    "\n",
    "#     plt.ylabel('')\n",
    "#     plt.xlim([0, 1])\n",
    "#     for ii in [0, 1]:\n",
    "#         g.axes[0][ii].set_xlabel('Accuracy')\n",
    "#         g.axes[0][ii].axvline(x=0.25, c='k', ls=':', lw=0.5)\n",
    "#     df0 = sims_exp_4.groupby(['Model']).mean().sort_values('Acc')\n",
    "\n",
    "#     g.axes[0][0].set_ylabel('')\n",
    "\n",
    "#     g.axes[0][0].set_title('Training')\n",
    "#     g.axes[0][1].set_title('Test')\n",
    "\n",
    "#     for ax, _bool in zip(g.axes[0], [True, False]):\n",
    "#         mu = exp_4_goals_subj[\n",
    "#             (exp_4_goals_subj['In Goal']) & (_bool == exp_4_goals_subj['Training'])\n",
    "#         ].groupby('subj').mean().mean()['Accuracy']\n",
    "#         std = exp_4_goals_subj[\n",
    "#             exp_4_goals_subj['In Goal'] & (_bool == exp_4_goals_subj['Training'])\n",
    "#         ].groupby('subj').mean().std()['Accuracy'] \n",
    "\n",
    "\n",
    "#         ax.barh([6.0], [mu], facecolor='k', alpha=0.5 )\n",
    "#         ax.plot([mu-std, mu+std], [6., 6.], c='k', lw=0.5)\n",
    "\n",
    "#     plt.ylabel('')\n",
    "#     plt.xlim([0, 1])\n",
    "#     plt.xlabel('Accuracy')\n",
    "            \n",
    "#     for ax in g.axes[0]:\n",
    "#         ax.spines['left'].set_lw(0.2)\n",
    "#         ax.spines['bottom'].set_lw(0.2)\n",
    "#         ax.tick_params(width=0.2)\n",
    "\n",
    "#     g.axes[0][0].set_yticks(range(0, 7))\n",
    "#     g.axes[0][0].set_yticklabels(order.index.to_list() + ['Subjects'])\n",
    "\n",
    "#     plt.savefig('exp_4_goals_acc.png', dpi=300)"
   ]
  },
  {
   "cell_type": "code",
   "execution_count": 18,
   "metadata": {},
   "outputs": [
    {
     "data": {
      "image/png": "[encoded data removed]",
      "text/plain": [
       "<Figure size 158.4x79.2 with 2 Axes>"
      ]
     },
     "metadata": {
      "needs_background": "light"
     },
     "output_type": "display_data"
    }
   ],
   "source": [
    "\n",
    "with sns.plotting_context('paper', font_scale=0.5):\n",
    "\n",
    "\n",
    "\n",
    "    order = exp_3_goals_acc.groupby(['Condition', 'Model']\n",
    "                ).mean().loc['Training'].sort_values('Acc', ascending=False)\n",
    "\n",
    "    g = sns.catplot(data=exp_3_goals_acc,\n",
    "                y='Model', x='Acc', ci='sd', col='Condition',\n",
    "                col_order=['Training', 'Test'],\n",
    "                kind='bar', orient='h', color=[0.75, 0.75, 0.75], height=1.1, \n",
    "                aspect=1., order=order.index, errwidth=0.5\n",
    "                   )\n",
    "    plt.ylabel('')\n",
    "    plt.xlim([0, 1])\n",
    "    for ii in [0, 1]:\n",
    "        g.axes[0][ii].set_xlabel('Accuracy')\n",
    "        g.axes[0][ii].axvline(x=1./3, c='k', ls=':', lw=0.5)\n",
    "    # df0 = sims_exp_3.groupby(['Model']).mean().sort_values('Acc')\n",
    "\n",
    "    g.axes[0][0].set_ylabel('')\n",
    "\n",
    "    g.axes[0][0].set_title('Training')\n",
    "    g.axes[0][1].set_title('Test')\n",
    "\n",
    "\n",
    "    for ax, _bool in zip(g.axes[0], ['Training', 'Test']):\n",
    "        mu = exp_3_goals_acc[ (_bool == exp_3_goals_acc['Condition'])\n",
    "        ].groupby('Iteration').mean().mean()['Acc']\n",
    "        std = exp_3_goals_acc[ (_bool == exp_3_goals_acc['Condition'])\n",
    "        ].groupby('Iteration').mean().std()['Acc'] \n",
    "\n",
    "\n",
    "        ax.barh([6.0], [mu], facecolor='k', alpha=0.5 )\n",
    "        ax.plot([mu-std, mu+std], [6., 6.], c='k', lw=0.5)\n",
    "\n",
    "    plt.ylabel('')\n",
    "    plt.xlim([0, 1])\n",
    "    plt.xlabel('Accuracy')\n",
    "    \n",
    "    for ax in g.axes[0]:\n",
    "        ax.spines['left'].set_lw(0.2)\n",
    "        ax.spines['bottom'].set_lw(0.2)\n",
    "        ax.tick_params(width=0.2)\n",
    "\n",
    "\n",
    "    g.axes[0][0].set_yticks(range(0, 7))\n",
    "    g.axes[0][0].set_yticklabels(order.index.to_list() + ['Subjects'])\n",
    "    plt.savefig('exp_3_goals_acc.png', dpi=300)"
   ]
  },
  {
   "cell_type": "code",
   "execution_count": 21,
   "metadata": {},
   "outputs": [],
   "source": [
    "hdi_data_exp_3_goals = []\n",
    "for comparison in set(stats_exp_3_goals.Comparison):\n",
    "    for model in set(stats_exp_3_goals.Model):\n",
    "        # can use the function from exp_4_goals without modification\n",
    "        lb, ub = get_hdi_exp4goals(stats_exp_3_goals, model, comparison, hdi=hdi_interval)\n",
    "        hdi_data_exp_3_goals.append({\n",
    "            'Comparison': comparison,\n",
    "            'Model': model,\n",
    "            'Mean': get_mean_exp_4_goals(stats_exp_3_goals, model, comparison),  # don't need to rewrite function\n",
    "            'Lower Bound': lb,\n",
    "            'Upper Bound': ub\n",
    "        })\n",
    "hdi_data_exp_3_goals = pd.DataFrame(hdi_data_exp_3_goals)"
   ]
  },
  {
   "cell_type": "code",
   "execution_count": 31,
   "metadata": {},
   "outputs": [
    {
     "data": {
      "text/html": [
       "<div>\n",
       "<style scoped>\n",
       "    .dataframe tbody tr th:only-of-type {\n",
       "        vertical-align: middle;\n",
       "    }\n",
       "\n",
       "    .dataframe tbody tr th {\n",
       "        vertical-align: top;\n",
       "    }\n",
       "\n",
       "    .dataframe thead th {\n",
       "        text-align: right;\n",
       "    }\n",
       "</style>\n",
       "<table border=\"1\" class=\"dataframe\">\n",
       "  <thead>\n",
       "    <tr style=\"text-align: right;\">\n",
       "      <th></th>\n",
       "      <th>Comparison</th>\n",
       "      <th>Model</th>\n",
       "      <th>Mean</th>\n",
       "      <th>Lower Bound</th>\n",
       "      <th>Upper Bound</th>\n",
       "    </tr>\n",
       "  </thead>\n",
       "  <tbody>\n",
       "    <tr>\n",
       "      <th>0</th>\n",
       "      <td>T1/4 vs T2/3</td>\n",
       "      <td>Q-Learner</td>\n",
       "      <td>0.010675</td>\n",
       "      <td>-0.022807</td>\n",
       "      <td>0.048246</td>\n",
       "    </tr>\n",
       "    <tr>\n",
       "      <th>1</th>\n",
       "      <td>T1/4 vs T2/3</td>\n",
       "      <td>Flat</td>\n",
       "      <td>-0.000162</td>\n",
       "      <td>-0.028947</td>\n",
       "      <td>0.031579</td>\n",
       "    </tr>\n",
       "    <tr>\n",
       "      <th>2</th>\n",
       "      <td>T1/4 vs T2/3</td>\n",
       "      <td>Independent</td>\n",
       "      <td>0.136991</td>\n",
       "      <td>0.116667</td>\n",
       "      <td>0.157895</td>\n",
       "    </tr>\n",
       "    <tr>\n",
       "      <th>3</th>\n",
       "      <td>T1/4 vs T2/3</td>\n",
       "      <td>Joint</td>\n",
       "      <td>0.131053</td>\n",
       "      <td>0.102632</td>\n",
       "      <td>0.157895</td>\n",
       "    </tr>\n",
       "    <tr>\n",
       "      <th>4</th>\n",
       "      <td>T1/4 vs T2/3</td>\n",
       "      <td>Meta</td>\n",
       "      <td>0.129175</td>\n",
       "      <td>0.102632</td>\n",
       "      <td>0.159649</td>\n",
       "    </tr>\n",
       "    <tr>\n",
       "      <th>5</th>\n",
       "      <td>T1/4 vs T2/3</td>\n",
       "      <td>KalmanUCB</td>\n",
       "      <td>-0.005373</td>\n",
       "      <td>-0.028070</td>\n",
       "      <td>0.021930</td>\n",
       "    </tr>\n",
       "    <tr>\n",
       "      <th>6</th>\n",
       "      <td>T1 vs T4</td>\n",
       "      <td>Q-Learner</td>\n",
       "      <td>-0.010342</td>\n",
       "      <td>-0.052632</td>\n",
       "      <td>0.043860</td>\n",
       "    </tr>\n",
       "    <tr>\n",
       "      <th>7</th>\n",
       "      <td>T1 vs T4</td>\n",
       "      <td>Flat</td>\n",
       "      <td>0.000421</td>\n",
       "      <td>-0.040351</td>\n",
       "      <td>0.043860</td>\n",
       "    </tr>\n",
       "    <tr>\n",
       "      <th>8</th>\n",
       "      <td>T1 vs T4</td>\n",
       "      <td>Independent</td>\n",
       "      <td>0.264781</td>\n",
       "      <td>0.228070</td>\n",
       "      <td>0.296491</td>\n",
       "    </tr>\n",
       "    <tr>\n",
       "      <th>9</th>\n",
       "      <td>T1 vs T4</td>\n",
       "      <td>Joint</td>\n",
       "      <td>0.012088</td>\n",
       "      <td>-0.022807</td>\n",
       "      <td>0.047368</td>\n",
       "    </tr>\n",
       "    <tr>\n",
       "      <th>10</th>\n",
       "      <td>T1 vs T4</td>\n",
       "      <td>Meta</td>\n",
       "      <td>0.142272</td>\n",
       "      <td>0.098246</td>\n",
       "      <td>0.184211</td>\n",
       "    </tr>\n",
       "    <tr>\n",
       "      <th>11</th>\n",
       "      <td>T1 vs T4</td>\n",
       "      <td>KalmanUCB</td>\n",
       "      <td>-0.002825</td>\n",
       "      <td>-0.035088</td>\n",
       "      <td>0.040351</td>\n",
       "    </tr>\n",
       "    <tr>\n",
       "      <th>12</th>\n",
       "      <td>T2 vs T3</td>\n",
       "      <td>Q-Learner</td>\n",
       "      <td>0.004991</td>\n",
       "      <td>-0.050877</td>\n",
       "      <td>0.064912</td>\n",
       "    </tr>\n",
       "    <tr>\n",
       "      <th>13</th>\n",
       "      <td>T2 vs T3</td>\n",
       "      <td>Flat</td>\n",
       "      <td>0.000132</td>\n",
       "      <td>-0.050877</td>\n",
       "      <td>0.047368</td>\n",
       "    </tr>\n",
       "    <tr>\n",
       "      <th>14</th>\n",
       "      <td>T2 vs T3</td>\n",
       "      <td>Independent</td>\n",
       "      <td>-0.004868</td>\n",
       "      <td>-0.036842</td>\n",
       "      <td>0.024561</td>\n",
       "    </tr>\n",
       "    <tr>\n",
       "      <th>15</th>\n",
       "      <td>T2 vs T3</td>\n",
       "      <td>Joint</td>\n",
       "      <td>0.148368</td>\n",
       "      <td>0.112281</td>\n",
       "      <td>0.194737</td>\n",
       "    </tr>\n",
       "    <tr>\n",
       "      <th>16</th>\n",
       "      <td>T2 vs T3</td>\n",
       "      <td>Meta</td>\n",
       "      <td>0.057798</td>\n",
       "      <td>0.022807</td>\n",
       "      <td>0.087719</td>\n",
       "    </tr>\n",
       "    <tr>\n",
       "      <th>17</th>\n",
       "      <td>T2 vs T3</td>\n",
       "      <td>KalmanUCB</td>\n",
       "      <td>0.001114</td>\n",
       "      <td>-0.031579</td>\n",
       "      <td>0.038596</td>\n",
       "    </tr>\n",
       "  </tbody>\n",
       "</table>\n",
       "</div>"
      ],
      "text/plain": [
       "      Comparison        Model      Mean  Lower Bound  Upper Bound\n",
       "0   T1/4 vs T2/3    Q-Learner  0.010675    -0.022807     0.048246\n",
       "1   T1/4 vs T2/3         Flat -0.000162    -0.028947     0.031579\n",
       "2   T1/4 vs T2/3  Independent  0.136991     0.116667     0.157895\n",
       "3   T1/4 vs T2/3        Joint  0.131053     0.102632     0.157895\n",
       "4   T1/4 vs T2/3         Meta  0.129175     0.102632     0.159649\n",
       "5   T1/4 vs T2/3    KalmanUCB -0.005373    -0.028070     0.021930\n",
       "6       T1 vs T4    Q-Learner -0.010342    -0.052632     0.043860\n",
       "7       T1 vs T4         Flat  0.000421    -0.040351     0.043860\n",
       "8       T1 vs T4  Independent  0.264781     0.228070     0.296491\n",
       "9       T1 vs T4        Joint  0.012088    -0.022807     0.047368\n",
       "10      T1 vs T4         Meta  0.142272     0.098246     0.184211\n",
       "11      T1 vs T4    KalmanUCB -0.002825    -0.035088     0.040351\n",
       "12      T2 vs T3    Q-Learner  0.004991    -0.050877     0.064912\n",
       "13      T2 vs T3         Flat  0.000132    -0.050877     0.047368\n",
       "14      T2 vs T3  Independent -0.004868    -0.036842     0.024561\n",
       "15      T2 vs T3        Joint  0.148368     0.112281     0.194737\n",
       "16      T2 vs T3         Meta  0.057798     0.022807     0.087719\n",
       "17      T2 vs T3    KalmanUCB  0.001114    -0.031579     0.038596"
      ]
     },
     "execution_count": 31,
     "metadata": {},
     "output_type": "execute_result"
    }
   ],
   "source": [
    "hdi_data_exp_3_goals[['Comparison', 'Model', 'Mean', 'Lower Bound', 'Upper Bound']]"
   ]
  },
  {
   "cell_type": "code",
   "execution_count": 23,
   "metadata": {},
   "outputs": [],
   "source": [
    "def main_effect_mean_sd(model, comp):\n",
    "    v0 = stats_exp_3_goals.loc[\n",
    "                (stats_exp_3_goals.Model == model) & \n",
    "                (stats_exp_3_goals.Comparison == comp) ,'Mean'].values\n",
    "    return np.mean(v0), np.std(v0)\n",
    "\n",
    "def plot_contrasts_exp_3_goals(model, model_name, hdi=0.95):\n",
    "    with sns.axes_style('ticks'):\n",
    "        fig, ax  = plt.subplots(figsize=(1.0, 2.5))  \n",
    "        sns.barplot(x='Comparison', y='Mean', \n",
    "                data=hdi_data_exp_3_goals[(hdi_data_exp_3_goals.Model == model) & \n",
    "                                         ((hdi_data_exp_3_goals.Comparison == 'T1 vs T4') | \n",
    "                                         (hdi_data_exp_3_goals.Comparison == 'T2 vs T3')\n",
    "                                         )\n",
    "                                         ], color='skyblue', ax=ax,\n",
    "                    ci='sd',\n",
    "                    order=['T1 vs T4', 'T2 vs T3', 'T1/4 vs T2/3'])\n",
    "        \n",
    "#         sns.barplot(x='Comparison', y='Mean', \n",
    "#                 data=hdi_data_exp_3_goals[hdi_data_exp_3_goals.Model == model], color='skyblue', ax=ax, \n",
    "#                     order=['T1 vs T4', 'T2 vs T3', 'T1/4 vs T2/3'])\n",
    "        ax.set_ylabel(r'Difference Score', labelpad=-3)\n",
    "        ax.set_xlabel('')\n",
    "        ax.plot([-1, 2], [0, 0], 'k:')\n",
    "        ax.set_xlim([-0.5, 1.5])\n",
    "        ax.set_ylim([-.2, .25])\n",
    "        ax.set_yticks(np.arange(-0.1, 0.351, 0.1))\n",
    "        sns.despine(offset=5)\n",
    "        \n",
    "        plt.xticks([0, 1], [r'1 > 4', u'2 > 3', ], rotation='vertical')\n",
    "        \n",
    "        # plot the error bars (don't need to re-write function here)\n",
    "        lb, ub = get_hdi_exp4goals(stats_exp_3_goals, model, 'T1 vs T4', hdi)\n",
    "        ax.plot([0, 0],[lb, ub], 'k')\n",
    "        def plot_stars(x0):\n",
    "            ax.annotate(\"*\", xy=(x0-0.29, 0.25), size=22)\n",
    "        if np.sign(lb) == np.sign(ub):\n",
    "            plot_stars(0)\n",
    "        \n",
    "        lb, ub = get_hdi_exp4goals(stats_exp_3_goals, model, 'T2 vs T3', hdi)\n",
    "        ax.plot([1, 1],[lb, ub], 'k')\n",
    "        if np.sign(lb) == np.sign(ub):\n",
    "            plot_stars(1)\n",
    "\n",
    "#         lb, ub = get_hdi_exp4goals(stats_exp_3_goals, model, 'T1/4 vs T2/3', hdi)\n",
    "#         ax.plot([2, 2],[lb, ub], 'k')\n",
    "#         if np.sign(lb) == np.sign(ub):\n",
    "#             plot_stars(2)\n",
    "        \n",
    "        ax.set_title(model_name)\n",
    "        return fig, ax\n",
    "    \n",
    "def plot_contrasts_exp_3_goals_to_save(model, model_name, height=0.75, hdi=0.95):\n",
    "    with sns.plotting_context('paper', font_scale=0.5):\n",
    "        with sns.axes_style('ticks'):\n",
    "            fig, ax  = plt.subplots(figsize=(height/2.5, height))\n",
    "            \n",
    "            sns.barplot(x='Comparison', y='Mean', \n",
    "                    data=hdi_data_exp_3_goals[\n",
    "                        (hdi_data_exp_3_goals.Model == model) & \n",
    "                        ((hdi_data_exp_3_goals.Comparison =='T1 vs T4' ) |\n",
    "                        (hdi_data_exp_3_goals.Comparison == 'T2 vs T3'))], color='skyblue', ax=ax, ci=\"sd\",\n",
    "                        order=['T1 vs T4',  'T2 vs T3'])\n",
    "            \n",
    "            ax.set_ylabel(r'Difference Score', labelpad=0)\n",
    "            ax.set_xlabel('')\n",
    "            ax.plot([-1, 2], [0, 0], 'k:', lw=0.5)\n",
    "            ax.set_xlim([-0.5, 1.5])\n",
    "            ax.set_yticks(np.arange(-0.2, 0.35, 0.1))\n",
    "            ax.set_ylim([-0.2, 0.35])\n",
    "            sns.despine(offset=5)\n",
    "\n",
    "            plt.xticks([0, 1], [r'1 > 4',  r'2 > 3' ], rotation='vertical')\n",
    "\n",
    "            def plot_stars(x0):\n",
    "                ax.annotate(\"*\", xy=(x0-0.175, 0.25), size=8)\n",
    "\n",
    "            # plot the error bars\n",
    "            mu, sd = main_effect_mean_sd(model, 'T1 vs T4')\n",
    "            lb, ub = get_hdi_exp4goals(stats_exp_3_goals, model, 'T1 vs T4', hdi)\n",
    "            ax.plot([0, 0],[mu-sd, mu+sd], 'k', lw=0.5)\n",
    "            if np.sign(lb) == np.sign(ub):\n",
    "                plot_stars(0)\n",
    "\n",
    "\n",
    "            mu, sd = main_effect_mean_sd(model, 'T2 vs T3')\n",
    "            lb, ub = get_hdi_exp4goals(stats_exp_3_goals, model, 'T2 vs T3', hdi)\n",
    "            ax.plot([1, 1],[mu-sd, mu+sd], 'k', lw=0.5)\n",
    "\n",
    "            if np.sign(lb) == np.sign(ub):\n",
    "                plot_stars(1)\n",
    "\n",
    "            ax.set_title(model_name)\n",
    "            ax.spines['left'].set_lw(0.2)\n",
    "            ax.spines['bottom'].set_lw(0.2)\n",
    "            ax.tick_params(width=0.2)\n",
    "\n",
    "\n",
    "            \n",
    "            return fig, ax"
   ]
  },
  {
   "cell_type": "code",
   "execution_count": 24,
   "metadata": {},
   "outputs": [
    {
     "data": {
      "image/png": "[encoded data removed]",
      "text/plain": [
       "<Figure size 21.6x54 with 1 Axes>"
      ]
     },
     "metadata": {},
     "output_type": "display_data"
    },
    {
     "data": {
      "image/png": "[encoded data removed]",
      "text/plain": [
       "<Figure size 21.6x54 with 1 Axes>"
      ]
     },
     "metadata": {},
     "output_type": "display_data"
    },
    {
     "data": {
      "image/png": "[encoded data removed]",
      "text/plain": [
       "<Figure size 21.6x54 with 1 Axes>"
      ]
     },
     "metadata": {},
     "output_type": "display_data"
    },
    {
     "data": {
      "image/png": "[encoded data removed]",
      "text/plain": [
       "<Figure size 21.6x54 with 1 Axes>"
      ]
     },
     "metadata": {},
     "output_type": "display_data"
    },
    {
     "data": {
      "image/png": "[encoded data removed]",
      "text/plain": [
       "<Figure size 21.6x54 with 1 Axes>"
      ]
     },
     "metadata": {},
     "output_type": "display_data"
    },
    {
     "data": {
      "image/png": "[encoded data removed]",
      "text/plain": [
       "<Figure size 21.6x54 with 1 Axes>"
      ]
     },
     "metadata": {},
     "output_type": "display_data"
    }
   ],
   "source": [
    "fig, _ = plot_contrasts_exp_3_goals_to_save('Meta', 'Meta')\n",
    "fig.savefig('exp_3_goals_model_meta.png', dpi=300, bbox_inches='tight')\n",
    "fig, _ = plot_contrasts_exp_3_goals_to_save('Independent', 'Indep.')\n",
    "fig.savefig('exp_3_goals_model_indep.png', dpi=300, bbox_inches='tight')\n",
    "fig, _ = plot_contrasts_exp_3_goals_to_save('Joint', 'Joint')\n",
    "fig.savefig('exp_3_goals_model_joint.png', dpi=300, bbox_inches='tight')\n",
    "fig, _ = plot_contrasts_exp_3_goals_to_save('Q-Learner', 'Q')\n",
    "fig.savefig('exp_3_goals_model_q.png', dpi=300, bbox_inches='tight')\n",
    "fig, _ = plot_contrasts_exp_3_goals_to_save('KalmanUCB', 'UCB')\n",
    "fig.savefig('exp_3_goals_model_kal.png', dpi=300, bbox_inches='tight')\n",
    "fig, _ = plot_contrasts_exp_3_goals_to_save('Flat', 'Flat')\n",
    "fig.savefig('exp_3_goals_model_flat.png', dpi=300, bbox_inches='tight')\n",
    "\n",
    "\n"
   ]
  },
  {
   "cell_type": "code",
   "execution_count": 30,
   "metadata": {},
   "outputs": [
    {
     "data": {
      "image/png": "[encoded data removed]",
      "text/plain": [
       "<Figure size 144x72 with 2 Axes>"
      ]
     },
     "metadata": {
      "needs_background": "light"
     },
     "output_type": "display_data"
    }
   ],
   "source": [
    "comp1 = stats_exp_3_goals.Comparison =='T1 vs T4'\n",
    "comp2 = stats_exp_3_goals.Comparison =='T2 vs T3'\n",
    "model = stats_exp_3_goals.Model\n",
    "cc = sns.color_palette('colorblind')\n",
    "\n",
    "with sns.plotting_context('paper', font_scale=0.6):\n",
    "    _, axes = plt.subplots(1, 2, figsize=(2, 1.), sharey=True)\n",
    "    def plot_dist(m_name, ii):\n",
    "            sns.distplot(stats_exp_3_goals.loc[(comp1) & (model == m_name), 'Mean'].values, label=m_name, color=cc[ii],\n",
    "                        ax=axes[0])\n",
    "\n",
    "    plot_dist('Independent', 0)\n",
    "    plot_dist('Joint', 1)\n",
    "    plot_dist('Meta', 2)\n",
    "    plot_dist('Flat', 3)\n",
    "    plot_dist('Q-Learner', 4)\n",
    "    plot_dist('KalmanUCB', 5)\n",
    "\n",
    "    def plot_dist(m_name, ii):\n",
    "        sns.distplot(stats_exp_3_goals.loc[(comp2) & (model == m_name), 'Mean'].values, label=m_name, color=cc[ii],\n",
    "                    ax=axes[1])\n",
    "\n",
    "    plot_dist('Independent', 0)\n",
    "    plot_dist('Joint', 1)\n",
    "    plot_dist('Meta', 2)\n",
    "    plot_dist('Flat', 3)\n",
    "    plot_dist('Q-Learner', 4)\n",
    "    plot_dist('KalmanUCB', 5)\n",
    "\n",
    "\n",
    "    axes[0].set_ylabel('Frequency')\n",
    "    axes[0].set_xlabel('Accuracy Difference')\n",
    "    axes[0].set_title('T1 vs T4')\n",
    "\n",
    "    axes[1].set_xlabel('Accuracy Difference')\n",
    "    axes[1].set_title('T2 vs T3')\n",
    "    sns.despine()\n",
    "    \n",
    "    for ax in axes:\n",
    "        ax.spines['left'].set_lw(0.2)\n",
    "        ax.spines['bottom'].set_lw(0.2)\n",
    "        ax.tick_params(width=0.2)\n",
    "\n",
    "    lgd = axes[1].legend(loc='upper right', bbox_to_anchor=(2.2, 1.00), framealpha=0)\n",
    "\n",
    "    for ii in [0, 1]: axes[ii].axvline(x=0, ls=':', color='k') \n",
    "\n",
    "    plt.savefig('exp_3_goals_effect_size_all.png', dpi=300,bbox_extra_artists=(lgd,),\n",
    "                bbox_inches='tight')\n",
    "\n",
    "\n"
   ]
  },
  {
   "cell_type": "markdown",
   "metadata": {},
   "source": [
    "# Cross experiment comparions\n",
    "for these, need to perform regression analysis on the behavioral data\n",
    "\n",
    "\n"
   ]
  },
  {
   "cell_type": "code",
   "execution_count": 88,
   "metadata": {},
   "outputs": [
    {
     "name": "stderr",
     "output_type": "stream",
     "text": [
      "WARNING (theano.configdefaults): install mkl with `conda install mkl-service`: No module named mkl\n"
     ]
    }
   ],
   "source": [
    "import pymc3 as pm\n",
    "from theano import tensor as T"
   ]
  },
  {
   "cell_type": "markdown",
   "metadata": {},
   "source": [
    "## Experiment 1"
   ]
  },
  {
   "cell_type": "code",
   "execution_count": 89,
   "metadata": {},
   "outputs": [
    {
     "name": "stderr",
     "output_type": "stream",
     "text": [
      "Auto-assigning NUTS sampler...\n",
      "Initializing NUTS using jitter+adapt_diag...\n",
      "Multiprocess sampling (2 chains in 2 jobs)\n",
      "NUTS: [eps, a_subj, sigma_sub, mu_subj, beta_reps, beta_times, beta_taskA, beta_goalA]\n",
      "The number of effective samples is smaller than 25% for some parameters.\n"
     ]
    }
   ],
   "source": [
    "uids = list(set(exp_2_goals_subj.subj))\n",
    "X0 = exp_2_goals_subj[exp_2_goals_subj['In Goal'] & (exp_2_goals_subj['Times Seen Context'] <= 4) &\n",
    "              (exp_2_goals_subj['Context'] >= 4)].copy()\n",
    "\n",
    "X0['subj_id'] = [None] * len(X0)\n",
    "for ii, uid in enumerate(uids):\n",
    "    X0.loc[X0.subj == uid, 'sub_id'] = ii\n",
    "\n",
    "n_subj = int(max(X0.sub_id) + 1)\n",
    "\n",
    "y = np.array(X0['Accuracy'].values)\n",
    "subj_idx = np.array(X0['sub_id'].values, dtype='int')\n",
    "\n",
    "# predictors of interest\n",
    "x_gA = np.array((X0.Context == 4) | (X0.Context == 5), dtype='int') - \\\n",
    "    np.array(X0.Context == 6, dtype='int')\n",
    "x_tA = np.array(X0.Task == 'A', dtype='int') - np.array(X0.Task == 'B', dtype='int')\n",
    "    \n",
    "# nuissance\n",
    "x_ti = X0['Times Seen Context'].values\n",
    "x_ti -= x_ti.mean()\n",
    "x_cr = X0['Context Repeated'].values\n",
    "\n",
    "def tinvlogit(x):\n",
    "    return T.exp(x) / (1 + T.exp(x))\n",
    "\n",
    "with pm.Model() as glm_exp_2_goals:\n",
    "        \n",
    "    # Intercept for each subjects, distributed around group mean mu_a\n",
    "    b_gA = pm.Normal('beta_goalA', mu=0., sd=100)\n",
    "    b_tA = pm.Normal('beta_taskA', mu=0., sd=100)\n",
    "    b_ti = pm.Normal('beta_times', mu=0., sd=100)\n",
    "    b_cr = pm.Normal('beta_reps', mu=0., sd=100)\n",
    "    \n",
    "    # random effects modeled as constant addded/subtracted per subject\n",
    "    mu_sub = pm.Normal('mu_subj', mu=0., sd=100)\n",
    "    sigma_sub = pm.HalfCauchy('sigma_sub', beta=100)\n",
    "    a_sub = pm.Normal('a_subj', mu=mu_sub, sd=sigma_sub, shape=n_subj)\n",
    "    \n",
    "    # Regression model\n",
    "    y_hat = tinvlogit(b_gA * x_gA + b_tA * x_tA +\n",
    "                      b_ti * x_ti + b_cr * x_cr + a_sub[subj_idx])\n",
    "        \n",
    "    #error term\n",
    "    stdev = pm.HalfCauchy('eps', beta=100)\n",
    "    \n",
    "    # Data likelihood\n",
    "    y_like = pm.Normal('like', mu=y_hat, sd=stdev, observed=y)\n",
    "    \n",
    "    \n",
    "    # inference\n",
    "    trace_exp_2_goals = pm.sample(2000)"
   ]
  },
  {
   "cell_type": "markdown",
   "metadata": {},
   "source": [
    "## Experiment 2"
   ]
  },
  {
   "cell_type": "code",
   "execution_count": 90,
   "metadata": {},
   "outputs": [
    {
     "name": "stderr",
     "output_type": "stream",
     "text": [
      "Auto-assigning NUTS sampler...\n",
      "Initializing NUTS using jitter+adapt_diag...\n",
      "Multiprocess sampling (2 chains in 2 jobs)\n",
      "NUTS: [eps, a_subj, sigma_sub, mu_subj, beta_reps, beta_times, beta_ctxT3vs4, beta_ctxT12vs34, beta_ctxT1vs2]\n",
      "The number of effective samples is smaller than 25% for some parameters.\n"
     ]
    }
   ],
   "source": [
    "X0 = exp_4_goals_subj[~exp_4_goals_subj['Training'] & exp_4_goals_subj['In Goal']].copy()\n",
    "uids = list(set(exp_4_goals_subj.subj))\n",
    "\n",
    "\n",
    "X0['subj_id'] = [None] * len(X0)\n",
    "for ii, uid in enumerate(uids):\n",
    "    X0.loc[X0.subj == uid, 'sub_id'] = ii\n",
    "\n",
    "n_subj = int(max(X0.sub_id) + 1)\n",
    "\n",
    "\n",
    "y = np.array(X0['Accuracy'].values)\n",
    "subj_idx = np.array(X0['sub_id'].values, dtype='int')\n",
    "x_1 = np.array(X0.Context.values == 8, dtype=int) - \\\n",
    "     (X0.Context.values == 9 )\n",
    "    \n",
    "x_2 = np.array((X0.Context.values == 8) | (X0.Context.values == 9), dtype=int) - \\\n",
    "     ((X0.Context.values == 10) | (X0.Context.values == 11))\n",
    "    \n",
    "x_3 = np.array(X0.Context.values == 10, dtype=int) - \\\n",
    "     (X0.Context.values == 11)\n",
    "    \n",
    "x_ti = X0['Times Seen Context'].values\n",
    "x_cr = X0['Context Repeated'].values\n",
    "\n",
    "def tinvlogit(x):\n",
    "    return T.exp(x) / (1 + T.exp(x))\n",
    "\n",
    "with pm.Model() as glm_exp_4_goals:\n",
    "        \n",
    "    # Intercept for each subjects, distributed around group mean mu_a\n",
    "    b_1 = pm.Normal('beta_ctxT1vs2',   mu=0., sd=100)\n",
    "    b_2 = pm.Normal('beta_ctxT12vs34', mu=0., sd=100)\n",
    "    b_3 = pm.Normal('beta_ctxT3vs4',   mu=0., sd=100)\n",
    "    b_ti = pm.Normal('beta_times',     mu=0., sd=100)\n",
    "    b_cr = pm.Normal('beta_reps',      mu=0., sd=100)\n",
    "    \n",
    "    # random effects modeled as constant addded/subtracted per subject\n",
    "    mu_sub = pm.Normal('mu_subj', mu=0., sd=100)\n",
    "    sigma_sub = pm.HalfCauchy('sigma_sub', beta=100)\n",
    "    a_sub = pm.Normal('a_subj', mu=mu_sub, sd=sigma_sub, shape=n_subj)\n",
    "    \n",
    "    # Regression model\n",
    "    y_hat = tinvlogit(b_1 * x_1 + b_2 * x_2 + b_3 * x_3 + \\\n",
    "                      b_ti * x_ti + b_cr * x_cr + a_sub[subj_idx])\n",
    "        \n",
    "    #error term\n",
    "    stdev = pm.HalfCauchy('eps', beta=100)\n",
    "    \n",
    "    # Data likelihood\n",
    "    y_like = pm.Normal('like', mu=y_hat, sd=stdev, observed=y)\n",
    "    \n",
    "    glm_trace_exp_4_goals = pm.sample(2000)"
   ]
  },
  {
   "cell_type": "code",
   "execution_count": 91,
   "metadata": {},
   "outputs": [
    {
     "name": "stderr",
     "output_type": "stream",
     "text": [
      "Auto-assigning NUTS sampler...\n",
      "Initializing NUTS using jitter+adapt_diag...\n",
      "Multiprocess sampling (2 chains in 2 jobs)\n",
      "NUTS: [eps, a_subj, sigma_sub, mu_subj, beta_reps, beta_times, beta_ctxT1/4vs2/3, beta_ctxT2vs3, beta_ctxT1vs4]\n"
     ]
    }
   ],
   "source": [
    "# create meaningful regressors\n",
    "# really on only want to look at training\n",
    "X0 = exp_3_goals_subj[~exp_3_goals_subj['Training'] & exp_3_goals_subj['In Goal'] & \n",
    "               (exp_3_goals_subj['Times Seen Context'] <= 5)].copy()\n",
    "uids = list(set(exp_3_goals_subj.subj))\n",
    "\n",
    "\n",
    "X0['subj_id'] = [None] * len(X0)\n",
    "for ii, uid in enumerate(uids):\n",
    "    X0.loc[X0.subj == uid, 'sub_id'] = ii\n",
    "\n",
    "n_subj = int(max(X0.sub_id) + 1)\n",
    "\n",
    "\n",
    "y = np.array(X0['Accuracy'].values)\n",
    "subj_idx = np.array(X0['sub_id'].values, dtype='int')\n",
    "x_1 = np.array(X0.Context.values == 6, dtype='int') - \\\n",
    "     (X0.Context.values == 9)\n",
    "    \n",
    "x_2 = np.array(X0.Context.values == 7, dtype='int') - \\\n",
    "     (X0.Context.values == 8) \n",
    "    \n",
    "x_3 = np.array((X0.Context.values == 6) | (X0.Context.values == 9), dtype='int') - \\\n",
    "     ((X0.Context.values == 7) | (X0.Context.values == 8))\n",
    "    \n",
    "x_ti = X0['Times Seen Context'].values\n",
    "x_cr = X0['Context Repeated'].values\n",
    "\n",
    "def tinvlogit(x):\n",
    "    return T.exp(x) / (1 + T.exp(x))\n",
    "\n",
    "with pm.Model() as glm_exp_3_goals:\n",
    "        \n",
    "    # Intercept for each subjects, distributed around group mean mu_a\n",
    "    b_1 = pm.Normal('beta_ctxT1vs4', mu=0., sd=100)\n",
    "    b_2 = pm.Normal('beta_ctxT2vs3', mu=0., sd=100)\n",
    "    b_3 = pm.Normal('beta_ctxT1/4vs2/3',  mu=0., sd=100)\n",
    "    b_ti = pm.Normal('beta_times',    mu=0., sd=100)\n",
    "    b_cr = pm.Normal('beta_reps',     mu=0., sd=100)\n",
    "    \n",
    "    # random effects modeled as constant addded/subtracted per subject\n",
    "    mu_sub = pm.Normal('mu_subj', mu=0., sd=100)\n",
    "    sigma_sub = pm.HalfCauchy('sigma_sub', beta=100)\n",
    "    a_sub = pm.Normal('a_subj', mu=mu_sub, sd=sigma_sub, shape=n_subj)\n",
    "    \n",
    "    # Regression model\n",
    "    y_hat = tinvlogit(b_1 * x_1 + b_2 * x_2 + b_3 * x_3 + \\\n",
    "                      b_ti * x_ti + b_cr * x_cr + a_sub[subj_idx])\n",
    "        \n",
    "    #error term\n",
    "    stdev = pm.HalfCauchy('eps', beta=100)\n",
    "    \n",
    "    # Data likelihood\n",
    "    y_like = pm.Normal('like', mu=y_hat, sd=stdev, observed=y)\n",
    "    \n",
    "    trace_exp_3_goals = pm.sample(2000)"
   ]
  },
  {
   "cell_type": "code",
   "execution_count": 92,
   "metadata": {},
   "outputs": [
    {
     "data": {
      "text/plain": [
       "beta_goalA    0.007710\n",
       "beta_taskA   -0.407841\n",
       "Name: mean, dtype: float64"
      ]
     },
     "execution_count": 92,
     "metadata": {},
     "output_type": "execute_result"
    }
   ],
   "source": [
    "pm.summary(trace_exp_2_goals).loc[['beta_goalA', 'beta_taskA'], 'mean']"
   ]
  },
  {
   "cell_type": "code",
   "execution_count": 93,
   "metadata": {},
   "outputs": [
    {
     "data": {
      "text/plain": [
       "{'Flat', 'Independent', 'Joint', 'KalmanUCB', 'Meta', 'Q-Learner'}"
      ]
     },
     "execution_count": 93,
     "metadata": {},
     "output_type": "execute_result"
    }
   ],
   "source": [
    "# comp_a = hdi_data_exp_4_goals.Comparison == 'T1 vs T2'\n",
    "# comp_b = hdi_data_exp_4_goals.Comparison == 'T3 vs T4'\n",
    "\n",
    "# hdi_data_exp_4_goals.loc[(comp_a | comp_b) &( model == 'Meta'), :]\n",
    "\n",
    "# stats_exp_2_goals.loc[(goalA) & (model == m_name), 'Acc'].values - \\\n",
    "#                      stats_exp_2_goals.loc[(~goalA) & (model == m_name), 'Acc'].values\n",
    "def main_effect_task_mean_sd(model):\n",
    "    v0 = stats_exp_2_goals.loc[\n",
    "                (stats_exp_2_goals.Model == model) & \n",
    "                (stats_exp_2_goals.Task == 'A') ,'Acc'].values\n",
    "    v1 = stats_exp_2_goals.loc[\n",
    "                (stats_exp_2_goals.Model == model) & \n",
    "                (stats_exp_2_goals.Task == 'B') ,'Acc'].values\n",
    "    diff = -v0 + v1\n",
    "    diff.sort()    \n",
    "    return np.mean(diff), np.std(diff)\n",
    "\n",
    "def main_effect_goal_mean_sd(model):\n",
    "    v0 = stats_exp_2_goals.loc[\n",
    "                (stats_exp_2_goals.Model == model) & \n",
    "                (stats_exp_2_goals['Correct Goal'] == 'A') ,'Acc'].values\n",
    "    v1 = stats_exp_2_goals.loc[\n",
    "                (stats_exp_2_goals.Model == model) & \n",
    "                (stats_exp_2_goals['Correct Goal'] == 'B') ,'Acc'].values\n",
    "    diff = v0 - v1\n",
    "    diff.sort()\n",
    "    \n",
    "    return np.mean(diff), np.std(diff)\n",
    "\n",
    "\n",
    "set(stats_exp_2_goals.Model\n",
    ")# main_effect_goal_mean_sd('Meta')\n",
    "# -main_effect_task_mean_sd('Meta')[0]"
   ]
  },
  {
   "cell_type": "code",
   "execution_count": 94,
   "metadata": {},
   "outputs": [],
   "source": [
    "df = []\n",
    "\n",
    "meta = [main_effect_goal_mean_sd('Meta')[0], main_effect_task_mean_sd('Meta')[0]]\n",
    "joint = [main_effect_goal_mean_sd('Meta')[0], main_effect_task_mean_sd('Joint')[0]]\n",
    "indep = [main_effect_goal_mean_sd('Meta')[0], main_effect_task_mean_sd('Independent')[0]]\n",
    "subjs = [pm.summary(trace_exp_2_goals).loc[['beta_goalA',], 'mean'].values[0],\n",
    "        -pm.summary(trace_exp_2_goals).loc[['beta_taskA',], 'mean'].values[0]]\n",
    "\n",
    "\n",
    "meta /= np.linalg.norm(meta)\n",
    "joint /= np.linalg.norm(joint)\n",
    "indep /= np.linalg.norm(indep)\n",
    "subjs /= np.linalg.norm(subjs)\n",
    "\n",
    "\n",
    "df.append(pd.DataFrame({\n",
    "    'Experiment': [1] * 3,\n",
    "    'angle cos': [np.dot(subjs, joint), np.dot(subjs, indep), np.dot(meta, subjs)],\n",
    "    'Model': ['Joint', 'Indep.', 'Meta'],\n",
    "    'NMI': [1.0] * 3\n",
    "}))\n",
    "\n",
    "comp_a = hdi_data_exp_4_goals.Comparison == 'T1 vs T2'\n",
    "comp_b = hdi_data_exp_4_goals.Comparison == 'T3 vs T4'\n",
    "model = hdi_data_exp_4_goals.Model\n",
    "meta = hdi_data_exp_4_goals.loc[(comp_a | comp_b) &( model == 'Meta'), 'Mean'].values\n",
    "joint = hdi_data_exp_4_goals.loc[(comp_a | comp_b) &( model == 'Joint'), 'Mean'].values\n",
    "indep = hdi_data_exp_4_goals.loc[(comp_a | comp_b) &( model == 'Independent'), 'Mean'].values\n",
    "subjs = pm.summary(glm_trace_exp_4_goals).loc[['beta_ctxT1vs2', 'beta_ctxT3vs4'], 'mean'].values\n",
    "\n",
    "meta /= np.linalg.norm(meta)\n",
    "joint /= np.linalg.norm(joint)\n",
    "indep /= np.linalg.norm(indep)\n",
    "subjs /= np.linalg.norm(subjs)\n",
    "\n",
    "# print np.dot(subjs, flat), np.dot(subjs, joint), np.dot(subjs, indep), np.dot(meta, subjs)\n",
    "df.append(pd.DataFrame({\n",
    "    'Experiment': [2] * 3, \n",
    "    'angle cos': [np.dot(subjs, joint), np.dot(subjs, indep), np.dot(meta, subjs)],\n",
    "    'Model': [ 'Joint', 'Indep.', 'Meta'],\n",
    "    'NMI': [0.126] * 3\n",
    "}))\n",
    "\n",
    "\n",
    "comp_a = hdi_data_exp_3_goals.Comparison == 'T1 vs T4'\n",
    "comp_b = hdi_data_exp_3_goals.Comparison == 'T2 vs T3'\n",
    "model = hdi_data_exp_3_goals.Model\n",
    "meta = hdi_data_exp_3_goals.loc[(comp_a | comp_b) &( model == 'Meta'), 'Mean'].values\n",
    "joint = hdi_data_exp_3_goals.loc[(comp_a | comp_b) &( model == 'Joint'), 'Mean'].values\n",
    "indep = hdi_data_exp_3_goals.loc[(comp_a | comp_b) &( model == 'Independent'), 'Mean'].values\n",
    "flat = hdi_data_exp_3_goals.loc[(comp_a | comp_b) &( model == 'Flat'), 'Mean'].values\n",
    "\n",
    "\n",
    "subjs = pm.summary(trace_exp_3_goals).loc[['beta_ctxT1vs4', 'beta_ctxT2vs3'], 'mean'].values\n",
    "\n",
    "meta /= np.linalg.norm(meta)\n",
    "joint /= np.linalg.norm(joint)\n",
    "indep /= np.linalg.norm(indep)\n",
    "subjs /= np.linalg.norm(subjs)\n",
    "\n",
    "df.append(pd.DataFrame({\n",
    "    'Experiment': [3] * 3,\n",
    "    'angle cos': [np.dot(subjs, joint), np.dot(subjs, indep), np.dot(meta, subjs)],\n",
    "    'Model': ['Joint', 'Indep.', 'Meta'],\n",
    "    'NMI': [0.22] * 3\n",
    "}))\n",
    "# the is the nmi for experiments 1, 2 and 3 respectivley\n",
    "\n",
    "\n",
    "df = pd.concat(df)\n",
    "df.sort_values('NMI', inplace=True)\n",
    "\n",
    "# nmi = [1.0, 0.126, 0.22]\n",
    "# plt.scatter(x=[0.22] * 4, y = [np.dot(subjs, flat), np.dot(subjs, joint), np.dot(subjs, indep), np.dot(meta, subjs)])\n",
    "# plt.scatter(x=[0.22] * 4, y = [np.dot(subjs, flat), np.dot(subjs, joint), np.dot(subjs, indep), np.dot(meta, subjs)])\n"
   ]
  },
  {
   "cell_type": "code",
   "execution_count": 95,
   "metadata": {},
   "outputs": [
    {
     "data": {
      "text/plain": [
       "<seaborn.axisgrid.FacetGrid at 0x167d32fd0>"
      ]
     },
     "execution_count": 95,
     "metadata": {},
     "output_type": "execute_result"
    },
    {
     "data": {
      "image/png": "[encoded data removed]",
      "text/plain": [
       "<Figure size 463.69x360 with 1 Axes>"
      ]
     },
     "metadata": {
      "needs_background": "light"
     },
     "output_type": "display_data"
    }
   ],
   "source": [
    "sns.catplot(data=df, x='Experiment', y='angle cos', hue='Model', kind='point', order = [2, 3, 1],\n",
    "           markers=[\"^\", \"o\", 's'], linestyles=[\"-\", \"--\", \":\"], palette='colorblind')\n"
   ]
  },
  {
   "cell_type": "code",
   "execution_count": 125,
   "metadata": {},
   "outputs": [],
   "source": [
    "\n",
    "df = []\n",
    "\n",
    "for ii in range(200):\n",
    "    \n",
    "    # experiment 1\n",
    "    \n",
    "    w_joint, w_indep = [], []\n",
    "    for w, m in zip([w_joint, w_indep],['Joint', 'Independent']):\n",
    "        v0 = stats_exp_2_goals.loc[\n",
    "                    (stats_exp_2_goals.Model == m) & \n",
    "                    (stats_exp_2_goals['Correct Goal'] == 'A') &\n",
    "                    (stats_exp_2_goals.Sample == ii)\n",
    "            ,'Acc'].mean()\n",
    "        v1 = stats_exp_2_goals.loc[\n",
    "                    (stats_exp_2_goals.Model == m) & \n",
    "                    (stats_exp_2_goals['Correct Goal'] == 'B') &\n",
    "                    (stats_exp_2_goals.Sample == ii)\n",
    "            ,'Acc'].mean()\n",
    "        w.append(v0 - v1)\n",
    "\n",
    "        v0 = stats_exp_2_goals.loc[\n",
    "                    (stats_exp_2_goals.Model == m) & \n",
    "                    (stats_exp_2_goals.Task == 'A') &\n",
    "                    (stats_exp_2_goals.Sample == ii)\n",
    "            ,'Acc'].mean()\n",
    "        v1 = stats_exp_2_goals.loc[\n",
    "                    (stats_exp_2_goals.Model == m) & \n",
    "                    (stats_exp_2_goals.Task == 'B').values  &\n",
    "                    (stats_exp_2_goals.Sample == ii)\n",
    "            ,'Acc'].mean()\n",
    "        w.append(-v0 + v1)\n",
    "        \n",
    "        \n",
    "    #draw a sample from the posterior of the subjects distribution\n",
    "    idx = np.random.randint(len(trace_exp_2_goals))\n",
    "    w_subj = [trace_exp_2_goals['beta_goalA'][idx], -trace_exp_2_goals['beta_taskA'][idx]]\n",
    "    \n",
    "#     w_joint = np.array(w_joint) / np.linalg.norm(w_joint)\n",
    "#     w_indep = np.array(w_indep) / np.linalg.norm(w_indep)\n",
    "#     w_subj = np.array(w_subj) / np.linalg.norm(w_subj)\n",
    "\n",
    "    df.append(pd.DataFrame({\n",
    "        'Experiment': [\"Joint\"] * 2,\n",
    "        'dot product': [np.dot(w_joint, w_subj), np.dot(w_indep, w_subj)],\n",
    "        'angle cos': [np.dot(w_joint, w_subj) / (np.linalg.norm(w_joint) * np.linalg.norm(w_subj)),\n",
    "              np.dot(w_indep, w_subj) / (np.linalg.norm(w_indep) * np.linalg.norm(w_subj))],\n",
    "        'Model': ['Joint', 'Indep.',],\n",
    "        'NMI': [1.0] * 2,\n",
    "        'Sample': [ii] * 2,\n",
    "    }))\n",
    "    \n",
    "    # experiment 2\n",
    "    w_joint, w_indep = [], []\n",
    "    for w, m in zip([w_joint, w_indep],['Joint', 'Independent']):\n",
    "        v0 = stats_exp_4_goals.loc[\n",
    "                    (stats_exp_4_goals.Model == m) & \n",
    "                    (stats_exp_4_goals.Comparison == 'T1 vs T2') &\n",
    "                    (stats_exp_4_goals.Sample == ii)\n",
    "            ,'Mean'].mean()\n",
    "        w.append(v0)\n",
    "\n",
    "        v0 = stats_exp_4_goals.loc[\n",
    "                    (stats_exp_4_goals.Model == m) & \n",
    "                    (stats_exp_4_goals.Comparison == 'T3 vs T4') &\n",
    "                    (stats_exp_4_goals.Sample == ii)\n",
    "            ,'Mean'].mean()\n",
    "        w.append(v0)\n",
    "        \n",
    "    #draw a sample from the posterior of the subjects distribution\n",
    "    idx = np.random.randint(len(glm_trace_exp_4_goals))\n",
    "    w_subj = [glm_trace_exp_4_goals['beta_ctxT1vs2'][idx], glm_trace_exp_4_goals['beta_ctxT3vs4'][idx]]\n",
    "    \n",
    "\n",
    "\n",
    "    df.append(pd.DataFrame({\n",
    "        'Experiment': ['Indep.'] * 2,\n",
    "        'dot product': [np.dot(w_joint, w_subj), np.dot(w_indep, w_subj)],\n",
    "        'angle cos': [np.dot(w_joint, w_subj) / (np.linalg.norm(w_joint) * np.linalg.norm(w_subj)),\n",
    "                      np.dot(w_indep, w_subj) / (np.linalg.norm(w_indep) * np.linalg.norm(w_subj))],\n",
    "        'Model': ['Joint', 'Indep.',],\n",
    "        'NMI': [0.126] * 2,\n",
    "        'Sample': [ii] * 2,\n",
    "    }))\n",
    "    \n",
    "    # experiment 3\n",
    "    w_joint, w_indep = [], []\n",
    "    for w, m in zip([w_joint, w_indep],['Joint', 'Independent']):\n",
    "        v0 = stats_exp_3_goals.loc[\n",
    "                    (stats_exp_3_goals.Model == m) & \n",
    "                    (stats_exp_3_goals.Comparison == 'T1 vs T4') &\n",
    "                    (stats_exp_3_goals.Sample == ii)\n",
    "            ,'Mean'].mean()\n",
    "        w.append(v0)\n",
    "\n",
    "        v0 = stats_exp_3_goals.loc[\n",
    "                    (stats_exp_3_goals.Model == m) & \n",
    "                    (stats_exp_3_goals.Comparison == 'T2 vs T3') &\n",
    "                    (stats_exp_3_goals.Sample == ii)\n",
    "            ,'Mean'].mean()\n",
    "        w.append(v0)\n",
    "        \n",
    "    #draw a sample from the posterior of the subjects distribution\n",
    "    idx = np.random.randint(len(trace_exp_3_goals))\n",
    "    w_subj = [trace_exp_3_goals['beta_ctxT1vs4'][idx], trace_exp_3_goals['beta_ctxT2vs3'][idx]]\n",
    "    \n",
    "\n",
    "\n",
    "    df.append(pd.DataFrame({\n",
    "        'Experiment': ['Ambigous'] * 2,\n",
    "        'dot product': [np.dot(w_joint, w_subj), np.dot(w_indep, w_subj)],\n",
    "        'angle cos': [np.dot(w_joint, w_subj) / (np.linalg.norm(w_joint) * np.linalg.norm(w_subj)),\n",
    "                      np.dot(w_indep, w_subj) / (np.linalg.norm(w_indep) * np.linalg.norm(w_subj))],\n",
    "        'Model': ['Joint', 'Indep.',],\n",
    "        'NMI': [0.22] * 2,\n",
    "        'Sample': [ii] * 2,\n",
    "    }))\n",
    "df = pd.concat(df)\n",
    "angle_cos_df = df.copy()\n",
    "\n"
   ]
  },
  {
   "cell_type": "code",
   "execution_count": 126,
   "metadata": {},
   "outputs": [
    {
     "data": {
      "image/png": "[encoded data removed]",
      "text/plain": [
       "<Figure size 275.305x216 with 1 Axes>"
      ]
     },
     "metadata": {
      "needs_background": "light"
     },
     "output_type": "display_data"
    }
   ],
   "source": [
    "with sns.plotting_context('paper'):\n",
    "    sns.catplot(data=df, x='Experiment', y='angle cos', hue='Model', kind='point', \n",
    "                order = ['Indep.', \"Ambigous\", \"Joint\"], hue_order=['Indep.', \"Joint\"],\n",
    "               markers=[\"^\", \"o\", 's'], linestyles=[\"-\", \"--\", \":\"], palette='colorblind', ci='sd', height=3.)\n",
    "    plt.axhline(y=0, ls=':', c='k')\n",
    "#     plt.ylabel('contrast similarity')\n",
    "    sns.despine(offset=10)\n",
    "    plt.savefig('ModelComp.png', dpi=300, bbox_inches='tight')"
   ]
  },
  {
   "cell_type": "code",
   "execution_count": 98,
   "metadata": {},
   "outputs": [
    {
     "data": {
      "image/png": "[encoded data removed]",
      "text/plain": [
       "<Figure size 275.305x216 with 1 Axes>"
      ]
     },
     "metadata": {
      "needs_background": "light"
     },
     "output_type": "display_data"
    }
   ],
   "source": [
    "# sns.catplot(data=pd.concat(df), y='angle cos', hue='Model', x='Experiment')\n",
    "with sns.plotting_context('paper'):\n",
    "    sns.catplot(data=df, x='Experiment', y='dot product', hue='Model', kind='point', \n",
    "                order = ['Indep.', \"Ambigous\", \"Joint\"], hue_order=['Indep.', \"Joint\"],\n",
    "               markers=[\"^\", \"o\", 's'], linestyles=[\"-\", \"--\", \":\"], palette='colorblind', ci='sd', height=3.)\n",
    "#     plt.savefig('ModelComp.png', dpi=300, bbox_inches='tight')\n",
    "\n"
   ]
  },
  {
   "cell_type": "code",
   "execution_count": 99,
   "metadata": {},
   "outputs": [],
   "source": [
    "df['scaled dot product'] = df['dot product'] / np.max(np.abs(df['dot product']))"
   ]
  },
  {
   "cell_type": "code",
   "execution_count": 100,
   "metadata": {},
   "outputs": [
    {
     "data": {
      "image/png": "[encoded data removed]",
      "text/plain": [
       "<Figure size 275.305x216 with 1 Axes>"
      ]
     },
     "metadata": {
      "needs_background": "light"
     },
     "output_type": "display_data"
    }
   ],
   "source": [
    "# sns.catplot(data=pd.concat(df), y='angle cos', hue='Model', x='Experiment')\n",
    "with sns.plotting_context('paper'):\n",
    "    \n",
    "    sns.catplot(data=df, x='Experiment', y='scaled dot product', hue='Model', kind='point', \n",
    "                order = ['Indep.', \"Ambigous\", \"Joint\"], hue_order=['Indep.', \"Joint\"],\n",
    "               markers=[\"^\", \"o\", 's'], linestyles=[\"-\", \"--\", \":\"], palette='colorblind', ci='sd', height=3.)\n",
    "#     plt.savefig('ModelComp.png', dpi=300, bbox_inches='tight')\n",
    "\n",
    "\n",
    "    plt.axhline(y=0, ls=':', c='k')\n",
    "    plt.ylabel('contrast similarity')\n",
    "    sns.despine(offset=10)"
   ]
  },
  {
   "cell_type": "code",
   "execution_count": 101,
   "metadata": {},
   "outputs": [],
   "source": [
    "df = []\n",
    "\n",
    "meta = [main_effect_goal_mean_sd('Meta')[0], main_effect_task_mean_sd('Meta')[0]]\n",
    "joint = [main_effect_goal_mean_sd('Meta')[0], main_effect_task_mean_sd('Joint')[0]]\n",
    "indep = [main_effect_goal_mean_sd('Meta')[0], main_effect_task_mean_sd('Independent')[0]]\n",
    "subjs = [pm.summary(trace_exp_2_goals).loc[['beta_goalA',], 'mean'].values[0],\n",
    "        -pm.summary(trace_exp_2_goals).loc[['beta_taskA',], 'mean'].values[0]]\n",
    "\n",
    "\n",
    "meta /= np.linalg.norm(meta)\n",
    "joint /= np.linalg.norm(joint)\n",
    "indep /= np.linalg.norm(indep)\n",
    "subjs /= np.linalg.norm(subjs)\n",
    "\n",
    "\n",
    "df.append(pd.DataFrame({\n",
    "    'Experiment': [1] * 3,\n",
    "    'angle cos': [np.dot(subjs, joint), np.dot(subjs, indep), np.dot(meta, subjs)],\n",
    "    'Model': ['Joint', 'Indep.', 'Meta'],\n",
    "    'NMI': [1.0] * 3\n",
    "}))\n",
    "\n",
    "comp_a = hdi_data_exp_4_goals.Comparison == 'T1 vs T2'\n",
    "comp_b = hdi_data_exp_4_goals.Comparison == 'T3 vs T4'\n",
    "model = hdi_data_exp_4_goals.Model\n",
    "meta = hdi_data_exp_4_goals.loc[(comp_a | comp_b) &( model == 'Meta'), 'Mean'].values\n",
    "joint = hdi_data_exp_4_goals.loc[(comp_a | comp_b) &( model == 'Joint'), 'Mean'].values\n",
    "indep = hdi_data_exp_4_goals.loc[(comp_a | comp_b) &( model == 'Independent'), 'Mean'].values\n",
    "subjs = pm.summary(glm_trace_exp_4_goals).loc[['beta_ctxT1vs2', 'beta_ctxT3vs4'], 'mean'].values\n",
    "\n",
    "meta /= np.linalg.norm(meta)\n",
    "joint /= np.linalg.norm(joint)\n",
    "indep /= np.linalg.norm(indep)\n",
    "subjs /= np.linalg.norm(subjs)\n",
    "\n",
    "# print np.dot(subjs, flat), np.dot(subjs, joint), np.dot(subjs, indep), np.dot(meta, subjs)\n",
    "df.append(pd.DataFrame({\n",
    "    'Experiment': [2] * 3, \n",
    "    'angle cos': [np.dot(subjs, joint), np.dot(subjs, indep), np.dot(meta, subjs)],\n",
    "    'Model': [ 'Joint', 'Indep.', 'Meta'],\n",
    "    'NMI': [0.126] * 3\n",
    "}))\n",
    "\n",
    "\n",
    "comp_a = hdi_data_exp_3_goals.Comparison == 'T1 vs T4'\n",
    "comp_b = hdi_data_exp_3_goals.Comparison == 'T2 vs T3'\n",
    "model = hdi_data_exp_3_goals.Model\n",
    "meta = hdi_data_exp_3_goals.loc[(comp_a | comp_b) &( model == 'Meta'), 'Mean'].values\n",
    "joint = hdi_data_exp_3_goals.loc[(comp_a | comp_b) &( model == 'Joint'), 'Mean'].values\n",
    "indep = hdi_data_exp_3_goals.loc[(comp_a | comp_b) &( model == 'Independent'), 'Mean'].values\n",
    "flat = hdi_data_exp_3_goals.loc[(comp_a | comp_b) &( model == 'Flat'), 'Mean'].values\n",
    "\n",
    "\n",
    "subjs = pm.summary(trace_exp_3_goals).loc[['beta_ctxT1vs4', 'beta_ctxT2vs3'], 'mean'].values\n",
    "\n",
    "meta /= np.linalg.norm(meta)\n",
    "joint /= np.linalg.norm(joint)\n",
    "indep /= np.linalg.norm(indep)\n",
    "subjs /= np.linalg.norm(subjs)\n",
    "\n",
    "df.append(pd.DataFrame({\n",
    "    'Experiment': [3] * 3,\n",
    "    'angle cos': [np.dot(subjs, joint), np.dot(subjs, indep), np.dot(meta, subjs)],\n",
    "    'Model': ['Joint', 'Indep.', 'Meta'],\n",
    "    'NMI': [0.22] * 3\n",
    "}))\n",
    "# the is the nmi for experiments 1, 2 and 3 respectivley\n",
    "\n",
    "\n",
    "df = pd.concat(df)\n",
    "df.sort_values('NMI', inplace=True)\n",
    "\n",
    "# nmi = [1.0, 0.126, 0.22]\n",
    "# plt.scatter(x=[0.22] * 4, y = [np.dot(subjs, flat), np.dot(subjs, joint), np.dot(subjs, indep), np.dot(meta, subjs)])\n",
    "# plt.scatter(x=[0.22] * 4, y = [np.dot(subjs, flat), np.dot(subjs, joint), np.dot(subjs, indep), np.dot(meta, subjs)])\n",
    "\n"
   ]
  },
  {
   "cell_type": "code",
   "execution_count": 104,
   "metadata": {},
   "outputs": [
    {
     "data": {
      "text/html": [
       "<div>\n",
       "<style scoped>\n",
       "    .dataframe tbody tr th:only-of-type {\n",
       "        vertical-align: middle;\n",
       "    }\n",
       "\n",
       "    .dataframe tbody tr th {\n",
       "        vertical-align: top;\n",
       "    }\n",
       "\n",
       "    .dataframe thead th {\n",
       "        text-align: right;\n",
       "    }\n",
       "</style>\n",
       "<table border=\"1\" class=\"dataframe\">\n",
       "  <thead>\n",
       "    <tr style=\"text-align: right;\">\n",
       "      <th></th>\n",
       "      <th>Experiment</th>\n",
       "      <th>Model</th>\n",
       "      <th>NMI</th>\n",
       "      <th>angle cos</th>\n",
       "    </tr>\n",
       "  </thead>\n",
       "  <tbody>\n",
       "    <tr>\n",
       "      <th>0</th>\n",
       "      <td>2</td>\n",
       "      <td>Joint</td>\n",
       "      <td>0.126</td>\n",
       "      <td>-0.348969</td>\n",
       "    </tr>\n",
       "    <tr>\n",
       "      <th>1</th>\n",
       "      <td>2</td>\n",
       "      <td>Indep.</td>\n",
       "      <td>0.126</td>\n",
       "      <td>0.945728</td>\n",
       "    </tr>\n",
       "    <tr>\n",
       "      <th>2</th>\n",
       "      <td>2</td>\n",
       "      <td>Meta</td>\n",
       "      <td>0.126</td>\n",
       "      <td>0.429013</td>\n",
       "    </tr>\n",
       "    <tr>\n",
       "      <th>0</th>\n",
       "      <td>3</td>\n",
       "      <td>Joint</td>\n",
       "      <td>0.220</td>\n",
       "      <td>0.545825</td>\n",
       "    </tr>\n",
       "    <tr>\n",
       "      <th>1</th>\n",
       "      <td>3</td>\n",
       "      <td>Indep.</td>\n",
       "      <td>0.220</td>\n",
       "      <td>0.870555</td>\n",
       "    </tr>\n",
       "    <tr>\n",
       "      <th>2</th>\n",
       "      <td>3</td>\n",
       "      <td>Meta</td>\n",
       "      <td>0.220</td>\n",
       "      <td>0.993934</td>\n",
       "    </tr>\n",
       "    <tr>\n",
       "      <th>0</th>\n",
       "      <td>1</td>\n",
       "      <td>Joint</td>\n",
       "      <td>1.000</td>\n",
       "      <td>0.979838</td>\n",
       "    </tr>\n",
       "    <tr>\n",
       "      <th>1</th>\n",
       "      <td>1</td>\n",
       "      <td>Indep.</td>\n",
       "      <td>1.000</td>\n",
       "      <td>0.047349</td>\n",
       "    </tr>\n",
       "    <tr>\n",
       "      <th>2</th>\n",
       "      <td>1</td>\n",
       "      <td>Meta</td>\n",
       "      <td>1.000</td>\n",
       "      <td>0.974263</td>\n",
       "    </tr>\n",
       "  </tbody>\n",
       "</table>\n",
       "</div>"
      ],
      "text/plain": [
       "   Experiment   Model    NMI  angle cos\n",
       "0           2   Joint  0.126  -0.348969\n",
       "1           2  Indep.  0.126   0.945728\n",
       "2           2    Meta  0.126   0.429013\n",
       "0           3   Joint  0.220   0.545825\n",
       "1           3  Indep.  0.220   0.870555\n",
       "2           3    Meta  0.220   0.993934\n",
       "0           1   Joint  1.000   0.979838\n",
       "1           1  Indep.  1.000   0.047349\n",
       "2           1    Meta  1.000   0.974263"
      ]
     },
     "execution_count": 104,
     "metadata": {},
     "output_type": "execute_result"
    }
   ],
   "source": [
    "df"
   ]
  },
  {
   "cell_type": "code",
   "execution_count": 105,
   "metadata": {},
   "outputs": [],
   "source": [
    "# sns.relplot(data=df, x='model vs meta', y='model vs subj', hue='Model')"
   ]
  },
  {
   "cell_type": "markdown",
   "metadata": {},
   "source": [
    "# Meta-Agent Comparison"
   ]
  },
  {
   "cell_type": "code",
   "execution_count": 106,
   "metadata": {},
   "outputs": [
    {
     "data": {
      "application/vnd.jupyter.widget-view+json": {
       "model_id": "875b7439211946898fd870980f0bc89c",
       "version_major": 2,
       "version_minor": 0
      },
      "text/plain": [
       "HBox(children=(IntProgress(value=0, max=200), HTML(value=u'')))"
      ]
     },
     "metadata": {},
     "output_type": "display_data"
    },
    {
     "name": "stdout",
     "output_type": "stream",
     "text": [
      "\n"
     ]
    }
   ],
   "source": [
    "meta_agent_prob = []\n",
    "for ii in tnrange(200):\n",
    "    sample_exp_4_goals = draw_batch(sims_exp_4, batch_size=114)\n",
    "    sample_exp_2_goals = draw_exp_2_sample()\n",
    "    sample_exp_3_goals = draw_batch(sims_exp_3, batch_size=115)\n",
    "\n",
    "\n",
    "    meta_2goals = sample_exp_2_goals[(sample_exp_2_goals['Model'] == 'Meta') & sample_exp_2_goals['In Goal']]\n",
    "    meta_3goals = sample_exp_3_goals[(sample_exp_3_goals['Model'] == 'Meta') & sample_exp_3_goals['In Goal']]\n",
    "    meta_4goals = sample_exp_4_goals[(sample_exp_4_goals['Model'] == 'Meta') & sample_exp_4_goals['In Goal']]\n",
    "    \n",
    "    meta_agent_prob.append({\n",
    "    'Sample': ii,\n",
    "    'Exp 1': meta_2goals.loc[meta_2goals['Trial Number'] == 18, 'Joint Probability'].mean(),\n",
    "    'Exp 2': meta_4goals.loc[meta_4goals['Trial Number'] == 160, 'Joint Probability'].mean(),\n",
    "    'Exp 3': meta_3goals.loc[meta_3goals['Trial Number'] == 120, 'Joint Probability'].mean(),\n",
    "    })"
   ]
  },
  {
   "cell_type": "code",
   "execution_count": 107,
   "metadata": {},
   "outputs": [],
   "source": [
    "meta_agent_prob = pd.DataFrame(meta_agent_prob)"
   ]
  },
  {
   "cell_type": "code",
   "execution_count": 108,
   "metadata": {},
   "outputs": [
    {
     "data": {
      "image/png": "[encoded data removed]",
      "text/plain": [
       "<Figure size 216x216 with 1 Axes>"
      ]
     },
     "metadata": {
      "needs_background": "light"
     },
     "output_type": "display_data"
    }
   ],
   "source": [
    "y = meta_agent_prob.mean().loc[['Exp 1', 'Exp 2', 'Exp 3']]\n",
    "fig, ax = plt.subplots(figsize=(3, 3))\n",
    "plt.bar(range(3), y, color='k', alpha=0.4)\n",
    "ax.set_xticks(range(3))\n",
    "ax.set_xticklabels(['Exp 1', 'Exp 2', 'Exp 3'])\n",
    "sns.despine()\n",
    "\n",
    "lb, ub = get_hdi(meta_agent_prob['Exp 1'])\n",
    "plt.plot([0, 0], [lb, ub], 'k')\n",
    "\n",
    "lb, ub = get_hdi(meta_agent_prob['Exp 2'])\n",
    "plt.plot([1, 1], [lb, ub], 'k')\n",
    "\n",
    "lb, ub = get_hdi(meta_agent_prob['Exp 3'])\n",
    "plt.plot([2, 2], [lb, ub], 'k')\n",
    "\n",
    "ax.axhline(y=0.5, ls=':', color='r')\n",
    "ax.set_ylim([0, 1])\n",
    "ax.set_ylabel('Joint Actor Probability')\n",
    "sns.despine()\n",
    "plt.title('Meta-Agent Selection')\n",
    "plt.savefig('Meta_agents_prob_training_end.png', dpi=300, bbox_inches='tight')"
   ]
  },
  {
   "cell_type": "code",
   "execution_count": 109,
   "metadata": {},
   "outputs": [
    {
     "data": {
      "image/png": "[encoded data removed]",
      "text/plain": [
       "<Figure size 216x216 with 1 Axes>"
      ]
     },
     "metadata": {
      "needs_background": "light"
     },
     "output_type": "display_data"
    }
   ],
   "source": [
    "fig, ax = plt.subplots(figsize=(3, 3))\n",
    "plt.sca(ax)\n",
    "nmi = [1.0, 0.126, 0.22]\n",
    "plt.bar(range(3), nmi, color='k', alpha=0.4)\n",
    "ax.set_xticks(range(3))\n",
    "ax.set_xticklabels(['Exp 1', 'Exp 2', 'Exp 3'])\n",
    "ax.set_ylabel('Normalized Mutal Info')\n",
    "ax.axhline(y=0.5, ls=':', color='r')\n",
    "ax.set_ylim([0, 1])\n",
    "plt.title('Task')\n",
    "sns.despine()\n",
    "plt.savefig('Training_NMI.png', dpi=300, bbox_inches='tight')\n"
   ]
  },
  {
   "cell_type": "code",
   "execution_count": 112,
   "metadata": {},
   "outputs": [
    {
     "data": {
      "text/plain": [
       "Text(0.5,1,'Task')"
      ]
     },
     "execution_count": 112,
     "metadata": {},
     "output_type": "execute_result"
    },
    {
     "data": {
      "image/png": "[encoded data removed]",
      "text/plain": [
       "<Figure size 360x216 with 2 Axes>"
      ]
     },
     "metadata": {
      "needs_background": "light"
     },
     "output_type": "display_data"
    }
   ],
   "source": [
    "# repeat, but with NMI included\n",
    "sns.set_context('paper', font_scale=1.25)\n",
    "y = meta_agent_prob.mean().loc[['Exp 1', 'Exp 2', 'Exp 3']]\n",
    "fig, axes = plt.subplots(1, 2, figsize=(5, 3), gridspec_kw=dict(wspace=0.6))\n",
    "ax = axes[0]\n",
    "plt.sca(ax)\n",
    "plt.bar(range(3), y, color='k', alpha=0.4)\n",
    "ax.set_xticks(range(3))\n",
    "ax.set_xticklabels(['Exp 1', 'Exp 2', 'Exp 3'])\n",
    "sns.despine()\n",
    "\n",
    "lb, ub = get_hdi(meta_agent_prob['Exp 1'])\n",
    "plt.plot([0, 0], [lb, ub], 'k')\n",
    "\n",
    "lb, ub = get_hdi(meta_agent_prob['Exp 2'])\n",
    "plt.plot([1, 1], [lb, ub], 'k')\n",
    "\n",
    "lb, ub = get_hdi(meta_agent_prob['Exp 3'])\n",
    "plt.plot([2, 2], [lb, ub], 'k')\n",
    "\n",
    "ax.axhline(y=0.5, ls=':', color='r')\n",
    "ax.set_ylim([0, 1])\n",
    "ax.set_ylabel('Joint Actor Probability')\n",
    "sns.despine()\n",
    "plt.title('Meta-Agent')\n",
    "\n",
    "ax = axes[1]\n",
    "plt.sca(ax)\n",
    "nmi = [1.0, 0.126, 0.22]\n",
    "plt.bar(range(3), nmi, color='k', alpha=0.4)\n",
    "ax.set_xticks(range(3))\n",
    "ax.set_xticklabels(['Exp 1', 'Exp 2', 'Exp 3'])\n",
    "ax.set_ylabel('Normalized Mutal Info')\n",
    "ax.axhline(y=0.5, ls=':', color='r')\n",
    "ax.set_ylim([0, 1])\n",
    "plt.title('Task')\n",
    "\n",
    "\n",
    "# plt.savefig('Meta_agents_prob_training_end_NMI.png', dpi=300, bbox_inches='tight')"
   ]
  },
  {
   "cell_type": "markdown",
   "metadata": {},
   "source": [
    "one figure with the model comparison's and the meta-agent probability"
   ]
  },
  {
   "cell_type": "code",
   "execution_count": 156,
   "metadata": {},
   "outputs": [
    {
     "data": {
      "image/png": "[encoded data removed]",
      "text/plain": [
       "<Figure size 432x216 with 2 Axes>"
      ]
     },
     "metadata": {
      "needs_background": "light"
     },
     "output_type": "display_data"
    }
   ],
   "source": [
    "# repeat, but w/o NMI + including the model comparisons\n",
    "sns.set_context('paper', font_scale=1.25)\n",
    "\n",
    "# order the experiments by inclreaseing NMI\n",
    "y = meta_agent_prob.mean().loc[['Exp 2',   'Exp 3', 'Exp 1',]]\n",
    "fig, axes = plt.subplots(1, 2, figsize=(6, 3), gridspec_kw=dict(wspace=0.4))\n",
    "ax = axes[1]\n",
    "plt.sca(ax)\n",
    "plt.bar(range(3), y, color='k', alpha=0.4)\n",
    "ax.set_xticks(range(3))\n",
    "ax.set_xticklabels(['Indep.', \"Ambig.\", \"Joint\"])\n",
    "sns.despine()\n",
    "\n",
    "\n",
    "lb, ub = get_hdi(meta_agent_prob['Exp 2'])\n",
    "plt.plot([0, 0], [lb, ub], 'k')\n",
    "\n",
    "lb, ub = get_hdi(meta_agent_prob['Exp 3'])\n",
    "plt.plot([1, 1], [lb, ub], 'k')\n",
    "\n",
    "lb, ub = get_hdi(meta_agent_prob['Exp 1'])\n",
    "plt.plot([2, 2], [lb, ub], 'k')\n",
    "\n",
    "\n",
    "\n",
    "\n",
    "ax.axhline(y=0.5, ls=':', color='r')\n",
    "ax.set_ylim([0, 1])\n",
    "ax.set_ylabel('Joint Actor Probability', labelpad=-3)\n",
    "ax.set_xlabel('Experiment')\n",
    "sns.despine()\n",
    "plt.title('Meta-Agent Selection')\n",
    "\n",
    "ax = axes[0]\n",
    "sns.pointplot(data=angle_cos_df, x='Experiment', y='angle cos', hue='Model', ax=ax, \n",
    "            order = ['Indep.', \"Ambigous\", \"Joint\"], hue_order=['Indep.', \"Joint\"],\n",
    "           markers=[\"^\", \"o\", 's'], linestyles=[\"-\", \"--\", \":\"], palette='colorblind', ci='sd', height=3.)\n",
    "ax.set_ylabel('Angle Cos', labelpad=-3)\n",
    "ax.axhline(y=0, ls=':', c='k')\n",
    "ax.set_xticklabels(['Indep.', \"Ambig.\", \"Joint\"])\n",
    "ax.set_title('Model Similarity')\n",
    "\n",
    "sns.despine()\n",
    "\n",
    "# #     plt.ylabel('contrast similarity')\n",
    "#     sns.despine(offset=10)\n",
    "\n",
    "# ax = axes[1]\n",
    "# plt.sca(ax)\n",
    "# nmi = [1.0, 0.126, 0.22]\n",
    "# plt.bar(range(3), nmi, color='k', alpha=0.4)\n",
    "# ax.set_xticks(range(3))\n",
    "# ax.set_xticklabels(['Exp 1', 'Exp 2', 'Exp 3'])\n",
    "# ax.set_ylabel('Normalized Mutal Info')\n",
    "# ax.axhline(y=0.5, ls=':', color='r')\n",
    "# ax.set_ylim([0, 1])\n",
    "# plt.title('Task')\n",
    "\n",
    "\n",
    "plt.savefig('Meta_agents_prob_training_end_model_similarity.png', dpi=300, bbox_inches='tight')"
   ]
  },
  {
   "cell_type": "code",
   "execution_count": 124,
   "metadata": {},
   "outputs": [
    {
     "data": {
      "text/html": [
       "<div>\n",
       "<style scoped>\n",
       "    .dataframe tbody tr th:only-of-type {\n",
       "        vertical-align: middle;\n",
       "    }\n",
       "\n",
       "    .dataframe tbody tr th {\n",
       "        vertical-align: top;\n",
       "    }\n",
       "\n",
       "    .dataframe thead th {\n",
       "        text-align: right;\n",
       "    }\n",
       "</style>\n",
       "<table border=\"1\" class=\"dataframe\">\n",
       "  <thead>\n",
       "    <tr style=\"text-align: right;\">\n",
       "      <th></th>\n",
       "      <th>Experiment</th>\n",
       "      <th>Model</th>\n",
       "      <th>NMI</th>\n",
       "      <th>angle cos</th>\n",
       "    </tr>\n",
       "  </thead>\n",
       "  <tbody>\n",
       "    <tr>\n",
       "      <th>0</th>\n",
       "      <td>2</td>\n",
       "      <td>Joint</td>\n",
       "      <td>0.126</td>\n",
       "      <td>-0.348969</td>\n",
       "    </tr>\n",
       "    <tr>\n",
       "      <th>1</th>\n",
       "      <td>2</td>\n",
       "      <td>Indep.</td>\n",
       "      <td>0.126</td>\n",
       "      <td>0.945728</td>\n",
       "    </tr>\n",
       "    <tr>\n",
       "      <th>2</th>\n",
       "      <td>2</td>\n",
       "      <td>Meta</td>\n",
       "      <td>0.126</td>\n",
       "      <td>0.429013</td>\n",
       "    </tr>\n",
       "    <tr>\n",
       "      <th>0</th>\n",
       "      <td>3</td>\n",
       "      <td>Joint</td>\n",
       "      <td>0.220</td>\n",
       "      <td>0.545825</td>\n",
       "    </tr>\n",
       "    <tr>\n",
       "      <th>1</th>\n",
       "      <td>3</td>\n",
       "      <td>Indep.</td>\n",
       "      <td>0.220</td>\n",
       "      <td>0.870555</td>\n",
       "    </tr>\n",
       "    <tr>\n",
       "      <th>2</th>\n",
       "      <td>3</td>\n",
       "      <td>Meta</td>\n",
       "      <td>0.220</td>\n",
       "      <td>0.993934</td>\n",
       "    </tr>\n",
       "    <tr>\n",
       "      <th>0</th>\n",
       "      <td>1</td>\n",
       "      <td>Joint</td>\n",
       "      <td>1.000</td>\n",
       "      <td>0.979838</td>\n",
       "    </tr>\n",
       "    <tr>\n",
       "      <th>1</th>\n",
       "      <td>1</td>\n",
       "      <td>Indep.</td>\n",
       "      <td>1.000</td>\n",
       "      <td>0.047349</td>\n",
       "    </tr>\n",
       "    <tr>\n",
       "      <th>2</th>\n",
       "      <td>1</td>\n",
       "      <td>Meta</td>\n",
       "      <td>1.000</td>\n",
       "      <td>0.974263</td>\n",
       "    </tr>\n",
       "  </tbody>\n",
       "</table>\n",
       "</div>"
      ],
      "text/plain": [
       "   Experiment   Model    NMI  angle cos\n",
       "0           2   Joint  0.126  -0.348969\n",
       "1           2  Indep.  0.126   0.945728\n",
       "2           2    Meta  0.126   0.429013\n",
       "0           3   Joint  0.220   0.545825\n",
       "1           3  Indep.  0.220   0.870555\n",
       "2           3    Meta  0.220   0.993934\n",
       "0           1   Joint  1.000   0.979838\n",
       "1           1  Indep.  1.000   0.047349\n",
       "2           1    Meta  1.000   0.974263"
      ]
     },
     "execution_count": 124,
     "metadata": {},
     "output_type": "execute_result"
    }
   ],
   "source": [
    "df"
   ]
  },
  {
   "cell_type": "code",
   "execution_count": 145,
   "metadata": {},
   "outputs": [
    {
     "name": "stdout",
     "output_type": "stream",
     "text": [
      "Help on function despine in module seaborn.utils:\n",
      "\n",
      "despine(fig=None, ax=None, top=True, right=True, left=False, bottom=False, offset=None, trim=False)\n",
      "    Remove the top and right spines from plot(s).\n",
      "    \n",
      "    fig : matplotlib figure, optional\n",
      "        Figure to despine all axes of, default uses current figure.\n",
      "    ax : matplotlib axes, optional\n",
      "        Specific axes object to despine.\n",
      "    top, right, left, bottom : boolean, optional\n",
      "        If True, remove that spine.\n",
      "    offset : int or dict, optional\n",
      "        Absolute distance, in points, spines should be moved away\n",
      "        from the axes (negative values move spines inward). A single value\n",
      "        applies to all spines; a dict can be used to set offset values per\n",
      "        side.\n",
      "    trim : bool, optional\n",
      "        If True, limit spines to the smallest and largest major tick\n",
      "        on each non-despined axis.\n",
      "    \n",
      "    Returns\n",
      "    -------\n",
      "    None\n",
      "\n"
     ]
    }
   ],
   "source": [
    "help(sns.despine)"
   ]
  },
  {
   "cell_type": "markdown",
   "metadata": {},
   "source": [
    "## Training Accuracy\n",
    "Bootstrap statistics for training accuracy across experiments"
   ]
  },
  {
   "cell_type": "code",
   "execution_count": null,
   "metadata": {},
   "outputs": [],
   "source": [
    "train_acc_2_g = sims_exp_2.loc[sims_exp_2['In Goal'] & (sims_exp_2['Context'] < 3), :].groupby(\n",
    "    ['Model', 'Iteration']).mean()['Acc']\n",
    "train_acc_3_g = sims_exp_3.loc[sims_exp_3['In Goal'] & (sims_exp_3['Context'] < 7), :].groupby(\n",
    "    ['Model', 'Iteration']).mean()['Acc']\n",
    "train_acc_4_g = sims_exp_4.loc[sims_exp_4['In Goal'] & (sims_exp_4['Context'] < 9), :].groupby(\n",
    "    ['Model', 'Iteration']).mean()['Acc']\n",
    "\n"
   ]
  },
  {
   "cell_type": "code",
   "execution_count": null,
   "metadata": {},
   "outputs": [],
   "source": [
    "def draw_bootstrap_sample_acc_2g(model):\n",
    "    idx = np.random.permutation(range(2000))[:49 + 80]\n",
    "    return np.mean(train_acc_2_g.loc[model, idx].values)\n",
    "\n",
    "def draw_bootstrap_sample_acc_3g(model):\n",
    "    idx = np.random.permutation(range(1000))[:114]\n",
    "    return np.mean(train_acc_3_g.loc[model, idx].values)\n",
    "\n",
    "def draw_bootstrap_sample_acc_4g(model):\n",
    "    idx = np.random.permutation(range(1000))[:115]\n",
    "    return np.mean(train_acc_4_g.loc[model, idx].values)"
   ]
  },
  {
   "cell_type": "code",
   "execution_count": null,
   "metadata": {},
   "outputs": [],
   "source": [
    "training_acc = []\n",
    "for ii in range(100):\n",
    "    for m in [u'Flat', u'Independent', u'Joint', u'Meta']:\n",
    "        training_acc.append({\n",
    "            'Model': m,\n",
    "            'Experiment': 'Exp 1',\n",
    "            'Accuracy': draw_bootstrap_sample_acc_2g(m),\n",
    "            'Iteration': ii,\n",
    "        })\n",
    "        training_acc.append({\n",
    "            'Model': m,\n",
    "            'Experiment': 'Exp 2',\n",
    "            'Accuracy': draw_bootstrap_sample_acc_4g(m),\n",
    "            'Iteration': ii,\n",
    "        })\n",
    "        training_acc.append({\n",
    "            'Model': m,\n",
    "            'Experiment': 'Exp 3',\n",
    "            'Accuracy': draw_bootstrap_sample_acc_3g(m),\n",
    "            'Iteration': ii,\n",
    "        })\n",
    "training_acc = pd.DataFrame(training_acc) "
   ]
  },
  {
   "cell_type": "code",
   "execution_count": null,
   "metadata": {},
   "outputs": [],
   "source": [
    "sns.catplot(data=training_acc, y='Accuracy', x='Model', col='Experiment', kind='bar',)"
   ]
  },
  {
   "cell_type": "code",
   "execution_count": null,
   "metadata": {},
   "outputs": [],
   "source": []
  },
  {
   "cell_type": "code",
   "execution_count": null,
   "metadata": {},
   "outputs": [],
   "source": [
    "# Experiment 1\n",
    "sns.distplot(training_acc.loc[(training_acc.Experiment == 'Exp 1') & (training_acc.Model == 'Independent'), 'Accuracy'].values - \\\n",
    "training_acc.loc[(training_acc.Experiment == 'Exp 1') & (training_acc.Model == 'Flat'), 'Accuracy'].values, label='Independent')\n",
    "\n",
    "sns.distplot(training_acc.loc[(training_acc.Experiment == 'Exp 1') & (training_acc.Model == 'Joint'), 'Accuracy'].values - \\\n",
    "training_acc.loc[(training_acc.Experiment == 'Exp 1') & (training_acc.Model == 'Flat'), 'Accuracy'].values, label='Joint')\n",
    "\n",
    "sns.distplot(training_acc.loc[(training_acc.Experiment == 'Exp 1') & (training_acc.Model == 'Meta'), 'Accuracy'].values - \\\n",
    "training_acc.loc[(training_acc.Experiment == 'Exp 1') & (training_acc.Model == 'Flat'), 'Accuracy'].values, label='Meta')\n",
    "plt.legend()\n",
    "plt.xlabel(\"Training Accuracy over Flat Agent\")\n",
    "\n",
    "d_i = training_acc.loc[(training_acc.Experiment == 'Exp 1') & (training_acc.Model == 'Independent'), 'Accuracy'].values - \\\n",
    "training_acc.loc[(training_acc.Experiment == 'Exp 1') & (training_acc.Model == 'Flat'), 'Accuracy'].values\n",
    "d_j = training_acc.loc[(training_acc.Experiment == 'Exp 1') & (training_acc.Model == 'Joint'), 'Accuracy'].values - \\\n",
    "training_acc.loc[(training_acc.Experiment == 'Exp 1') & (training_acc.Model == 'Flat'), 'Accuracy'].values\n",
    "d_m = training_acc.loc[(training_acc.Experiment == 'Exp 1') & (training_acc.Model == 'Meta'), 'Accuracy'].values -\\\n",
    "training_acc.loc[(training_acc.Experiment == 'Exp 1') & (training_acc.Model == 'Flat'), 'Accuracy'].values\n",
    "# print p_i, p_j, p_m\n",
    "d_i.sort()\n",
    "d_j.sort()\n",
    "d_m.sort()\n",
    "\n",
    "n = len(d_i)\n",
    "print \"Indep Mean={}, 95% HDI = [{}, {}]\".format(d_i.mean(), d_i[int(np.floor(n * 0.025))], d_i[int(np.ceil(n * 0.975))]) \n",
    "print \"Joint Mean={}, 95% HDI = [{}, {}]\".format(d_j.mean(),d_j[int(np.floor(n * 0.025))], d_j[int(np.ceil(n * 0.975))]) \n",
    "print \"Meta  Mean={}, 95% HDI = [{}, {}]\".format(d_m.mean(),d_m[int(np.floor(n * 0.025))], d_m[int(np.ceil(n * 0.975))])\n"
   ]
  },
  {
   "cell_type": "code",
   "execution_count": null,
   "metadata": {},
   "outputs": [],
   "source": [
    "# Experiment 2\n",
    "sns.distplot(training_acc.loc[(training_acc.Experiment == 'Exp 2') & (training_acc.Model == 'Independent'), 'Accuracy'].values - \\\n",
    "training_acc.loc[(training_acc.Experiment == 'Exp 2') & (training_acc.Model == 'Flat'), 'Accuracy'].values, label='Independent')\n",
    "\n",
    "sns.distplot(training_acc.loc[(training_acc.Experiment == 'Exp 2') & (training_acc.Model == 'Joint'), 'Accuracy'].values - \\\n",
    "training_acc.loc[(training_acc.Experiment == 'Exp 2') & (training_acc.Model == 'Flat'), 'Accuracy'].values, label='Joint')\n",
    "\n",
    "sns.distplot(training_acc.loc[(training_acc.Experiment == 'Exp 2') & (training_acc.Model == 'Meta'), 'Accuracy'].values - \\\n",
    "training_acc.loc[(training_acc.Experiment == 'Exp 2') & (training_acc.Model == 'Flat'), 'Accuracy'].values, label='Meta')\n",
    "plt.legend()\n",
    "plt.xlabel(\"Training Accuracy over Flat Agent\")\n",
    "\n",
    "d_i = training_acc.loc[(training_acc.Experiment == 'Exp 2') & (training_acc.Model == 'Independent'), 'Accuracy'].values - \\\n",
    "training_acc.loc[(training_acc.Experiment == 'Exp 2') & (training_acc.Model == 'Flat'), 'Accuracy'].values\n",
    "d_j = training_acc.loc[(training_acc.Experiment == 'Exp 2') & (training_acc.Model == 'Joint'), 'Accuracy'].values - \\\n",
    "training_acc.loc[(training_acc.Experiment == 'Exp 2') & (training_acc.Model == 'Flat'), 'Accuracy'].values\n",
    "d_m = training_acc.loc[(training_acc.Experiment == 'Exp 2') & (training_acc.Model == 'Meta'), 'Accuracy'].values -\\\n",
    "training_acc.loc[(training_acc.Experiment == 'Exp 2') & (training_acc.Model == 'Flat'), 'Accuracy'].values\n",
    "# print p_i, p_j, p_m\n",
    "d_i.sort()\n",
    "d_j.sort()\n",
    "d_m.sort()\n",
    "\n",
    "n = len(d_i)\n",
    "print \"Indep Mean={}, 95% HDI = [{}, {}]\".format(d_i.mean(), d_i[int(np.floor(n * 0.025))], d_i[int(np.ceil(n * 0.975))]) \n",
    "print \"Joint Mean={}, 95% HDI = [{}, {}]\".format(d_j.mean(), d_j[int(np.floor(n * 0.025))], d_j[int(np.ceil(n * 0.975))]) \n",
    "print \"Meta  Mean={}, 95% HDI = [{}, {}]\".format(d_m.mean(), d_m[int(np.floor(n * 0.025))], d_m[int(np.ceil(n * 0.975))])\n",
    "\n"
   ]
  },
  {
   "cell_type": "code",
   "execution_count": null,
   "metadata": {},
   "outputs": [],
   "source": [
    "# Experiment 2\n",
    "sns.distplot(training_acc.loc[(training_acc.Experiment == 'Exp 3') & (training_acc.Model == 'Independent'), 'Accuracy'].values - \\\n",
    "training_acc.loc[(training_acc.Experiment == 'Exp 3') & (training_acc.Model == 'Flat'), 'Accuracy'].values, label='Independent')\n",
    "\n",
    "sns.distplot(training_acc.loc[(training_acc.Experiment == 'Exp 3') & (training_acc.Model == 'Joint'), 'Accuracy'].values - \\\n",
    "training_acc.loc[(training_acc.Experiment == 'Exp 3') & (training_acc.Model == 'Flat'), 'Accuracy'].values, label='Joint')\n",
    "\n",
    "sns.distplot(training_acc.loc[(training_acc.Experiment == 'Exp 3') & (training_acc.Model == 'Meta'), 'Accuracy'].values - \\\n",
    "training_acc.loc[(training_acc.Experiment == 'Exp 3') & (training_acc.Model == 'Flat'), 'Accuracy'].values, label='Meta')\n",
    "plt.legend()\n",
    "plt.xlabel(\"Training Accuracy over Flat Agent\")\n",
    "\n",
    "d_i = training_acc.loc[(training_acc.Experiment == 'Exp 3') & (training_acc.Model == 'Independent'), 'Accuracy'].values - \\\n",
    "training_acc.loc[(training_acc.Experiment == 'Exp 3') & (training_acc.Model == 'Flat'), 'Accuracy'].values\n",
    "d_j = training_acc.loc[(training_acc.Experiment == 'Exp 3') & (training_acc.Model == 'Joint'), 'Accuracy'].values - \\\n",
    "training_acc.loc[(training_acc.Experiment == 'Exp 3') & (training_acc.Model == 'Flat'), 'Accuracy'].values\n",
    "d_m = training_acc.loc[(training_acc.Experiment == 'Exp 3') & (training_acc.Model == 'Meta'), 'Accuracy'].values -\\\n",
    "training_acc.loc[(training_acc.Experiment == 'Exp 3') & (training_acc.Model == 'Flat'), 'Accuracy'].values\n",
    "# print p_i, p_j, p_m\n",
    "d_i.sort()\n",
    "d_j.sort()\n",
    "d_m.sort()\n",
    "\n",
    "n = len(d_i)\n",
    "print \"Indep Mean={}, 95% HDI = [{}, {}]\".format(d_i.mean(), d_i[int(np.floor(n * 0.025))], d_i[int(np.ceil(n * 0.975))]) \n",
    "print \"Joint Mean={}, 95% HDI = [{}, {}]\".format(d_j.mean(), d_j[int(np.floor(n * 0.025))], d_j[int(np.ceil(n * 0.975))]) \n",
    "print \"Meta  Mean={}, 95% HDI = [{}, {}]\".format(d_m.mean(), d_m[int(np.floor(n * 0.025))], d_m[int(np.ceil(n * 0.975))])\n",
    "\n",
    "\n"
   ]
  },
  {
   "cell_type": "code",
   "execution_count": null,
   "metadata": {},
   "outputs": [],
   "source": []
  },
  {
   "cell_type": "code",
   "execution_count": null,
   "metadata": {},
   "outputs": [],
   "source": []
  },
  {
   "cell_type": "code",
   "execution_count": null,
   "metadata": {},
   "outputs": [],
   "source": []
  },
  {
   "cell_type": "code",
   "execution_count": null,
   "metadata": {},
   "outputs": [],
   "source": []
  },
  {
   "cell_type": "code",
   "execution_count": null,
   "metadata": {},
   "outputs": [],
   "source": []
  }
 ],
 "metadata": {
  "kernelspec": {
   "display_name": "Python 2",
   "language": "python",
   "name": "python2"
  },
  "language_info": {
   "codemirror_mode": {
    "name": "ipython",
    "version": 2
   },
   "file_extension": ".py",
   "mimetype": "text/x-python",
   "name": "python",
   "nbconvert_exporter": "python",
   "pygments_lexer": "ipython2",
   "version": "2.7.15"
  }
 },
 "nbformat": 4,
 "nbformat_minor": 1
}
