{
 "cells": [
  {
   "cell_type": "code",
   "execution_count": 1,
   "metadata": {},
   "outputs": [
    {
     "name": "stderr",
     "output_type": "stream",
     "text": [
      "/anaconda2/envs/compgen/lib/python2.7/site-packages/h5py/__init__.py:36: FutureWarning: Conversion of the second argument of issubdtype from `float` to `np.floating` is deprecated. In future, it will be treated as `np.float64 == np.dtype(float).type`.\n",
      "  from ._conv import register_converters as _register_converters\n"
     ]
    }
   ],
   "source": [
    "%matplotlib inline\n",
    "import numpy as np\n",
    "import pandas as pd\n",
    "import pymc3 as pm\n",
    "import matplotlib.pyplot as plt\n",
    "from opt import generate_exclusion_list, make_group_model"
   ]
  },
  {
   "cell_type": "code",
   "execution_count": 2,
   "metadata": {},
   "outputs": [
    {
     "name": "stderr",
     "output_type": "stream",
     "text": [
      "100%|██████████| 149/149 [00:50<00:00,  3.04it/s]\n"
     ]
    }
   ],
   "source": [
    "proc_data = pd.read_pickle('data/exp1_data.pkl')\n",
    "\n",
    "# exclude! ...\n",
    "excluded = generate_exclusion_list(proc_data, training_contexts=5, goal_chance=1/3.)\n",
    "for e in excluded:\n",
    "    proc_data = proc_data[proc_data.subj != e]\n",
    "    \n",
    "proc_data = proc_data[proc_data['In Goal']]"
   ]
  },
  {
   "cell_type": "markdown",
   "metadata": {},
   "source": [
    "For legibility, the construction of the model predictors is offloaded.\n",
    "The script below returns a dictionary with \n",
    "   * the chosen goals (coded as categorical values of 0:n_goals)\n",
    "   * the Q values from a 2-parameter Q-learner (estimated with importance sampling)\n",
    "   * the WM values from a 2-parameter WM model (estimated with importance sampling)\n",
    "   * goal popularity across all contexts\n",
    "   * goal popularity across all contexts that share a mapping\n",
    "   * Win-Stay\n",
    "   * subject id"
   ]
  },
  {
   "cell_type": "code",
   "execution_count": 3,
   "metadata": {},
   "outputs": [
    {
     "name": "stderr",
     "output_type": "stream",
     "text": [
      "100%|██████████| 115/115 [02:55<00:00,  1.52s/it]\n"
     ]
    }
   ],
   "source": [
    "model_parameters = make_group_model(proc_data)"
   ]
  },
  {
   "cell_type": "markdown",
   "metadata": {},
   "source": [
    "For softmax regression, it is useful to mean center each prediction vector and sometimes it is useful to normalize. "
   ]
  },
  {
   "cell_type": "code",
   "execution_count": 25,
   "metadata": {},
   "outputs": [],
   "source": [
    "# prep all of the subjects\n",
    "\n",
    "    \n",
    "from sklearn.preprocessing import normalize\n",
    "\n",
    "def mean_center(X):\n",
    "    return X - np.tile(np.mean(X, axis=1), (X.shape[1], 1)).T\n",
    "\n",
    "y         = model_parameters['Goal-Choice-Id']\n",
    "\n",
    "X_ind     = mean_center(model_parameters['Prior-Independent'])\n",
    "X_joint   = mean_center(model_parameters['Prior-Joint'])\n",
    "X_ws      = mean_center(model_parameters['Win-Stay'])\n",
    "X_Q       = mean_center(model_parameters['Q-Values'])\n",
    "X_wm      = mean_center(model_parameters['WM-Value'])\n",
    "\n",
    "subj_idx  = model_parameters['Subjects']\n",
    "\n",
    "# decorrelate predictors\n",
    "X_gen_pop  = mean_center(normalize(X_ind) + normalize(X_joint)) - normalize(X_Q)\n",
    "X_gen_diff = mean_center(normalize(X_ind) - normalize(X_joint)) - normalize(X_Q)\n",
    "X_winst    = mean_center(normalize(X_ws) - normalize(X_Q))\n",
    "X_wm       = mean_center(normalize(X_wm) - normalize(X_Q))\n",
    "\n",
    "X_ind      = mean_center(normalize(X_ind) - normalize(X_Q))\n",
    "X_joint    = mean_center(normalize(X_joint) - normalize(X_Q))"
   ]
  },
  {
   "cell_type": "code",
   "execution_count": 31,
   "metadata": {},
   "outputs": [],
   "source": [
    "from sklearn.metrics.pairwise import paired_cosine_distances\n",
    "d = paired_cosine_distances(X_ind, X_Q)\n",
    "dj =paired_cosine_distances(X_joint, X_Q)"
   ]
  },
  {
   "cell_type": "code",
   "execution_count": 32,
   "metadata": {},
   "outputs": [
    {
     "data": {
      "text/plain": [
       "<matplotlib.axes._subplots.AxesSubplot at 0x14629ffd0>"
      ]
     },
     "execution_count": 32,
     "metadata": {},
     "output_type": "execute_result"
    },
    {
     "data": {
      "image/png": "[encoded data removed]",
      "text/plain": [
       "<matplotlib.figure.Figure at 0x14763fb50>"
      ]
     },
     "metadata": {},
     "output_type": "display_data"
    }
   ],
   "source": [
    "import seaborn as sns\n",
    "sns.distplot(d)\n",
    "sns.distplot(dj)"
   ]
  },
  {
   "cell_type": "markdown",
   "metadata": {},
   "source": [
    "# Models!\n",
    "Compare the models for model comparison. Samples have already been run."
   ]
  },
  {
   "cell_type": "code",
   "execution_count": 5,
   "metadata": {},
   "outputs": [
    {
     "name": "stderr",
     "output_type": "stream",
     "text": [
      "Auto-assigning NUTS sampler...\n",
      "Initializing NUTS using advi...\n",
      "Average Loss = 9,564.8:  37%|███▋      | 74989/200000 [12:17<20:29, 101.65it/s]\n",
      "Convergence archived at 75000\n",
      "Interrupted at 74,999 [37%]: Average Loss = 10,598\n",
      "/anaconda2/envs/compgen/lib/python2.7/site-packages/pymc3/model.py:384: FutureWarning: Conversion of the second argument of issubdtype from `float` to `np.floating` is deprecated. In future, it will be treated as `np.float64 == np.dtype(float).type`.\n",
      "  if not np.issubdtype(var.dtype, float):\n",
      "Multiprocess sampling (2 chains in 2 jobs)\n",
      "NUTS: [beta_wm, beta_q, beta_winst, beta_gen_diff, beta_gen, sigma_wm_log__, sigma_q_log__, sigma_winst_log__, sigma_gen_didff_log__, sigma_gen_log__, mu_beta_wm, mu_beta_q, mu_beta_winst, mu_beta_gen_diff, mu_beta_gen]\n",
      "100%|██████████| 6000/6000 [25:21<00:00,  3.94it/s]\n",
      "The estimated number of effective samples is smaller than 200 for some parameters.\n"
     ]
    }
   ],
   "source": [
    "from theano import tensor as tt\n",
    "from theano.tensor.nnet.nnet import softmax\n",
    "\n",
    "N, D = X_ind.shape\n",
    "n_subj = max(subj_idx) + 1\n",
    "\n",
    "n_samples = 2000\n",
    "n_tune = 4000\n",
    "\n",
    "with pm.Model() as hier_full:\n",
    "    # here, we write down the model\n",
    "\n",
    "    # Define heirachical parameters\n",
    "    # (normal means and standard deviation for regression weights)\n",
    "    mu_1 = pm.Normal('mu_beta_gen',      mu=0., sd=100.)\n",
    "    mu_2 = pm.Normal('mu_beta_gen_diff', mu=0., sd=100.)\n",
    "    mu_3 = pm.Normal('mu_beta_winst',    mu=0., sd=100.)\n",
    "    mu_4 = pm.Normal('mu_beta_q',        mu=0., sd=100.)\n",
    "    mu_5 = pm.Normal('mu_beta_wm',       mu=0., sd=100.)\n",
    "\n",
    "    sigma_1 = pm.HalfCauchy('sigma_gen',       beta=100)\n",
    "    sigma_2 = pm.HalfCauchy('sigma_gen_didff', beta=100)\n",
    "    sigma_3 = pm.HalfCauchy('sigma_winst',     beta=100)\n",
    "    sigma_4 = pm.HalfCauchy('sigma_q',         beta=100)\n",
    "    sigma_5 = pm.HalfCauchy('sigma_wm',        beta=100)\n",
    "\n",
    "    # define subject predictor variables (i.e. regression parameters,\n",
    "    # 1 per subject per condition with a hierachcial prior)\n",
    "    b_1 = pm.Normal('beta_gen',      mu=mu_1, sd=sigma_1, shape=n_subj)\n",
    "    b_2 = pm.Normal('beta_gen_diff', mu=mu_2, sd=sigma_2, shape=n_subj)\n",
    "    b_3 = pm.Normal('beta_winst',    mu=mu_3, sd=sigma_3, shape=n_subj)\n",
    "    b_4 = pm.Normal('beta_q',        mu=mu_4, sd=sigma_4, shape=n_subj)\n",
    "    b_5 = pm.Normal('beta_wm',       mu=mu_5, sd=sigma_5, shape=n_subj)\n",
    "\n",
    "    # linearly combine the predictors with the subject-specific coefficients\n",
    "    # as a scaling factor. In practice, the coefficients have to be broadcast\n",
    "    # in to an NxD matric via theano for element-wise multiplication\n",
    "    rho = \\\n",
    "        tt.tile(tt.reshape(b_1[subj_idx], (N, 1)), D) * X_gen_pop + \\\n",
    "        tt.tile(tt.reshape(b_2[subj_idx], (N, 1)), D) * X_gen_diff + \\\n",
    "        tt.tile(tt.reshape(b_3[subj_idx], (N, 1)), D) * X_winst + \\\n",
    "        tt.tile(tt.reshape(b_4[subj_idx], (N, 1)), D) * X_Q + \\\n",
    "        tt.tile(tt.reshape(b_5[subj_idx], (N, 1)), D) * X_wm\n",
    "    # note: I think this theano code is slow. Regardless, the more complex\n",
    "    # the model, the more difficult it will be to estimate.\n",
    "\n",
    "    # pass the resultant vector through a softmax to convert to a probability\n",
    "    # distribution. Note, we don't need an additional noise parameter as that\n",
    "    # would be collinear with the coefficients.\n",
    "    \n",
    "    p_hat = softmax(rho)\n",
    "\n",
    "    # Data likelihood\n",
    "    yl = pm.Categorical('yl', p=p_hat, observed=y)\n",
    "    trace_full = pm.sample(n_samples, tune=n_tune, init='advi')\n"
   ]
  },
  {
   "cell_type": "code",
   "execution_count": 6,
   "metadata": {},
   "outputs": [
    {
     "name": "stderr",
     "output_type": "stream",
     "text": [
      "Auto-assigning NUTS sampler...\n",
      "Initializing NUTS using advi...\n",
      "Average Loss = 9,520.8:  32%|███▏      | 64989/200000 [08:38<17:57, 125.33it/s]\n",
      "Convergence archived at 65000\n",
      "Interrupted at 64,999 [32%]: Average Loss = 10,454\n",
      "Multiprocess sampling (2 chains in 2 jobs)\n",
      "NUTS: [beta_wm, beta_q, beta_winst, sigma_wm_log__, sigma_q_log__, sigma_winst_log__, mu_beta_wm, mu_beta_q, mu_beta_winst]\n",
      "100%|██████████| 6000/6000 [16:35<00:00,  6.03it/s]\n",
      "The number of effective samples is smaller than 10% for some parameters.\n"
     ]
    }
   ],
   "source": [
    "with pm.Model() as hier_nogen:\n",
    "    # here, we write down the model\n",
    "\n",
    "    # Define heirachical parameters\n",
    "    # (normal means and standard deviation for regression weights)\n",
    "    mu_3 = pm.Normal('mu_beta_winst',    mu=0., sd=100.)\n",
    "    mu_4 = pm.Normal('mu_beta_q',        mu=0., sd=100.)\n",
    "    mu_5 = pm.Normal('mu_beta_wm',       mu=0., sd=100.)\n",
    "\n",
    "    sigma_3 = pm.HalfCauchy('sigma_winst',     beta=100)\n",
    "    sigma_4 = pm.HalfCauchy('sigma_q',         beta=100)\n",
    "    sigma_5 = pm.HalfCauchy('sigma_wm',        beta=100)\n",
    "\n",
    "    # define subject predictor variables (i.e. regression parameters,\n",
    "    # 1 per subject per condition with a hierachcial prior)\n",
    "    b_3 = pm.Normal('beta_winst',    mu=mu_3, sd=sigma_3, shape=n_subj)\n",
    "    b_4 = pm.Normal('beta_q',        mu=mu_4, sd=sigma_4, shape=n_subj)\n",
    "    b_5 = pm.Normal('beta_wm',       mu=mu_5, sd=sigma_5, shape=n_subj)\n",
    "\n",
    "    # linearly combine the predictors with the subject-specific coefficients\n",
    "    # as a scaling factor. In practice, the coefficients have to be broadcast\n",
    "    # in to an NxD matric via theano for element-wise multiplication\n",
    "    rho = \\\n",
    "        tt.tile(tt.reshape(b_3[subj_idx], (N, 1)), D) * X_winst + \\\n",
    "        tt.tile(tt.reshape(b_4[subj_idx], (N, 1)), D) * X_Q + \\\n",
    "        tt.tile(tt.reshape(b_5[subj_idx], (N, 1)), D) * X_wm\n",
    "    # note: I think this theano code is slow. Regardless, the more complex\n",
    "    # the model, the more difficult it will be to estimate.\n",
    "\n",
    "    # pass the resultant vector through a softmax to convert to a probability\n",
    "    # distribution. Note, we don't need an additional noise parameter as that\n",
    "    # would be collinear with the coefficients.\n",
    "    \n",
    "    p_hat = softmax(rho)\n",
    "\n",
    "    # Data likelihood\n",
    "    yl = pm.Categorical('yl', p=p_hat, observed=y)\n",
    "    trace_nogen = pm.sample(n_samples, tune=n_tune, init='advi')"
   ]
  },
  {
   "cell_type": "code",
   "execution_count": 33,
   "metadata": {},
   "outputs": [
    {
     "name": "stderr",
     "output_type": "stream",
     "text": [
      "Auto-assigning NUTS sampler...\n",
      "Initializing NUTS using advi...\n",
      "Average Loss = 9,538.9:  35%|███▍      | 69196/200000 [11:06<21:00, 103.79it/s]\n",
      "Convergence archived at 69200\n",
      "Interrupted at 69,199 [34%]: Average Loss = 10,465\n",
      "Multiprocess sampling (2 chains in 2 jobs)\n",
      "NUTS: [beta_wm, beta_q, beta_winst, beta_ind, sigma_wm_log__, sigma_q_log__, sigma_winst_log__, sigma_ind_log__, mu_beta_wm, mu_beta_q, mu_beta_winst, mu_beta_ind]\n",
      "100%|██████████| 6000/6000 [24:52<00:00,  4.02it/s]\n",
      "The estimated number of effective samples is smaller than 200 for some parameters.\n"
     ]
    }
   ],
   "source": [
    "with pm.Model() as hier_ind:\n",
    "    # here, we write down the model\n",
    "\n",
    "    # Define heirachical parameters\n",
    "    # (normal means and standard deviation for regression weights)\n",
    "    mu_1 = pm.Normal('mu_beta_ind',      mu=0., sd=100.)\n",
    "    mu_3 = pm.Normal('mu_beta_winst',    mu=0., sd=100.)\n",
    "    mu_4 = pm.Normal('mu_beta_q',        mu=0., sd=100.)\n",
    "    mu_5 = pm.Normal('mu_beta_wm',       mu=0., sd=100.)\n",
    "\n",
    "    sigma_1 = pm.HalfCauchy('sigma_ind',       beta=100)\n",
    "    sigma_3 = pm.HalfCauchy('sigma_winst',     beta=100)\n",
    "    sigma_4 = pm.HalfCauchy('sigma_q',         beta=100)\n",
    "    sigma_5 = pm.HalfCauchy('sigma_wm',        beta=100)\n",
    "\n",
    "    # define subject predictor variables (i.e. regression parameters,\n",
    "    # 1 per subject per condition with a hierachcial prior)\n",
    "    b_1 = pm.Normal('beta_ind',      mu=mu_1, sd=sigma_1, shape=n_subj)\n",
    "    b_3 = pm.Normal('beta_winst',    mu=mu_3, sd=sigma_3, shape=n_subj)\n",
    "    b_4 = pm.Normal('beta_q',        mu=mu_4, sd=sigma_4, shape=n_subj)\n",
    "    b_5 = pm.Normal('beta_wm',       mu=mu_5, sd=sigma_5, shape=n_subj)\n",
    "\n",
    "    # linearly combine the predictors with the subject-specific coefficients\n",
    "    # as a scaling factor. In practice, the coefficients have to be broadcast\n",
    "    # in to an NxD matric via theano for element-wise multiplication\n",
    "    rho = \\\n",
    "        tt.tile(tt.reshape(b_1[subj_idx], (N, 1)), D) * X_ind + \\\n",
    "        tt.tile(tt.reshape(b_3[subj_idx], (N, 1)), D) * X_winst + \\\n",
    "        tt.tile(tt.reshape(b_4[subj_idx], (N, 1)), D) * X_Q + \\\n",
    "        tt.tile(tt.reshape(b_5[subj_idx], (N, 1)), D) * X_wm\n",
    "    # note: I think this theano code is slow. Regardless, the more complex\n",
    "    # the model, the more difficult it will be to estimate.\n",
    "\n",
    "    # pass the resultant vector through a softmax to convert to a probability\n",
    "    # distribution. Note, we don't need an additional noise parameter as that\n",
    "    # would be collinear with the coefficients.\n",
    "    \n",
    "    p_hat = softmax(rho)\n",
    "\n",
    "    # Data likelihood\n",
    "    yl = pm.Categorical('yl', p=p_hat, observed=y)\n",
    "    trace_ind = pm.sample(n_samples, tune=n_tune, init='advi')"
   ]
  },
  {
   "cell_type": "code",
   "execution_count": 34,
   "metadata": {},
   "outputs": [
    {
     "name": "stderr",
     "output_type": "stream",
     "text": [
      "Auto-assigning NUTS sampler...\n",
      "Initializing NUTS using advi...\n",
      "Average Loss = 9,553.7:  31%|███       | 61495/200000 [11:10<25:11, 91.65it/s]\n",
      "Convergence archived at 61500\n",
      "Interrupted at 61,499 [30%]: Average Loss = 10,661\n",
      "Multiprocess sampling (2 chains in 2 jobs)\n",
      "NUTS: [beta_wm, beta_q, beta_winst, beta_joint, sigma_wm_log__, sigma_q_log__, sigma_winst_log__, sigma_joint_log__, mu_beta_wm, mu_beta_q, mu_beta_winst, mu_beta_joint]\n",
      "100%|██████████| 6000/6000 [26:41<00:00,  3.75it/s]\n",
      "The estimated number of effective samples is smaller than 200 for some parameters.\n"
     ]
    }
   ],
   "source": [
    "with pm.Model() as hier_joint:\n",
    "    # here, we write down the model\n",
    "\n",
    "    # Define heirachical parameters\n",
    "    # (normal means and standard deviation for regression weights)\n",
    "    mu_1 = pm.Normal('mu_beta_joint',    mu=0., sd=100.)\n",
    "    mu_3 = pm.Normal('mu_beta_winst',    mu=0., sd=100.)\n",
    "    mu_4 = pm.Normal('mu_beta_q',        mu=0., sd=100.)\n",
    "    mu_5 = pm.Normal('mu_beta_wm',       mu=0., sd=100.)\n",
    "\n",
    "    sigma_1 = pm.HalfCauchy('sigma_joint',     beta=100)\n",
    "    sigma_3 = pm.HalfCauchy('sigma_winst',     beta=100)\n",
    "    sigma_4 = pm.HalfCauchy('sigma_q',         beta=100)\n",
    "    sigma_5 = pm.HalfCauchy('sigma_wm',        beta=100)\n",
    "\n",
    "    # define subject predictor variables (i.e. regression parameters,\n",
    "    # 1 per subject per condition with a hierachcial prior)\n",
    "    b_1 = pm.Normal('beta_joint',    mu=mu_1, sd=sigma_1, shape=n_subj)\n",
    "    b_3 = pm.Normal('beta_winst',    mu=mu_3, sd=sigma_3, shape=n_subj)\n",
    "    b_4 = pm.Normal('beta_q',        mu=mu_4, sd=sigma_4, shape=n_subj)\n",
    "    b_5 = pm.Normal('beta_wm',       mu=mu_5, sd=sigma_5, shape=n_subj)\n",
    "\n",
    "    # linearly combine the predictors with the subject-specific coefficients\n",
    "    # as a scaling factor. In practice, the coefficients have to be broadcast\n",
    "    # in to an NxD matric via theano for element-wise multiplication\n",
    "    rho = \\\n",
    "        tt.tile(tt.reshape(b_1[subj_idx], (N, 1)), D) * X_joint + \\\n",
    "        tt.tile(tt.reshape(b_3[subj_idx], (N, 1)), D) * X_winst + \\\n",
    "        tt.tile(tt.reshape(b_4[subj_idx], (N, 1)), D) * X_Q + \\\n",
    "        tt.tile(tt.reshape(b_5[subj_idx], (N, 1)), D) * X_wm\n",
    "    # note: I think this theano code is slow. Regardless, the more complex\n",
    "    # the model, the more difficult it will be to estimate.\n",
    "\n",
    "    # pass the resultant vector through a softmax to convert to a probability\n",
    "    # distribution. Note, we don't need an additional noise parameter as that\n",
    "    # would be collinear with the coefficients.\n",
    "    \n",
    "    p_hat = softmax(rho)\n",
    "\n",
    "    # Data likelihood\n",
    "    yl = pm.Categorical('yl', p=p_hat, observed=y)\n",
    "    trace_joint = pm.sample(n_samples, tune=n_tune, init='advi')"
   ]
  },
  {
   "cell_type": "code",
   "execution_count": 35,
   "metadata": {},
   "outputs": [
    {
     "data": {
      "text/html": [
       "<div>\n",
       "<style scoped>\n",
       "    .dataframe tbody tr th:only-of-type {\n",
       "        vertical-align: middle;\n",
       "    }\n",
       "\n",
       "    .dataframe tbody tr th {\n",
       "        vertical-align: top;\n",
       "    }\n",
       "\n",
       "    .dataframe thead th {\n",
       "        text-align: right;\n",
       "    }\n",
       "</style>\n",
       "<table border=\"1\" class=\"dataframe\">\n",
       "  <thead>\n",
       "    <tr style=\"text-align: right;\">\n",
       "      <th></th>\n",
       "      <th>WAIC</th>\n",
       "      <th>pWAIC</th>\n",
       "      <th>dWAIC</th>\n",
       "      <th>weight</th>\n",
       "      <th>SE</th>\n",
       "      <th>dSE</th>\n",
       "      <th>warning</th>\n",
       "    </tr>\n",
       "  </thead>\n",
       "  <tbody>\n",
       "    <tr>\n",
       "      <th>Meta</th>\n",
       "      <td>18559.7</td>\n",
       "      <td>278.13</td>\n",
       "      <td>0</td>\n",
       "      <td>0.56</td>\n",
       "      <td>209.76</td>\n",
       "      <td>0</td>\n",
       "      <td>1</td>\n",
       "    </tr>\n",
       "    <tr>\n",
       "      <th>Ind</th>\n",
       "      <td>18563.6</td>\n",
       "      <td>255.35</td>\n",
       "      <td>3.93</td>\n",
       "      <td>0.3</td>\n",
       "      <td>210.02</td>\n",
       "      <td>10.49</td>\n",
       "      <td>1</td>\n",
       "    </tr>\n",
       "    <tr>\n",
       "      <th>Joint</th>\n",
       "      <td>18591.9</td>\n",
       "      <td>228.34</td>\n",
       "      <td>32.22</td>\n",
       "      <td>0.14</td>\n",
       "      <td>210.03</td>\n",
       "      <td>16.25</td>\n",
       "      <td>1</td>\n",
       "    </tr>\n",
       "    <tr>\n",
       "      <th>Flat</th>\n",
       "      <td>18603.8</td>\n",
       "      <td>207.74</td>\n",
       "      <td>44.06</td>\n",
       "      <td>0</td>\n",
       "      <td>209.93</td>\n",
       "      <td>16.14</td>\n",
       "      <td>1</td>\n",
       "    </tr>\n",
       "  </tbody>\n",
       "</table>\n",
       "</div>"
      ],
      "text/plain": [
       "          WAIC   pWAIC  dWAIC weight      SE    dSE warning\n",
       "Meta   18559.7  278.13      0   0.56  209.76      0       1\n",
       "Ind    18563.6  255.35   3.93    0.3  210.02  10.49       1\n",
       "Joint  18591.9  228.34  32.22   0.14  210.03  16.25       1\n",
       "Flat   18603.8  207.74  44.06      0  209.93  16.14       1"
      ]
     },
     "execution_count": 35,
     "metadata": {},
     "output_type": "execute_result"
    }
   ],
   "source": [
    "df_comp_WAIC = pm.compare((trace_full, trace_ind, trace_joint, trace_nogen),\n",
    "                          (hier_full, hier_ind, hier_joint, hier_nogen))\n",
    "df_comp_WAIC.index =  [\n",
    "    {ii: name for ii, name in enumerate(['Meta', 'Ind', 'Joint', 'Flat'])}[idx] \n",
    "    for idx in df_comp_WAIC.index ]\n",
    "\n",
    "df_comp_WAIC"
   ]
  },
  {
   "cell_type": "code",
   "execution_count": 36,
   "metadata": {},
   "outputs": [
    {
     "data": {
      "text/plain": [
       "<matplotlib.axes._subplots.AxesSubplot at 0x1465fedd0>"
      ]
     },
     "execution_count": 36,
     "metadata": {},
     "output_type": "execute_result"
    },
    {
     "data": {
      "image/png": "[encoded data removed]",
      "text/plain": [
       "<matplotlib.figure.Figure at 0x14a231150>"
      ]
     },
     "metadata": {},
     "output_type": "display_data"
    }
   ],
   "source": [
    "pm.compareplot(df_comp_WAIC)"
   ]
  },
  {
   "cell_type": "code",
   "execution_count": 38,
   "metadata": {},
   "outputs": [
    {
     "data": {
      "text/html": [
       "<div>\n",
       "<style scoped>\n",
       "    .dataframe tbody tr th:only-of-type {\n",
       "        vertical-align: middle;\n",
       "    }\n",
       "\n",
       "    .dataframe tbody tr th {\n",
       "        vertical-align: top;\n",
       "    }\n",
       "\n",
       "    .dataframe thead th {\n",
       "        text-align: right;\n",
       "    }\n",
       "</style>\n",
       "<table border=\"1\" class=\"dataframe\">\n",
       "  <thead>\n",
       "    <tr style=\"text-align: right;\">\n",
       "      <th></th>\n",
       "      <th>LOO</th>\n",
       "      <th>pLOO</th>\n",
       "      <th>dLOO</th>\n",
       "      <th>weight</th>\n",
       "      <th>SE</th>\n",
       "      <th>dSE</th>\n",
       "      <th>warning</th>\n",
       "    </tr>\n",
       "  </thead>\n",
       "  <tbody>\n",
       "    <tr>\n",
       "      <th>Meta</th>\n",
       "      <td>18560.9</td>\n",
       "      <td>278.72</td>\n",
       "      <td>0</td>\n",
       "      <td>0.56</td>\n",
       "      <td>209.8</td>\n",
       "      <td>0</td>\n",
       "      <td>1</td>\n",
       "    </tr>\n",
       "    <tr>\n",
       "      <th>Ind</th>\n",
       "      <td>18565</td>\n",
       "      <td>256.02</td>\n",
       "      <td>4.1</td>\n",
       "      <td>0.3</td>\n",
       "      <td>210.06</td>\n",
       "      <td>10.5</td>\n",
       "      <td>1</td>\n",
       "    </tr>\n",
       "    <tr>\n",
       "      <th>Joint</th>\n",
       "      <td>18593.1</td>\n",
       "      <td>228.91</td>\n",
       "      <td>32.19</td>\n",
       "      <td>0.15</td>\n",
       "      <td>210.07</td>\n",
       "      <td>16.25</td>\n",
       "      <td>1</td>\n",
       "    </tr>\n",
       "    <tr>\n",
       "      <th>Flat</th>\n",
       "      <td>18604.9</td>\n",
       "      <td>208.29</td>\n",
       "      <td>43.99</td>\n",
       "      <td>0</td>\n",
       "      <td>209.96</td>\n",
       "      <td>16.14</td>\n",
       "      <td>1</td>\n",
       "    </tr>\n",
       "  </tbody>\n",
       "</table>\n",
       "</div>"
      ],
      "text/plain": [
       "           LOO    pLOO   dLOO weight      SE    dSE warning\n",
       "Meta   18560.9  278.72      0   0.56   209.8      0       1\n",
       "Ind      18565  256.02    4.1    0.3  210.06   10.5       1\n",
       "Joint  18593.1  228.91  32.19   0.15  210.07  16.25       1\n",
       "Flat   18604.9  208.29  43.99      0  209.96  16.14       1"
      ]
     },
     "execution_count": 38,
     "metadata": {},
     "output_type": "execute_result"
    }
   ],
   "source": [
    "df_comp_LOO = pm.compare((trace_full, trace_ind, trace_joint, trace_nogen),\n",
    "                          (hier_full, hier_ind, hier_joint, hier_nogen), ic='LOO')\n",
    "df_comp_LOO.index =  [\n",
    "    {ii: name for ii, name in enumerate(['Meta', 'Ind', 'Joint', 'Flat'])}[idx] \n",
    "    for idx in df_comp_LOO.index ]\n",
    "\n",
    "df_comp_LOO"
   ]
  },
  {
   "cell_type": "code",
   "execution_count": 39,
   "metadata": {},
   "outputs": [
    {
     "data": {
      "text/plain": [
       "<matplotlib.axes._subplots.AxesSubplot at 0x14bf7b150>"
      ]
     },
     "execution_count": 39,
     "metadata": {},
     "output_type": "execute_result"
    },
    {
     "data": {
      "image/png": "[encoded data removed]",
      "text/plain": [
       "<matplotlib.figure.Figure at 0x14a2e2a50>"
      ]
     },
     "metadata": {},
     "output_type": "display_data"
    }
   ],
   "source": [
    "pm.compareplot(df_comp_LOO)"
   ]
  },
  {
   "cell_type": "code",
   "execution_count": null,
   "metadata": {},
   "outputs": [],
   "source": []
  }
 ],
 "metadata": {
  "kernelspec": {
   "display_name": "Python 2",
   "language": "python",
   "name": "python2"
  },
  "language_info": {
   "codemirror_mode": {
    "name": "ipython",
    "version": 2
   },
   "file_extension": ".py",
   "mimetype": "text/x-python",
   "name": "python",
   "nbconvert_exporter": "python",
   "pygments_lexer": "ipython2",
   "version": "2.7.14"
  }
 },
 "nbformat": 4,
 "nbformat_minor": 2
}
