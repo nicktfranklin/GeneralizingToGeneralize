{
 "cells": [
  {
   "cell_type": "code",
   "execution_count": 1,
   "metadata": {},
   "outputs": [
    {
     "name": "stderr",
     "output_type": "stream",
     "text": [
      "/anaconda2/envs/compgen/lib/python2.7/site-packages/h5py/__init__.py:36: FutureWarning: Conversion of the second argument of issubdtype from `float` to `np.floating` is deprecated. In future, it will be treated as `np.float64 == np.dtype(float).type`.\n",
      "  from ._conv import register_converters as _register_converters\n"
     ]
    }
   ],
   "source": [
    "%matplotlib inline\n",
    "import numpy as np\n",
    "import pandas as pd\n",
    "import pymc3 as pm\n",
    "import matplotlib.pyplot as plt\n",
    "from opt import generate_exclusion_list, make_group_model"
   ]
  },
  {
   "cell_type": "code",
   "execution_count": 2,
   "metadata": {},
   "outputs": [
    {
     "name": "stderr",
     "output_type": "stream",
     "text": [
      "100%|██████████| 148/148 [00:57<00:00,  2.60it/s]\n"
     ]
    }
   ],
   "source": [
    "proc_data = pd.read_pickle('data/exp2_data.pkl')\n",
    "\n",
    "# exclude! ...\n",
    "excluded = generate_exclusion_list(proc_data, training_contexts=7, goal_chance=1/4.)\n",
    "for e in excluded:\n",
    "    proc_data = proc_data[proc_data.subj != e]\n",
    "    \n",
    "proc_data = proc_data[proc_data['In Goal']]"
   ]
  },
  {
   "cell_type": "markdown",
   "metadata": {},
   "source": [
    "For legibility, the construction of the model predictors is offloaded.\n",
    "The script below returns a dictionary with \n",
    "   * the chosen goals (coded as categorical values of 0:n_goals)\n",
    "   * the Q values from a 2-parameter Q-learner (estimated with importance sampling)\n",
    "   * the WM values from a 2-parameter WM model (estimated with importance sampling)\n",
    "   * goal popularity across all contexts\n",
    "   * goal popularity across all contexts that share a mapping\n",
    "   * Win-Stay\n",
    "   * subject id"
   ]
  },
  {
   "cell_type": "code",
   "execution_count": 3,
   "metadata": {},
   "outputs": [
    {
     "name": "stderr",
     "output_type": "stream",
     "text": [
      "100%|██████████| 114/114 [03:29<00:00,  1.84s/it]\n"
     ]
    }
   ],
   "source": [
    "model_parameters = make_group_model(proc_data)"
   ]
  },
  {
   "cell_type": "markdown",
   "metadata": {},
   "source": [
    "For softmax regression, it is useful to mean center each prediction vector and sometimes it is useful to normalize. "
   ]
  },
  {
   "cell_type": "code",
   "execution_count": 4,
   "metadata": {},
   "outputs": [],
   "source": [
    "# prep all of the subjects\n",
    "\n",
    "    \n",
    "from sklearn.preprocessing import normalize\n",
    "\n",
    "def mean_center(X):\n",
    "    return X - np.tile(np.mean(X, axis=1), (X.shape[1], 1)).T\n",
    "\n",
    "y         = model_parameters['Goal-Choice-Id']\n",
    "\n",
    "X_ind     = mean_center(model_parameters['Prior-Independent'])\n",
    "X_joint   = mean_center(model_parameters['Prior-Joint'])\n",
    "X_ws      = mean_center(model_parameters['Win-Stay'])\n",
    "X_Q       = mean_center(model_parameters['Q-Values'])\n",
    "X_wm      = mean_center(model_parameters['WM-Value'])\n",
    "\n",
    "subj_idx  = model_parameters['Subjects']\n",
    "\n",
    "# decorrelate predictors\n",
    "X_gen_pop  = mean_center(normalize(X_ind) + normalize(X_joint)) - normalize(X_Q)\n",
    "X_gen_diff = mean_center(normalize(X_ind) - normalize(X_joint)) - normalize(X_Q)\n",
    "X_winst    = mean_center(normalize(X_ws) - normalize(X_Q))\n",
    "X_wm       = mean_center(normalize(X_wm) - normalize(X_Q))\n",
    "\n",
    "X_ind      = mean_center(normalize(X_ind) - normalize(X_Q))\n",
    "X_joint    = mean_center(normalize(X_joint) - normalize(X_Q))"
   ]
  },
  {
   "cell_type": "code",
   "execution_count": 5,
   "metadata": {},
   "outputs": [],
   "source": [
    "from sklearn.metrics.pairwise import paired_cosine_distances\n",
    "d = paired_cosine_distances(X_ind, X_Q)\n",
    "dj =paired_cosine_distances(X_joint, X_Q)"
   ]
  },
  {
   "cell_type": "code",
   "execution_count": 6,
   "metadata": {},
   "outputs": [
    {
     "data": {
      "text/plain": [
       "<matplotlib.axes._subplots.AxesSubplot at 0x1262171d0>"
      ]
     },
     "execution_count": 6,
     "metadata": {},
     "output_type": "execute_result"
    },
    {
     "data": {
      "image/png": "[encoded data removed]",
      "text/plain": [
       "<matplotlib.figure.Figure at 0x134e698d0>"
      ]
     },
     "metadata": {},
     "output_type": "display_data"
    }
   ],
   "source": [
    "import seaborn as sns\n",
    "sns.distplot(d)\n",
    "sns.distplot(dj)"
   ]
  },
  {
   "cell_type": "markdown",
   "metadata": {},
   "source": [
    "# Models!\n",
    "Compare the models for model comparison. Samples have already been run."
   ]
  },
  {
   "cell_type": "code",
   "execution_count": 7,
   "metadata": {},
   "outputs": [
    {
     "name": "stderr",
     "output_type": "stream",
     "text": [
      "Auto-assigning NUTS sampler...\n",
      "Initializing NUTS using advi...\n",
      "Average Loss = 15,442:  28%|██▊       | 56191/200000 [11:51<30:20, 78.99it/s]\n",
      "Convergence archived at 56200\n",
      "Interrupted at 56,199 [28%]: Average Loss = 17,010\n",
      "/anaconda2/envs/compgen/lib/python2.7/site-packages/pymc3/model.py:384: FutureWarning: Conversion of the second argument of issubdtype from `float` to `np.floating` is deprecated. In future, it will be treated as `np.float64 == np.dtype(float).type`.\n",
      "  if not np.issubdtype(var.dtype, float):\n",
      "Multiprocess sampling (2 chains in 2 jobs)\n",
      "NUTS: [beta_wm, beta_q, beta_winst, beta_gen_diff, beta_gen, sigma_wm_log__, sigma_q_log__, sigma_winst_log__, sigma_gen_didff_log__, sigma_gen_log__, mu_beta_wm, mu_beta_q, mu_beta_winst, mu_beta_gen_diff, mu_beta_gen]\n",
      "100%|██████████| 6000/6000 [47:28<00:00,  2.11it/s]\n",
      "The estimated number of effective samples is smaller than 200 for some parameters.\n"
     ]
    }
   ],
   "source": [
    "from theano import tensor as tt\n",
    "from theano.tensor.nnet.nnet import softmax\n",
    "\n",
    "N, D = X_ind.shape\n",
    "n_subj = max(subj_idx) + 1\n",
    "\n",
    "n_samples = 2000\n",
    "n_tune = 4000\n",
    "\n",
    "with pm.Model() as hier_full:\n",
    "    # here, we write down the model\n",
    "\n",
    "    # Define heirachical parameters\n",
    "    # (normal means and standard deviation for regression weights)\n",
    "    mu_1 = pm.Normal('mu_beta_gen',      mu=0., sd=100.)\n",
    "    mu_2 = pm.Normal('mu_beta_gen_diff', mu=0., sd=100.)\n",
    "    mu_3 = pm.Normal('mu_beta_winst',    mu=0., sd=100.)\n",
    "    mu_4 = pm.Normal('mu_beta_q',        mu=0., sd=100.)\n",
    "    mu_5 = pm.Normal('mu_beta_wm',       mu=0., sd=100.)\n",
    "\n",
    "    sigma_1 = pm.HalfCauchy('sigma_gen',       beta=100)\n",
    "    sigma_2 = pm.HalfCauchy('sigma_gen_didff', beta=100)\n",
    "    sigma_3 = pm.HalfCauchy('sigma_winst',     beta=100)\n",
    "    sigma_4 = pm.HalfCauchy('sigma_q',         beta=100)\n",
    "    sigma_5 = pm.HalfCauchy('sigma_wm',        beta=100)\n",
    "\n",
    "    # define subject predictor variables (i.e. regression parameters,\n",
    "    # 1 per subject per condition with a hierachcial prior)\n",
    "    b_1 = pm.Normal('beta_gen',      mu=mu_1, sd=sigma_1, shape=n_subj)\n",
    "    b_2 = pm.Normal('beta_gen_diff', mu=mu_2, sd=sigma_2, shape=n_subj)\n",
    "    b_3 = pm.Normal('beta_winst',    mu=mu_3, sd=sigma_3, shape=n_subj)\n",
    "    b_4 = pm.Normal('beta_q',        mu=mu_4, sd=sigma_4, shape=n_subj)\n",
    "    b_5 = pm.Normal('beta_wm',       mu=mu_5, sd=sigma_5, shape=n_subj)\n",
    "\n",
    "    # linearly combine the predictors with the subject-specific coefficients\n",
    "    # as a scaling factor. In practice, the coefficients have to be broadcast\n",
    "    # in to an NxD matric via theano for element-wise multiplication\n",
    "    rho = \\\n",
    "        tt.tile(tt.reshape(b_1[subj_idx], (N, 1)), D) * X_gen_pop + \\\n",
    "        tt.tile(tt.reshape(b_2[subj_idx], (N, 1)), D) * X_gen_diff + \\\n",
    "        tt.tile(tt.reshape(b_3[subj_idx], (N, 1)), D) * X_winst + \\\n",
    "        tt.tile(tt.reshape(b_4[subj_idx], (N, 1)), D) * X_Q + \\\n",
    "        tt.tile(tt.reshape(b_5[subj_idx], (N, 1)), D) * X_wm\n",
    "    # note: I think this theano code is slow. Regardless, the more complex\n",
    "    # the model, the more difficult it will be to estimate.\n",
    "\n",
    "    # pass the resultant vector through a softmax to convert to a probability\n",
    "    # distribution. Note, we don't need an additional noise parameter as that\n",
    "    # would be collinear with the coefficients.\n",
    "    \n",
    "    p_hat = softmax(rho)\n",
    "\n",
    "    # Data likelihood\n",
    "    yl = pm.Categorical('yl', p=p_hat, observed=y)\n",
    "    trace_full = pm.sample(n_samples, tune=n_tune, init='advi')\n"
   ]
  },
  {
   "cell_type": "code",
   "execution_count": 8,
   "metadata": {},
   "outputs": [
    {
     "name": "stderr",
     "output_type": "stream",
     "text": [
      "Auto-assigning NUTS sampler...\n",
      "Initializing NUTS using advi...\n",
      "Average Loss = 15,403:  26%|██▋       | 52891/200000 [10:22<28:51, 84.97it/s]\n",
      "Convergence archived at 52900\n",
      "Interrupted at 52,899 [26%]: Average Loss = 16,862\n",
      "Multiprocess sampling (2 chains in 2 jobs)\n",
      "NUTS: [beta_wm, beta_q, beta_winst, sigma_wm_log__, sigma_q_log__, sigma_winst_log__, mu_beta_wm, mu_beta_q, mu_beta_winst]\n",
      "100%|██████████| 6000/6000 [41:35<00:00,  2.40it/s]\n",
      "The estimated number of effective samples is smaller than 200 for some parameters.\n"
     ]
    }
   ],
   "source": [
    "with pm.Model() as hier_nogen:\n",
    "    # here, we write down the model\n",
    "\n",
    "    # Define heirachical parameters\n",
    "    # (normal means and standard deviation for regression weights)\n",
    "    mu_3 = pm.Normal('mu_beta_winst',    mu=0., sd=100.)\n",
    "    mu_4 = pm.Normal('mu_beta_q',        mu=0., sd=100.)\n",
    "    mu_5 = pm.Normal('mu_beta_wm',       mu=0., sd=100.)\n",
    "\n",
    "    sigma_3 = pm.HalfCauchy('sigma_winst',     beta=100)\n",
    "    sigma_4 = pm.HalfCauchy('sigma_q',         beta=100)\n",
    "    sigma_5 = pm.HalfCauchy('sigma_wm',        beta=100)\n",
    "\n",
    "    # define subject predictor variables (i.e. regression parameters,\n",
    "    # 1 per subject per condition with a hierachcial prior)\n",
    "    b_3 = pm.Normal('beta_winst',    mu=mu_3, sd=sigma_3, shape=n_subj)\n",
    "    b_4 = pm.Normal('beta_q',        mu=mu_4, sd=sigma_4, shape=n_subj)\n",
    "    b_5 = pm.Normal('beta_wm',       mu=mu_5, sd=sigma_5, shape=n_subj)\n",
    "\n",
    "    # linearly combine the predictors with the subject-specific coefficients\n",
    "    # as a scaling factor. In practice, the coefficients have to be broadcast\n",
    "    # in to an NxD matric via theano for element-wise multiplication\n",
    "    rho = \\\n",
    "        tt.tile(tt.reshape(b_3[subj_idx], (N, 1)), D) * X_winst + \\\n",
    "        tt.tile(tt.reshape(b_4[subj_idx], (N, 1)), D) * X_Q + \\\n",
    "        tt.tile(tt.reshape(b_5[subj_idx], (N, 1)), D) * X_wm\n",
    "    # note: I think this theano code is slow. Regardless, the more complex\n",
    "    # the model, the more difficult it will be to estimate.\n",
    "\n",
    "    # pass the resultant vector through a softmax to convert to a probability\n",
    "    # distribution. Note, we don't need an additional noise parameter as that\n",
    "    # would be collinear with the coefficients.\n",
    "    \n",
    "    p_hat = softmax(rho)\n",
    "\n",
    "    # Data likelihood\n",
    "    yl = pm.Categorical('yl', p=p_hat, observed=y)\n",
    "    trace_nogen = pm.sample(n_samples, tune=n_tune, init='advi')"
   ]
  },
  {
   "cell_type": "code",
   "execution_count": 9,
   "metadata": {},
   "outputs": [
    {
     "name": "stderr",
     "output_type": "stream",
     "text": [
      "Auto-assigning NUTS sampler...\n",
      "Initializing NUTS using advi...\n",
      "Average Loss = 15,409:  28%|██▊       | 55396/200000 [11:24<29:47, 80.92it/s]\n",
      "Convergence archived at 55400\n",
      "Interrupted at 55,399 [27%]: Average Loss = 16,781\n",
      "Multiprocess sampling (2 chains in 2 jobs)\n",
      "NUTS: [beta_wm, beta_q, beta_winst, beta_ind, sigma_wm_log__, sigma_q_log__, sigma_winst_log__, sigma_ind_log__, mu_beta_wm, mu_beta_q, mu_beta_winst, mu_beta_ind]\n",
      "100%|██████████| 6000/6000 [47:14<00:00,  2.12it/s]\n",
      "The estimated number of effective samples is smaller than 200 for some parameters.\n"
     ]
    }
   ],
   "source": [
    "with pm.Model() as hier_ind:\n",
    "    # here, we write down the model\n",
    "\n",
    "    # Define heirachical parameters\n",
    "    # (normal means and standard deviation for regression weights)\n",
    "    mu_1 = pm.Normal('mu_beta_ind',      mu=0., sd=100.)\n",
    "    mu_3 = pm.Normal('mu_beta_winst',    mu=0., sd=100.)\n",
    "    mu_4 = pm.Normal('mu_beta_q',        mu=0., sd=100.)\n",
    "    mu_5 = pm.Normal('mu_beta_wm',       mu=0., sd=100.)\n",
    "\n",
    "    sigma_1 = pm.HalfCauchy('sigma_ind',       beta=100)\n",
    "    sigma_3 = pm.HalfCauchy('sigma_winst',     beta=100)\n",
    "    sigma_4 = pm.HalfCauchy('sigma_q',         beta=100)\n",
    "    sigma_5 = pm.HalfCauchy('sigma_wm',        beta=100)\n",
    "\n",
    "    # define subject predictor variables (i.e. regression parameters,\n",
    "    # 1 per subject per condition with a hierachcial prior)\n",
    "    b_1 = pm.Normal('beta_ind',      mu=mu_1, sd=sigma_1, shape=n_subj)\n",
    "    b_3 = pm.Normal('beta_winst',    mu=mu_3, sd=sigma_3, shape=n_subj)\n",
    "    b_4 = pm.Normal('beta_q',        mu=mu_4, sd=sigma_4, shape=n_subj)\n",
    "    b_5 = pm.Normal('beta_wm',       mu=mu_5, sd=sigma_5, shape=n_subj)\n",
    "\n",
    "    # linearly combine the predictors with the subject-specific coefficients\n",
    "    # as a scaling factor. In practice, the coefficients have to be broadcast\n",
    "    # in to an NxD matric via theano for element-wise multiplication\n",
    "    rho = \\\n",
    "        tt.tile(tt.reshape(b_1[subj_idx], (N, 1)), D) * X_ind + \\\n",
    "        tt.tile(tt.reshape(b_3[subj_idx], (N, 1)), D) * X_winst + \\\n",
    "        tt.tile(tt.reshape(b_4[subj_idx], (N, 1)), D) * X_Q + \\\n",
    "        tt.tile(tt.reshape(b_5[subj_idx], (N, 1)), D) * X_wm\n",
    "    # note: I think this theano code is slow. Regardless, the more complex\n",
    "    # the model, the more difficult it will be to estimate.\n",
    "\n",
    "    # pass the resultant vector through a softmax to convert to a probability\n",
    "    # distribution. Note, we don't need an additional noise parameter as that\n",
    "    # would be collinear with the coefficients.\n",
    "    \n",
    "    p_hat = softmax(rho)\n",
    "\n",
    "    # Data likelihood\n",
    "    yl = pm.Categorical('yl', p=p_hat, observed=y)\n",
    "    trace_ind = pm.sample(n_samples, tune=n_tune, init='advi')"
   ]
  },
  {
   "cell_type": "code",
   "execution_count": 10,
   "metadata": {},
   "outputs": [
    {
     "name": "stderr",
     "output_type": "stream",
     "text": [
      "Auto-assigning NUTS sampler...\n",
      "Initializing NUTS using advi...\n",
      "Average Loss = 15,421:  31%|███       | 61092/200000 [12:39<28:47, 80.42it/s]\n",
      "Convergence archived at 61100\n",
      "Interrupted at 61,099 [30%]: Average Loss = 16,727\n",
      "Multiprocess sampling (2 chains in 2 jobs)\n",
      "NUTS: [beta_wm, beta_q, beta_winst, beta_joint, sigma_wm_log__, sigma_q_log__, sigma_winst_log__, sigma_joint_log__, mu_beta_wm, mu_beta_q, mu_beta_winst, mu_beta_joint]\n",
      "100%|██████████| 6000/6000 [47:03<00:00,  2.12it/s]\n",
      "The estimated number of effective samples is smaller than 200 for some parameters.\n"
     ]
    }
   ],
   "source": [
    "with pm.Model() as hier_joint:\n",
    "    # here, we write down the model\n",
    "\n",
    "    # Define heirachical parameters\n",
    "    # (normal means and standard deviation for regression weights)\n",
    "    mu_1 = pm.Normal('mu_beta_joint',    mu=0., sd=100.)\n",
    "    mu_3 = pm.Normal('mu_beta_winst',    mu=0., sd=100.)\n",
    "    mu_4 = pm.Normal('mu_beta_q',        mu=0., sd=100.)\n",
    "    mu_5 = pm.Normal('mu_beta_wm',       mu=0., sd=100.)\n",
    "\n",
    "    sigma_1 = pm.HalfCauchy('sigma_joint',     beta=100)\n",
    "    sigma_3 = pm.HalfCauchy('sigma_winst',     beta=100)\n",
    "    sigma_4 = pm.HalfCauchy('sigma_q',         beta=100)\n",
    "    sigma_5 = pm.HalfCauchy('sigma_wm',        beta=100)\n",
    "\n",
    "    # define subject predictor variables (i.e. regression parameters,\n",
    "    # 1 per subject per condition with a hierachcial prior)\n",
    "    b_1 = pm.Normal('beta_joint',    mu=mu_1, sd=sigma_1, shape=n_subj)\n",
    "    b_3 = pm.Normal('beta_winst',    mu=mu_3, sd=sigma_3, shape=n_subj)\n",
    "    b_4 = pm.Normal('beta_q',        mu=mu_4, sd=sigma_4, shape=n_subj)\n",
    "    b_5 = pm.Normal('beta_wm',       mu=mu_5, sd=sigma_5, shape=n_subj)\n",
    "\n",
    "    # linearly combine the predictors with the subject-specific coefficients\n",
    "    # as a scaling factor. In practice, the coefficients have to be broadcast\n",
    "    # in to an NxD matric via theano for element-wise multiplication\n",
    "    rho = \\\n",
    "        tt.tile(tt.reshape(b_1[subj_idx], (N, 1)), D) * X_joint + \\\n",
    "        tt.tile(tt.reshape(b_3[subj_idx], (N, 1)), D) * X_winst + \\\n",
    "        tt.tile(tt.reshape(b_4[subj_idx], (N, 1)), D) * X_Q + \\\n",
    "        tt.tile(tt.reshape(b_5[subj_idx], (N, 1)), D) * X_wm\n",
    "    # note: I think this theano code is slow. Regardless, the more complex\n",
    "    # the model, the more difficult it will be to estimate.\n",
    "\n",
    "    # pass the resultant vector through a softmax to convert to a probability\n",
    "    # distribution. Note, we don't need an additional noise parameter as that\n",
    "    # would be collinear with the coefficients.\n",
    "    \n",
    "    p_hat = softmax(rho)\n",
    "\n",
    "    # Data likelihood\n",
    "    yl = pm.Categorical('yl', p=p_hat, observed=y)\n",
    "    trace_joint = pm.sample(n_samples, tune=n_tune, init='advi')"
   ]
  },
  {
   "cell_type": "code",
   "execution_count": 11,
   "metadata": {},
   "outputs": [
    {
     "data": {
      "text/html": [
       "<div>\n",
       "<style scoped>\n",
       "    .dataframe tbody tr th:only-of-type {\n",
       "        vertical-align: middle;\n",
       "    }\n",
       "\n",
       "    .dataframe tbody tr th {\n",
       "        vertical-align: top;\n",
       "    }\n",
       "\n",
       "    .dataframe thead th {\n",
       "        text-align: right;\n",
       "    }\n",
       "</style>\n",
       "<table border=\"1\" class=\"dataframe\">\n",
       "  <thead>\n",
       "    <tr style=\"text-align: right;\">\n",
       "      <th></th>\n",
       "      <th>WAIC</th>\n",
       "      <th>pWAIC</th>\n",
       "      <th>dWAIC</th>\n",
       "      <th>weight</th>\n",
       "      <th>SE</th>\n",
       "      <th>dSE</th>\n",
       "      <th>warning</th>\n",
       "    </tr>\n",
       "  </thead>\n",
       "  <tbody>\n",
       "    <tr>\n",
       "      <th>Meta</th>\n",
       "      <td>30216.3</td>\n",
       "      <td>293.28</td>\n",
       "      <td>0</td>\n",
       "      <td>0.82</td>\n",
       "      <td>263.03</td>\n",
       "      <td>0</td>\n",
       "      <td>1</td>\n",
       "    </tr>\n",
       "    <tr>\n",
       "      <th>Ind</th>\n",
       "      <td>30237.9</td>\n",
       "      <td>253.85</td>\n",
       "      <td>21.61</td>\n",
       "      <td>0.17</td>\n",
       "      <td>263.16</td>\n",
       "      <td>11.61</td>\n",
       "      <td>1</td>\n",
       "    </tr>\n",
       "    <tr>\n",
       "      <th>Joint</th>\n",
       "      <td>30280.2</td>\n",
       "      <td>239.9</td>\n",
       "      <td>63.95</td>\n",
       "      <td>0</td>\n",
       "      <td>263.39</td>\n",
       "      <td>17.04</td>\n",
       "      <td>1</td>\n",
       "    </tr>\n",
       "    <tr>\n",
       "      <th>Flat</th>\n",
       "      <td>30319.5</td>\n",
       "      <td>197.49</td>\n",
       "      <td>103.19</td>\n",
       "      <td>0.01</td>\n",
       "      <td>263.4</td>\n",
       "      <td>21.4</td>\n",
       "      <td>1</td>\n",
       "    </tr>\n",
       "  </tbody>\n",
       "</table>\n",
       "</div>"
      ],
      "text/plain": [
       "          WAIC   pWAIC   dWAIC weight      SE    dSE warning\n",
       "Meta   30216.3  293.28       0   0.82  263.03      0       1\n",
       "Ind    30237.9  253.85   21.61   0.17  263.16  11.61       1\n",
       "Joint  30280.2   239.9   63.95      0  263.39  17.04       1\n",
       "Flat   30319.5  197.49  103.19   0.01   263.4   21.4       1"
      ]
     },
     "execution_count": 11,
     "metadata": {},
     "output_type": "execute_result"
    }
   ],
   "source": [
    "df_comp_WAIC = pm.compare((trace_full, trace_ind, trace_joint, trace_nogen),\n",
    "                          (hier_full, hier_ind, hier_joint, hier_nogen))\n",
    "df_comp_WAIC.index =  [\n",
    "    {ii: name for ii, name in enumerate(['Meta', 'Ind', 'Joint', 'Flat'])}[idx] \n",
    "    for idx in df_comp_WAIC.index ]\n",
    "\n",
    "df_comp_WAIC"
   ]
  },
  {
   "cell_type": "code",
   "execution_count": 12,
   "metadata": {},
   "outputs": [
    {
     "data": {
      "text/plain": [
       "<matplotlib.axes._subplots.AxesSubplot at 0x134eeec90>"
      ]
     },
     "execution_count": 12,
     "metadata": {},
     "output_type": "execute_result"
    },
    {
     "data": {
      "image/png": "[encoded data removed]",
      "text/plain": [
       "<matplotlib.figure.Figure at 0x12cf56ed0>"
      ]
     },
     "metadata": {},
     "output_type": "display_data"
    }
   ],
   "source": [
    "pm.compareplot(df_comp_WAIC)"
   ]
  },
  {
   "cell_type": "code",
   "execution_count": 13,
   "metadata": {},
   "outputs": [
    {
     "data": {
      "text/html": [
       "<div>\n",
       "<style scoped>\n",
       "    .dataframe tbody tr th:only-of-type {\n",
       "        vertical-align: middle;\n",
       "    }\n",
       "\n",
       "    .dataframe tbody tr th {\n",
       "        vertical-align: top;\n",
       "    }\n",
       "\n",
       "    .dataframe thead th {\n",
       "        text-align: right;\n",
       "    }\n",
       "</style>\n",
       "<table border=\"1\" class=\"dataframe\">\n",
       "  <thead>\n",
       "    <tr style=\"text-align: right;\">\n",
       "      <th></th>\n",
       "      <th>LOO</th>\n",
       "      <th>pLOO</th>\n",
       "      <th>dLOO</th>\n",
       "      <th>weight</th>\n",
       "      <th>SE</th>\n",
       "      <th>dSE</th>\n",
       "      <th>warning</th>\n",
       "    </tr>\n",
       "  </thead>\n",
       "  <tbody>\n",
       "    <tr>\n",
       "      <th>Meta</th>\n",
       "      <td>30216.9</td>\n",
       "      <td>293.59</td>\n",
       "      <td>0</td>\n",
       "      <td>0.82</td>\n",
       "      <td>263.04</td>\n",
       "      <td>0</td>\n",
       "      <td>1</td>\n",
       "    </tr>\n",
       "    <tr>\n",
       "      <th>Ind</th>\n",
       "      <td>30238.6</td>\n",
       "      <td>254.21</td>\n",
       "      <td>21.72</td>\n",
       "      <td>0.17</td>\n",
       "      <td>263.19</td>\n",
       "      <td>11.61</td>\n",
       "      <td>1</td>\n",
       "    </tr>\n",
       "    <tr>\n",
       "      <th>Joint</th>\n",
       "      <td>30280.8</td>\n",
       "      <td>240.19</td>\n",
       "      <td>63.9</td>\n",
       "      <td>0</td>\n",
       "      <td>263.41</td>\n",
       "      <td>17.04</td>\n",
       "      <td>1</td>\n",
       "    </tr>\n",
       "    <tr>\n",
       "      <th>Flat</th>\n",
       "      <td>30320.2</td>\n",
       "      <td>197.83</td>\n",
       "      <td>103.24</td>\n",
       "      <td>0.01</td>\n",
       "      <td>263.43</td>\n",
       "      <td>21.39</td>\n",
       "      <td>1</td>\n",
       "    </tr>\n",
       "  </tbody>\n",
       "</table>\n",
       "</div>"
      ],
      "text/plain": [
       "           LOO    pLOO    dLOO weight      SE    dSE warning\n",
       "Meta   30216.9  293.59       0   0.82  263.04      0       1\n",
       "Ind    30238.6  254.21   21.72   0.17  263.19  11.61       1\n",
       "Joint  30280.8  240.19    63.9      0  263.41  17.04       1\n",
       "Flat   30320.2  197.83  103.24   0.01  263.43  21.39       1"
      ]
     },
     "execution_count": 13,
     "metadata": {},
     "output_type": "execute_result"
    }
   ],
   "source": [
    "df_comp_LOO = pm.compare((trace_full, trace_ind, trace_joint, trace_nogen),\n",
    "                          (hier_full, hier_ind, hier_joint, hier_nogen), ic='LOO')\n",
    "df_comp_LOO.index =  [\n",
    "    {ii: name for ii, name in enumerate(['Meta', 'Ind', 'Joint', 'Flat'])}[idx] \n",
    "    for idx in df_comp_LOO.index ]\n",
    "\n",
    "df_comp_LOO"
   ]
  },
  {
   "cell_type": "code",
   "execution_count": 17,
   "metadata": {},
   "outputs": [
    {
     "data": {
      "image/png": "[encoded data removed]",
      "text/plain": [
       "<matplotlib.figure.Figure at 0x1345b1bd0>"
      ]
     },
     "metadata": {},
     "output_type": "display_data"
    }
   ],
   "source": [
    "pm.compareplot(df_comp_LOO)\n",
    "plt.savefig('exp2_ModelComp.png', dpi=300)"
   ]
  },
  {
   "cell_type": "code",
   "execution_count": null,
   "metadata": {},
   "outputs": [],
   "source": []
  }
 ],
 "metadata": {
  "kernelspec": {
   "display_name": "Python 2",
   "language": "python",
   "name": "python2"
  },
  "language_info": {
   "codemirror_mode": {
    "name": "ipython",
    "version": 2
   },
   "file_extension": ".py",
   "mimetype": "text/x-python",
   "name": "python",
   "nbconvert_exporter": "python",
   "pygments_lexer": "ipython2",
   "version": "2.7.14"
  }
 },
 "nbformat": 4,
 "nbformat_minor": 2
}
