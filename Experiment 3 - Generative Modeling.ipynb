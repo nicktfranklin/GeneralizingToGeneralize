{
 "cells": [
  {
   "cell_type": "code",
   "execution_count": 11,
   "metadata": {},
   "outputs": [],
   "source": [
    "%matplotlib inline\n",
    "import scipy\n",
    "import pandas as pd\n",
    "import numpy as np\n",
    "from tqdm import tqdm_notebook as tqdm\n",
    "\n",
    "# plotting libraries\n",
    "import matplotlib.pyplot as plt\n",
    "import seaborn as sns\n",
    "\n",
    "# custom libraries used\n",
    "from models.grid_world import Experiment\n",
    "from models.agents import IndependentClusterAgent, JointClusteringAgent, FlatAgent, MetaAgent\n",
    "from models.experiment_designs.experiment_3a import gen_task_param as gen_task_param_a\n",
    "from models.experiment_designs.experiment_3b import gen_task_param as gen_task_param_b\n",
    "\n",
    "sns.set_context('paper', font_scale=1.5)"
   ]
  },
  {
   "cell_type": "code",
   "execution_count": 2,
   "metadata": {},
   "outputs": [],
   "source": [
    "n_sims = 129\n",
    "prunning_threshold = 10.\n",
    "evaluate = False\n",
    "\n",
    "np.random.seed(11223344)\n",
    "\n",
    "# alpha is sample from the distribution\n",
    "# log(alpha) ~ N(alpha_mu, alpha_scale)\n",
    "alpha_mu = 0.0\n",
    "alpha_scale = 1.0\n",
    "\n",
    "inv_temp = 2.5\n",
    "goal_prior = 10e-20 \n",
    "prunning_threshold = 10.0\n",
    "evaluate = True\n",
    "\n",
    "# pre generate a set of tasks for consistency. \n",
    "list_tasks_a = [gen_task_param_a() for _ in range(n_sims)]\n",
    "list_tasks_b = [gen_task_param_b() for _ in range(n_sims)]\n",
    "\n",
    "# pre draw the alphas for consistency\n",
    "list_alpha = [np.exp(scipy.random.normal(loc=alpha_mu, scale=alpha_scale)) \n",
    "              for _ in range(n_sims)]\n",
    "\n",
    "def sim_agent(AgentClass, name='None', flat=False):\n",
    "    \n",
    "    results = []\n",
    "    for task, list_task in zip(['A', 'B'], [list_tasks_a, list_tasks_b]):\n",
    "    \n",
    "        for ii, (task_args, task_kwargs) in tqdm(enumerate(list_task)):\n",
    "            if not flat:\n",
    "                agent_kwargs = dict(alpha=list_alpha[ii], inv_temp=inv_temp, \n",
    "                                    goal_prior=goal_prior)\n",
    "            else:\n",
    "                agent_kwargs = dict(inv_temp=inv_temp, goal_prior=goal_prior)        \n",
    "            agent = AgentClass(Experiment(*task_args, **task_kwargs), **agent_kwargs)\n",
    "\n",
    "            _res = agent.generate(evaluate=evaluate, prunning_threshold=prunning_threshold)\n",
    "            _res[u'Model'] = name\n",
    "            _res[u'Iteration'] = [ii] * len(_res)\n",
    "            _res[u'Task'] = [task] * len(_res)\n",
    "            results.append(_res)\n",
    "    \n",
    "        \n",
    "    return pd.concat(results)\n"
   ]
  },
  {
   "cell_type": "code",
   "execution_count": 3,
   "metadata": {},
   "outputs": [
    {
     "data": {
      "application/vnd.jupyter.widget-view+json": {
       "model_id": "e57b1d7d752f4c118950c59c5767abdb",
       "version_major": 2,
       "version_minor": 0
      },
      "text/html": [
       "<p>Failed to display Jupyter Widget of type <code>HBox</code>.</p>\n",
       "<p>\n",
       "  If you're reading this message in the Jupyter Notebook or JupyterLab Notebook, it may mean\n",
       "  that the widgets JavaScript is still loading. If this message persists, it\n",
       "  likely means that the widgets JavaScript library is either not installed or\n",
       "  not enabled. See the <a href=\"https://ipywidgets.readthedocs.io/en/stable/user_install.html\">Jupyter\n",
       "  Widgets Documentation</a> for setup instructions.\n",
       "</p>\n",
       "<p>\n",
       "  If you're reading this message in another frontend (for example, a static\n",
       "  rendering on GitHub or <a href=\"https://nbviewer.jupyter.org/\">NBViewer</a>),\n",
       "  it may mean that your frontend doesn't currently support widgets.\n",
       "</p>\n"
      ],
      "text/plain": [
       "HBox(children=(IntProgress(value=1, bar_style=u'info', max=1), HTML(value=u'')))"
      ]
     },
     "metadata": {},
     "output_type": "display_data"
    },
    {
     "name": "stdout",
     "output_type": "stream",
     "text": [
      "\n"
     ]
    },
    {
     "data": {
      "application/vnd.jupyter.widget-view+json": {
       "model_id": "be0a76cb3f834057a7ef33161fbcd06b",
       "version_major": 2,
       "version_minor": 0
      },
      "text/html": [
       "<p>Failed to display Jupyter Widget of type <code>HBox</code>.</p>\n",
       "<p>\n",
       "  If you're reading this message in the Jupyter Notebook or JupyterLab Notebook, it may mean\n",
       "  that the widgets JavaScript is still loading. If this message persists, it\n",
       "  likely means that the widgets JavaScript library is either not installed or\n",
       "  not enabled. See the <a href=\"https://ipywidgets.readthedocs.io/en/stable/user_install.html\">Jupyter\n",
       "  Widgets Documentation</a> for setup instructions.\n",
       "</p>\n",
       "<p>\n",
       "  If you're reading this message in another frontend (for example, a static\n",
       "  rendering on GitHub or <a href=\"https://nbviewer.jupyter.org/\">NBViewer</a>),\n",
       "  it may mean that your frontend doesn't currently support widgets.\n",
       "</p>\n"
      ],
      "text/plain": [
       "HBox(children=(IntProgress(value=1, bar_style=u'info', max=1), HTML(value=u'')))"
      ]
     },
     "metadata": {},
     "output_type": "display_data"
    },
    {
     "name": "stdout",
     "output_type": "stream",
     "text": [
      "\n"
     ]
    },
    {
     "data": {
      "application/vnd.jupyter.widget-view+json": {
       "model_id": "3709d71f8ea6418ca4f189bb785fb294",
       "version_major": 2,
       "version_minor": 0
      },
      "text/html": [
       "<p>Failed to display Jupyter Widget of type <code>HBox</code>.</p>\n",
       "<p>\n",
       "  If you're reading this message in the Jupyter Notebook or JupyterLab Notebook, it may mean\n",
       "  that the widgets JavaScript is still loading. If this message persists, it\n",
       "  likely means that the widgets JavaScript library is either not installed or\n",
       "  not enabled. See the <a href=\"https://ipywidgets.readthedocs.io/en/stable/user_install.html\">Jupyter\n",
       "  Widgets Documentation</a> for setup instructions.\n",
       "</p>\n",
       "<p>\n",
       "  If you're reading this message in another frontend (for example, a static\n",
       "  rendering on GitHub or <a href=\"https://nbviewer.jupyter.org/\">NBViewer</a>),\n",
       "  it may mean that your frontend doesn't currently support widgets.\n",
       "</p>\n"
      ],
      "text/plain": [
       "HBox(children=(IntProgress(value=1, bar_style=u'info', max=1), HTML(value=u'')))"
      ]
     },
     "metadata": {},
     "output_type": "display_data"
    },
    {
     "name": "stdout",
     "output_type": "stream",
     "text": [
      "\n"
     ]
    },
    {
     "data": {
      "application/vnd.jupyter.widget-view+json": {
       "model_id": "e77dd446af2441bfac9a452a9707b7c1",
       "version_major": 2,
       "version_minor": 0
      },
      "text/html": [
       "<p>Failed to display Jupyter Widget of type <code>HBox</code>.</p>\n",
       "<p>\n",
       "  If you're reading this message in the Jupyter Notebook or JupyterLab Notebook, it may mean\n",
       "  that the widgets JavaScript is still loading. If this message persists, it\n",
       "  likely means that the widgets JavaScript library is either not installed or\n",
       "  not enabled. See the <a href=\"https://ipywidgets.readthedocs.io/en/stable/user_install.html\">Jupyter\n",
       "  Widgets Documentation</a> for setup instructions.\n",
       "</p>\n",
       "<p>\n",
       "  If you're reading this message in another frontend (for example, a static\n",
       "  rendering on GitHub or <a href=\"https://nbviewer.jupyter.org/\">NBViewer</a>),\n",
       "  it may mean that your frontend doesn't currently support widgets.\n",
       "</p>\n"
      ],
      "text/plain": [
       "HBox(children=(IntProgress(value=1, bar_style=u'info', max=1), HTML(value=u'')))"
      ]
     },
     "metadata": {},
     "output_type": "display_data"
    },
    {
     "name": "stdout",
     "output_type": "stream",
     "text": [
      "\n"
     ]
    },
    {
     "data": {
      "application/vnd.jupyter.widget-view+json": {
       "model_id": "f355014a57b949daa029818176f0914d",
       "version_major": 2,
       "version_minor": 0
      },
      "text/html": [
       "<p>Failed to display Jupyter Widget of type <code>HBox</code>.</p>\n",
       "<p>\n",
       "  If you're reading this message in the Jupyter Notebook or JupyterLab Notebook, it may mean\n",
       "  that the widgets JavaScript is still loading. If this message persists, it\n",
       "  likely means that the widgets JavaScript library is either not installed or\n",
       "  not enabled. See the <a href=\"https://ipywidgets.readthedocs.io/en/stable/user_install.html\">Jupyter\n",
       "  Widgets Documentation</a> for setup instructions.\n",
       "</p>\n",
       "<p>\n",
       "  If you're reading this message in another frontend (for example, a static\n",
       "  rendering on GitHub or <a href=\"https://nbviewer.jupyter.org/\">NBViewer</a>),\n",
       "  it may mean that your frontend doesn't currently support widgets.\n",
       "</p>\n"
      ],
      "text/plain": [
       "HBox(children=(IntProgress(value=1, bar_style=u'info', max=1), HTML(value=u'')))"
      ]
     },
     "metadata": {},
     "output_type": "display_data"
    },
    {
     "name": "stdout",
     "output_type": "stream",
     "text": [
      "\n"
     ]
    },
    {
     "data": {
      "application/vnd.jupyter.widget-view+json": {
       "model_id": "8bf6458522e84aa396e97e705a17e047",
       "version_major": 2,
       "version_minor": 0
      },
      "text/html": [
       "<p>Failed to display Jupyter Widget of type <code>HBox</code>.</p>\n",
       "<p>\n",
       "  If you're reading this message in the Jupyter Notebook or JupyterLab Notebook, it may mean\n",
       "  that the widgets JavaScript is still loading. If this message persists, it\n",
       "  likely means that the widgets JavaScript library is either not installed or\n",
       "  not enabled. See the <a href=\"https://ipywidgets.readthedocs.io/en/stable/user_install.html\">Jupyter\n",
       "  Widgets Documentation</a> for setup instructions.\n",
       "</p>\n",
       "<p>\n",
       "  If you're reading this message in another frontend (for example, a static\n",
       "  rendering on GitHub or <a href=\"https://nbviewer.jupyter.org/\">NBViewer</a>),\n",
       "  it may mean that your frontend doesn't currently support widgets.\n",
       "</p>\n"
      ],
      "text/plain": [
       "HBox(children=(IntProgress(value=1, bar_style=u'info', max=1), HTML(value=u'')))"
      ]
     },
     "metadata": {},
     "output_type": "display_data"
    },
    {
     "name": "stdout",
     "output_type": "stream",
     "text": [
      "\n"
     ]
    },
    {
     "data": {
      "application/vnd.jupyter.widget-view+json": {
       "model_id": "50ecf1b5f6ac41298ced04aa5fb2b600",
       "version_major": 2,
       "version_minor": 0
      },
      "text/html": [
       "<p>Failed to display Jupyter Widget of type <code>HBox</code>.</p>\n",
       "<p>\n",
       "  If you're reading this message in the Jupyter Notebook or JupyterLab Notebook, it may mean\n",
       "  that the widgets JavaScript is still loading. If this message persists, it\n",
       "  likely means that the widgets JavaScript library is either not installed or\n",
       "  not enabled. See the <a href=\"https://ipywidgets.readthedocs.io/en/stable/user_install.html\">Jupyter\n",
       "  Widgets Documentation</a> for setup instructions.\n",
       "</p>\n",
       "<p>\n",
       "  If you're reading this message in another frontend (for example, a static\n",
       "  rendering on GitHub or <a href=\"https://nbviewer.jupyter.org/\">NBViewer</a>),\n",
       "  it may mean that your frontend doesn't currently support widgets.\n",
       "</p>\n"
      ],
      "text/plain": [
       "HBox(children=(IntProgress(value=1, bar_style=u'info', max=1), HTML(value=u'')))"
      ]
     },
     "metadata": {},
     "output_type": "display_data"
    },
    {
     "name": "stdout",
     "output_type": "stream",
     "text": [
      "\n"
     ]
    },
    {
     "data": {
      "application/vnd.jupyter.widget-view+json": {
       "model_id": "01fa3e5c835e4493ad828cf6eddf74a0",
       "version_major": 2,
       "version_minor": 0
      },
      "text/html": [
       "<p>Failed to display Jupyter Widget of type <code>HBox</code>.</p>\n",
       "<p>\n",
       "  If you're reading this message in the Jupyter Notebook or JupyterLab Notebook, it may mean\n",
       "  that the widgets JavaScript is still loading. If this message persists, it\n",
       "  likely means that the widgets JavaScript library is either not installed or\n",
       "  not enabled. See the <a href=\"https://ipywidgets.readthedocs.io/en/stable/user_install.html\">Jupyter\n",
       "  Widgets Documentation</a> for setup instructions.\n",
       "</p>\n",
       "<p>\n",
       "  If you're reading this message in another frontend (for example, a static\n",
       "  rendering on GitHub or <a href=\"https://nbviewer.jupyter.org/\">NBViewer</a>),\n",
       "  it may mean that your frontend doesn't currently support widgets.\n",
       "</p>\n"
      ],
      "text/plain": [
       "HBox(children=(IntProgress(value=1, bar_style=u'info', max=1), HTML(value=u'')))"
      ]
     },
     "metadata": {},
     "output_type": "display_data"
    },
    {
     "name": "stdout",
     "output_type": "stream",
     "text": [
      "\n"
     ]
    }
   ],
   "source": [
    "results_meta = sim_agent(MetaAgent, name='Meta')\n",
    "results_ic = sim_agent(IndependentClusterAgent, name='Independent')\n",
    "results_jc = sim_agent(JointClusteringAgent, name='Joint')\n",
    "results_fl = sim_agent(FlatAgent, name='Flat', flat=True)\n",
    "results    = pd.concat([results_ic, results_jc, results_fl, results_meta])"
   ]
  },
  {
   "cell_type": "code",
   "execution_count": 4,
   "metadata": {},
   "outputs": [
    {
     "data": {
      "image/png": "[encoded data removed]",
      "text/plain": [
       "<matplotlib.figure.Figure at 0x12c84d510>"
      ]
     },
     "metadata": {},
     "output_type": "display_data"
    }
   ],
   "source": [
    "with sns.axes_style('ticks'):\n",
    "    df0 = results[results['In Goal'] & (results.Context <= 2)]\n",
    "    sns.factorplot(hue='Task', y='Reward', data=df0, kind='bar',\n",
    "                  x='Model', units='Iteration')\n",
    "    sns.despine(offset=10)"
   ]
  },
  {
   "cell_type": "code",
   "execution_count": 5,
   "metadata": {},
   "outputs": [
    {
     "data": {
      "image/png": "[encoded data removed]",
      "text/plain": [
       "<matplotlib.figure.Figure at 0x113a36d10>"
      ]
     },
     "metadata": {},
     "output_type": "display_data"
    }
   ],
   "source": [
    "with sns.axes_style('ticks'):\n",
    "    df0 = results[results['In Goal'] & (results.Context > 2)]\n",
    "    sns.factorplot(hue='Task', y='Reward', data=df0, kind='bar',\n",
    "                  x='Model', units='Iteration')\n",
    "    sns.despine(offset=10)"
   ]
  },
  {
   "cell_type": "code",
   "execution_count": 6,
   "metadata": {},
   "outputs": [
    {
     "name": "stderr",
     "output_type": "stream",
     "text": [
      "/anaconda2/envs/compgen/lib/python2.7/site-packages/ipykernel_launcher.py:4: SettingWithCopyWarning: \n",
      "A value is trying to be set on a copy of a slice from a DataFrame.\n",
      "Try using .loc[row_indexer,col_indexer] = value instead\n",
      "\n",
      "See the caveats in the documentation: http://pandas.pydata.org/pandas-docs/stable/indexing.html#indexing-view-versus-copy\n",
      "  after removing the cwd from sys.path.\n",
      "/anaconda2/envs/compgen/lib/python2.7/site-packages/pandas/core/indexing.py:537: SettingWithCopyWarning: \n",
      "A value is trying to be set on a copy of a slice from a DataFrame.\n",
      "Try using .loc[row_indexer,col_indexer] = value instead\n",
      "\n",
      "See the caveats in the documentation: http://pandas.pydata.org/pandas-docs/stable/indexing.html#indexing-view-versus-copy\n",
      "  self.obj[item] = s\n"
     ]
    },
    {
     "data": {
      "image/png": "[encoded data removed]",
      "text/plain": [
       "<matplotlib.figure.Figure at 0x127cc8c10>"
      ]
     },
     "metadata": {},
     "output_type": "display_data"
    }
   ],
   "source": [
    "with sns.axes_style('ticks'):\n",
    "    df0 = results[results['In Goal'] & (results.Context > 2) & \n",
    "                  (results['Times Seen Context'] <= 4)]\n",
    "    df0['Correct Goal'] = ['A'] * len(df0)\n",
    "    df0.loc[df0.Context == 5, 'Correct Goal'] = 'B'\n",
    "    sns.factorplot(\n",
    "        hue='Correct Goal', y='Reward', data=df0, kind='bar', col='Model',\n",
    "        x='Task', units='Iteration'\n",
    "    )\n",
    "    sns.despine(offset=10)"
   ]
  },
  {
   "cell_type": "code",
   "execution_count": 29,
   "metadata": {},
   "outputs": [
    {
     "data": {
      "image/png": "[encoded data removed]",
      "text/plain": [
       "<matplotlib.figure.Figure at 0x13d78ae90>"
      ]
     },
     "metadata": {},
     "output_type": "display_data"
    }
   ],
   "source": [
    "with sns.axes_style('ticks'):\n",
    "    df0 = results[results['In Goal'] & (results.Context > 2) & \n",
    "                  (results['Times Seen Context'] <= 4) & (results['Model'] != 'Flat')].copy()\n",
    "    df0['Correct Goal'] = ['A'] * len(df0)\n",
    "    df0.loc[df0.Context == 5, 'Correct Goal'] = 'B'\n",
    "    g = sns.factorplot(\n",
    "        hue='Correct Goal', y='Reward', data=df0, kind='bar', col='Model',\n",
    "        x='Task', units='Iteration', \n",
    "        palette='Set2', size=3.0, aspect=0.63\n",
    "    )\n",
    "    sns.despine(offset=5)\n",
    "    \n",
    "    g.set_xticklabels('Switch Repeat'.split())\n",
    "    g.set_xlabels('')\n",
    "    g.set_ylabels('Accuracy')\n",
    "    g.axes[0][0].set_yticks(np.arange(0, 1.01, 0.5))\n",
    "    g.axes[0][0].set_ylim(0, 1)\n",
    "    \n",
    "    g.axes[0][0].set_title('Indep.')\n",
    "    g.axes[0][1].set_title('Joint')\n",
    "    g.axes[0][2].set_title('Meta')\n",
    "\n",
    "\n",
    "    plt.savefig('exp3_fig_models.png', dpi=300, bbox_inches='tight')\n",
    "    "
   ]
  },
  {
   "cell_type": "code",
   "execution_count": 19,
   "metadata": {},
   "outputs": [
    {
     "data": {
      "text/plain": [
       "array([<matplotlib.axes._subplots.AxesSubplot object at 0x13c8569d0>,\n",
       "       <matplotlib.axes._subplots.AxesSubplot object at 0x137676950>,\n",
       "       <matplotlib.axes._subplots.AxesSubplot object at 0x1346abed0>],\n",
       "      dtype=object)"
      ]
     },
     "execution_count": 19,
     "metadata": {},
     "output_type": "execute_result"
    }
   ],
   "source": [
    "g.axes[0]"
   ]
  },
  {
   "cell_type": "code",
   "execution_count": 23,
   "metadata": {},
   "outputs": [
    {
     "data": {
      "image/png": "[encoded data removed]",
      "text/plain": [
       "<matplotlib.figure.Figure at 0x13f575810>"
      ]
     },
     "metadata": {},
     "output_type": "display_data"
    }
   ],
   "source": [
    "from matplotlib.ticker import NullFormatter\n",
    "\n",
    "cc = sns.color_palette('Dark2')\n",
    "\n",
    "with sns.axes_style('ticks'):\n",
    "\n",
    "    df0 = results_wMeta[(results_wMeta['Steps Taken']==1) & \n",
    "                  (results_wMeta['Model'] == 'Meta') & (results_wMeta.Task == 'A')\n",
    "                 ].copy()\n",
    "\n",
    "    fig, axes = plt.subplots(1, 2, figsize=(10, 4))\n",
    "\n",
    "    ax = axes[0]\n",
    "    x = range(1, int(df0['Trial Number'].max()) + 2)\n",
    "    y = df0.groupby('Trial Number')['Joint Probability'].mean()\n",
    "    y_err = df0.groupby('Trial Number')['Joint Probability'].std() / np.sqrt(n_sims)\n",
    "    ax.plot(x, y, '-', color=cc[0], label='Independent Task')\n",
    "    ax.fill_between(x, y-y_err, y+y_err, alpha=0.25, color=cc[0])\n",
    "\n",
    "    \n",
    "    df0 = results_wMeta[(results_wMeta['Steps Taken']==1) & \n",
    "              (results_wMeta['Model'] == 'Meta') & (results_wMeta.Task == 'B')\n",
    "             ].copy()\n",
    "\n",
    "    x = range(1, int(df0['Trial Number'].max()) + 2)\n",
    "    y = df0.groupby('Trial Number')['Joint Probability'].mean()\n",
    "    y_err = df0.groupby('Trial Number')['Joint Probability'].std() / np.sqrt(n_sims)\n",
    "    ax.plot(x, y, '-',  color=cc[1], label='Joint Task')\n",
    "    ax.fill_between(x, y-y_err, y+y_err, alpha=0.25,  color=cc[1])\n",
    "    ax.set_ylabel('Probability of Joint Agent as Actor')\n",
    "    ax.set_xlabel('Trial')\n",
    "    xlb, xub = ax.get_xlim()\n",
    "    ax.plot([xlb, xub], [0.5, 0.5], 'k:', alpha=0.75)\n",
    "    ax.set_xlim(xlb, xub)\n",
    "    ax.set_ylim([0.1, 0.9])\n",
    "    ax.legend()\n",
    "    \n",
    "    ax = axes[1]\n",
    "    y = df0.groupby('Trial Number')['Ind Weight'].mean()\n",
    "    y_err = df0.groupby('Trial Number')['Ind Weight'].std() / np.sqrt(n_sims)\n",
    "    ax.plot(x, y, 'r-')\n",
    "    ax.fill_between(x, y-y_err, y+y_err, alpha=0.2, color='r')\n",
    "\n",
    "    y = df0.groupby('Trial Number')['Joint Weight'].mean()\n",
    "    y_err = df0.groupby('Trial Number')['Joint Weight'].std() / np.sqrt(n_sims)\n",
    "    ax.plot(x, y, '-')\n",
    "    ax.fill_between(x, y-y_err, y+y_err, alpha=0.2)\n",
    "    plt.legend(loc='best')\n",
    "    ax.set_xlabel('Trial')\n",
    "    ax.set_ylabel('Unnormalized log Posterior')    \n",
    "    ax.set_xlim(xlb, xub)\n",
    "\n",
    "    plt.subplots_adjust(hspace=0.3)\n",
    "    sns.despine()\n",
    "    plt.savefig('Exp3_fig4.png', dpi=300)"
   ]
  },
  {
   "cell_type": "code",
   "execution_count": 17,
   "metadata": {},
   "outputs": [
    {
     "data": {
      "application/vnd.jupyter.widget-view+json": {
       "model_id": "d52b368919664964a2e1ea3625bd17f7",
       "version_major": 2,
       "version_minor": 0
      },
      "text/html": [
       "<p>Failed to display Jupyter Widget of type <code>interactive</code>.</p>\n",
       "<p>\n",
       "  If you're reading this message in the Jupyter Notebook or JupyterLab Notebook, it may mean\n",
       "  that the widgets JavaScript is still loading. If this message persists, it\n",
       "  likely means that the widgets JavaScript library is either not installed or\n",
       "  not enabled. See the <a href=\"https://ipywidgets.readthedocs.io/en/stable/user_install.html\">Jupyter\n",
       "  Widgets Documentation</a> for setup instructions.\n",
       "</p>\n",
       "<p>\n",
       "  If you're reading this message in another frontend (for example, a static\n",
       "  rendering on GitHub or <a href=\"https://nbviewer.jupyter.org/\">NBViewer</a>),\n",
       "  it may mean that your frontend doesn't currently support widgets.\n",
       "</p>\n"
      ],
      "text/plain": [
       "interactive(children=(Dropdown(description=u'name', options=('Set1', 'Set2', 'Set3', 'Paired', 'Accent', 'Pastel1', 'Pastel2', 'Dark2'), value='Set1'), IntSlider(value=9, description=u'n', max=16, min=2), FloatSlider(value=1.0, description=u'desat', max=1.0), Output()), _dom_classes=('widget-interact',))"
      ]
     },
     "metadata": {},
     "output_type": "display_data"
    },
    {
     "data": {
      "text/plain": [
       "[(0.8941176470588235, 0.10196078431372557, 0.10980392156862737),\n",
       " (0.21568627450980393, 0.4941176470588236, 0.7215686274509804),\n",
       " (0.3019607843137256, 0.6862745098039216, 0.29019607843137263),\n",
       " (0.5960784313725492, 0.3058823529411765, 0.6392156862745098),\n",
       " (1.0, 0.4980392156862745, 0.0),\n",
       " (0.9999999999999998, 1.0, 0.19999999999999996),\n",
       " (0.6509803921568629, 0.33725490196078434, 0.1568627450980391),\n",
       " (0.9686274509803922, 0.5058823529411766, 0.7490196078431374),\n",
       " (0.6, 0.6, 0.6)]"
      ]
     },
     "execution_count": 17,
     "metadata": {},
     "output_type": "execute_result"
    }
   ],
   "source": [
    "sns.choose_colorbrewer_palette('qual')"
   ]
  },
  {
   "cell_type": "code",
   "execution_count": null,
   "metadata": {},
   "outputs": [],
   "source": []
  }
 ],
 "metadata": {
  "kernelspec": {
   "display_name": "Python 2",
   "language": "python",
   "name": "python2"
  },
  "language_info": {
   "codemirror_mode": {
    "name": "ipython",
    "version": 2
   },
   "file_extension": ".py",
   "mimetype": "text/x-python",
   "name": "python",
   "nbconvert_exporter": "python",
   "pygments_lexer": "ipython2",
   "version": "2.7.14"
  }
 },
 "nbformat": 4,
 "nbformat_minor": 2
}
